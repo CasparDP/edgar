{
 "cells": [
  {
   "cell_type": "markdown",
   "metadata": {},
   "source": [
    "# handle_cusip_cik_exceptions.ipynb\n",
    "\n",
    "This notebook is designed to both give users information on the code used to create `edgar.cusip_cik_exceptions` and to help them keep this table up-to-date in an iterative fashion. In the first few cells below, we provide the initial functions that help us perform the processes of approximate string matching and name normalization described in the README `cusip_cik_exceptions.md`. We then define some fundamental dataframes, including `cusip_cik` which is a read of the data in `edgar.cusip_cik`, `valid9s_above_10`, the set of valid 9-digit cusips from `cusip_cik` with a frequency more than or equal to 10, `map_df` which helps normalize names with respect to the most common acronyms occurring in `cusipm.issuer`, `issuers` which contains the data in `cusipm.issuer`, and finally `stocknames` which contains the information from `crsp.stocknames`."
   ]
  },
  {
   "cell_type": "code",
   "execution_count": 42,
   "metadata": {
    "collapsed": true
   },
   "outputs": [],
   "source": [
    "library(dplyr, warn.conflicts = FALSE)\n",
    "library(DBI)\n",
    "\n",
    "\n",
    "normalize_name_string <- function(name) {\n",
    "\n",
    "    title_normed <- stringr::str_match_all(stringr::str_to_lower(name), '[a-z0-9]')[[1]][,1] %>% paste0(collapse = \"\")\n",
    "\n",
    "    return(title_normed)\n",
    "\n",
    "}\n",
    "\n",
    "\n",
    "\n",
    "get_name_similarity_index <- function(name_1, name_2) {\n",
    "\n",
    "    reduced_name_1 <- normalize_name_string(name_1)\n",
    "\n",
    "    reduced_name_2 <- normalize_name_string(name_2)\n",
    "\n",
    "    max_len <- max(nchar(reduced_name_1), nchar(reduced_name_2))\n",
    "\n",
    "    ratio <- (max_len - adist(reduced_name_1, reduced_name_2))/max_len\n",
    "\n",
    "    return(ratio)\n",
    "\n",
    "}\n",
    "\n",
    "\n",
    "\n",
    "get_one_bag_df <- function(match_df) {\n",
    "\n",
    "    l_1 <- stringr::str_match_all(match_df$company_name, '[^\\\\s]+')\n",
    "    l_2 <- stringr::str_match_all(match_df$issuer_name, '[^\\\\s]+')\n",
    "\n",
    "    min_l <- unlist(lapply(1:nrow(match_df), function(i) {min(nrow(l_1[[i]]), nrow(l_2[[i]]))}))\n",
    "\n",
    "    vec_1 <- c()\n",
    "    vec_2 <- c()\n",
    "\n",
    "    for(i in 1:length(min_l)) {\n",
    "\n",
    "        vec_1 <- c(vec_1, l_1[[i]][1:min_l[i], 1])\n",
    "        vec_2 <- c(vec_2, l_2[[i]][1:min_l[i], 1])\n",
    "\n",
    "    }\n",
    "\n",
    "    df <- data.frame(word1 = vec_1, word2 = vec_2, stringsAsFactors = FALSE)\n",
    "\n",
    "\n",
    "    return(df)\n",
    "\n",
    "}\n",
    "\n",
    "\n"
   ]
  },
  {
   "cell_type": "code",
   "execution_count": 245,
   "metadata": {
    "collapsed": true
   },
   "outputs": [],
   "source": [
    "pg <- dbConnect(RPostgreSQL::PostgreSQL())"
   ]
  },
  {
   "cell_type": "code",
   "execution_count": 246,
   "metadata": {
    "collapsed": true
   },
   "outputs": [],
   "source": [
    "cusip_cik <- tbl(pg, sql(\"SELECT * FROM edgar.cusip_cik_test\"))"
   ]
  },
  {
   "cell_type": "code",
   "execution_count": 234,
   "metadata": {
    "collapsed": true
   },
   "outputs": [],
   "source": [
    "issuers <- tbl(pg, sql('SELECT * FROM cusipm.issuer')) %>% collect()\n",
    "issuers <- issuers %>% rename(cusip6 = issuer_num) # change issuer_num to cusip6\n",
    "\n",
    "\n",
    "\n",
    "# Annoying to have the company names (issuer_name_1, 2 and 3) and their name histories (issuer_adl_1, 2, 3 and 4) split over\n",
    "# several fields. Amalgamate them to form issuer_name and issuer_adl respectively\n",
    "\n",
    "issuers <- issuers %>%\n",
    "    mutate(issuer_name = ifelse(is.na(issuer_name_2), issuer_name_1, ifelse(is.na(issuer_name_3), \n",
    "    paste(issuer_name_1, issuer_name_2), paste(issuer_name_1, issuer_name_2, issuer_name_3)))) \n",
    "\n",
    "\n",
    "issuers <- issuers %>%\n",
    "    mutate(issuer_adl = ifelse(is.na(issuer_adl_1), NA, issuer_adl_1)) %>%\n",
    "    mutate(issuer_adl = ifelse(is.na(issuer_adl_2), issuer_adl, paste(issuer_adl, issuer_adl_2))) %>%\n",
    "    mutate(issuer_adl = ifelse(is.na(issuer_adl_3), issuer_adl, paste(issuer_adl, issuer_adl_3))) %>%\n",
    "    mutate(issuer_adl = ifelse(is.na(issuer_adl_4), issuer_adl, paste(issuer_adl, issuer_adl_4))) "
   ]
  },
  {
   "cell_type": "code",
   "execution_count": 235,
   "metadata": {},
   "outputs": [
    {
     "data": {
      "text/html": [
       "<table>\n",
       "<thead><tr><th scope=col>cusip6</th><th scope=col>issuer_name</th><th scope=col>issuer_adl</th></tr></thead>\n",
       "<tbody>\n",
       "\t<tr><td>000021                                                                                              </td><td><span style=white-space:pre-wrap>A &amp; A INTL INDS INC        </span>                             </td><td><span style=white-space:pre-wrap>FORMERLY A AND A FOODS LTD TO 08/05/1997                    </span></td></tr>\n",
       "\t<tr><td>000024                                                                                              </td><td><span style=white-space:pre-wrap>A &amp; B TRANSN SERVICES INC  </span>                             </td><td><span style=white-space:pre-wrap>NA                                                          </span></td></tr>\n",
       "\t<tr><td>000027                                                                                              </td><td><span style=white-space:pre-wrap>A &amp; E CAP FDG INC          </span>                             </td><td><span style=white-space:pre-wrap>NA                                                          </span></td></tr>\n",
       "\t<tr><td>00002T                                                                                              </td><td><span style=white-space:pre-wrap>A&amp;B GEOSCIENCE CORP        </span>                             </td><td><span style=white-space:pre-wrap>NAME CHANGED TO ARAWAK ENERGY CORP 05/05/2003     SEE 038743</span></td></tr>\n",
       "\t<tr><td>000032                                                                                              </td><td><span style=white-space:pre-wrap>A &amp; E PLASTIK PAK INC      </span>                             </td><td><span style=white-space:pre-wrap>CONVERTED TO PRIVATE CO 06/22/1978                          </span></td></tr>\n",
       "\t<tr><td>000060                                                                                              </td><td><span style=white-space:pre-wrap>A&amp; ECONOMY LODGING ASSOC   </span>                             </td><td><span style=white-space:pre-wrap>NA                                                          </span></td></tr>\n",
       "\t<tr><td>00007T                                                                                              </td><td><span style=white-space:pre-wrap>A &amp; F ENTMT CORP           </span>                             </td><td><span style=white-space:pre-wrap>NA                                                          </span></td></tr>\n",
       "\t<tr><td>000096                                                                                              </td><td><span style=white-space:pre-wrap>A &amp; F INVESTING CO         </span>                             </td><td><span style=white-space:pre-wrap>NA                                                          </span></td></tr>\n",
       "\t<tr><td>0000CG                                                      </td><td>CGA MINING LTD CDS-                                         </td><td>NA                                                          </td></tr>\n",
       "\t<tr><td>000101                                                                                              </td><td>A &amp; J VENTURE CAP GROUP INC                                                                     </td><td><span style=white-space:pre-wrap>NAME CHANGED TO RELIABRAND INC 02/24/2011 SEE 75944L        </span></td></tr>\n",
       "</tbody>\n",
       "</table>\n"
      ],
      "text/latex": [
       "\\begin{tabular}{r|lll}\n",
       " cusip6 & issuer\\_name & issuer\\_adl\\\\\n",
       "\\hline\n",
       "\t 000021                                                       & A \\& A INTL INDS INC                                        & FORMERLY A AND A FOODS LTD TO 08/05/1997                    \\\\\n",
       "\t 000024                                                       & A \\& B TRANSN SERVICES INC                                  & NA                                                          \\\\\n",
       "\t 000027                                                       & A \\& E CAP FDG INC                                          & NA                                                          \\\\\n",
       "\t 00002T                                                       & A\\&B GEOSCIENCE CORP                                        & NAME CHANGED TO ARAWAK ENERGY CORP 05/05/2003     SEE 038743\\\\\n",
       "\t 000032                                                       & A \\& E PLASTIK PAK INC                                      & CONVERTED TO PRIVATE CO 06/22/1978                          \\\\\n",
       "\t 000060                                                       & A\\& ECONOMY LODGING ASSOC                                   & NA                                                          \\\\\n",
       "\t 00007T                                                       & A \\& F ENTMT CORP                                           & NA                                                          \\\\\n",
       "\t 000096                                                       & A \\& F INVESTING CO                                         & NA                                                          \\\\\n",
       "\t 0000CG                                                       & CGA MINING LTD CDS-                                          & NA                                                          \\\\\n",
       "\t 000101                                                       & A \\& J VENTURE CAP GROUP INC                                & NAME CHANGED TO RELIABRAND INC 02/24/2011 SEE 75944L        \\\\\n",
       "\\end{tabular}\n"
      ],
      "text/markdown": [
       "\n",
       "cusip6 | issuer_name | issuer_adl | \n",
       "|---|---|---|---|---|---|---|---|---|---|\n",
       "| 000021                                                       | A & A INTL INDS INC                                          | FORMERLY A AND A FOODS LTD TO 08/05/1997                     | \n",
       "| 000024                                                       | A & B TRANSN SERVICES INC                                    | NA                                                           | \n",
       "| 000027                                                       | A & E CAP FDG INC                                            | NA                                                           | \n",
       "| 00002T                                                       | A&B GEOSCIENCE CORP                                          | NAME CHANGED TO ARAWAK ENERGY CORP 05/05/2003     SEE 038743 | \n",
       "| 000032                                                       | A & E PLASTIK PAK INC                                        | CONVERTED TO PRIVATE CO 06/22/1978                           | \n",
       "| 000060                                                       | A& ECONOMY LODGING ASSOC                                     | NA                                                           | \n",
       "| 00007T                                                       | A & F ENTMT CORP                                             | NA                                                           | \n",
       "| 000096                                                       | A & F INVESTING CO                                           | NA                                                           | \n",
       "| 0000CG                                                       | CGA MINING LTD CDS-                                          | NA                                                           | \n",
       "| 000101                                                       | A & J VENTURE CAP GROUP INC                                  | NAME CHANGED TO RELIABRAND INC 02/24/2011 SEE 75944L         | \n",
       "\n",
       "\n"
      ],
      "text/plain": [
       "   cusip6 issuer_name                \n",
       "1  000021 A & A INTL INDS INC        \n",
       "2  000024 A & B TRANSN SERVICES INC  \n",
       "3  000027 A & E CAP FDG INC          \n",
       "4  00002T A&B GEOSCIENCE CORP        \n",
       "5  000032 A & E PLASTIK PAK INC      \n",
       "6  000060 A& ECONOMY LODGING ASSOC   \n",
       "7  00007T A & F ENTMT CORP           \n",
       "8  000096 A & F INVESTING CO         \n",
       "9  0000CG CGA MINING LTD CDS-        \n",
       "10 000101 A & J VENTURE CAP GROUP INC\n",
       "   issuer_adl                                                  \n",
       "1  FORMERLY A AND A FOODS LTD TO 08/05/1997                    \n",
       "2  NA                                                          \n",
       "3  NA                                                          \n",
       "4  NAME CHANGED TO ARAWAK ENERGY CORP 05/05/2003     SEE 038743\n",
       "5  CONVERTED TO PRIVATE CO 06/22/1978                          \n",
       "6  NA                                                          \n",
       "7  NA                                                          \n",
       "8  NA                                                          \n",
       "9  NA                                                          \n",
       "10 NAME CHANGED TO RELIABRAND INC 02/24/2011 SEE 75944L        "
      ]
     },
     "metadata": {},
     "output_type": "display_data"
    }
   ],
   "source": [
    "issuers %>% select(cusip6, issuer_name, issuer_adl) %>% head(10)"
   ]
  },
  {
   "cell_type": "code",
   "execution_count": 236,
   "metadata": {
    "collapsed": true
   },
   "outputs": [],
   "source": [
    "# This cell takes all matches with cusipm.issuer from the cases with valid 9 digit cusips, then creates map_df\n",
    "\n",
    "\n",
    "m9_issuers <- cusip_cik %>% distinct(cik, cusip, check_digit, company_name) %>% collect() %>%\n",
    "    filter(nchar(cusip) == 9 & substr(cusip, 9, 9) == as.character(check_digit)) %>%\n",
    "    mutate(cusip6 = substr(cusip, 1, 6)) %>%\n",
    "    inner_join(issuers, by = 'cusip6')\n",
    "\n",
    "m9_issuers <- m9_issuers %>%\n",
    "    mutate(issuer_name = ifelse(is.na(issuer_name_2), issuer_name_1,\n",
    "    ifelse(is.na(issuer_name_3), paste(issuer_name_1, issuer_name_2), paste(issuer_name_1, issuer_name_2, issuer_name_3))))\n",
    "\n",
    "m9_issuers <- m9_issuers %>%\n",
    "        mutate(issuer_adl = ifelse(is.na(issuer_adl_1), NA, issuer_adl_1)) %>%\n",
    "        mutate(issuer_adl = ifelse(is.na(issuer_adl_2), issuer_adl, paste(issuer_adl, issuer_adl_2))) %>%\n",
    "        mutate(issuer_adl = ifelse(is.na(issuer_adl_3), issuer_adl, paste(issuer_adl, issuer_adl_3))) %>%\n",
    "        mutate(issuer_adl = ifelse(is.na(issuer_adl_4), issuer_adl, paste(issuer_adl, issuer_adl_4)))\n",
    "\n",
    "\n",
    "\n",
    "m9_issuers <- m9_issuers %>% mutate(company_name_raw = stringr::str_to_upper(company_name),\n",
    "                                    issuer_name_raw = stringr::str_to_upper(issuer_name)) %>%\n",
    "    mutate(company_name_raw = gsub('[^A-Z0-9\\\\s]', ' ', company_name_raw),\n",
    "           issuer_name_raw = gsub('[^A-Z0-9\\\\s]', ' ', issuer_name_raw)) %>%\n",
    "    mutate(company_name_raw = gsub('\\\\s+', ' ', company_name_raw),\n",
    "           issuer_name_raw = gsub('\\\\s+', ' ', issuer_name_raw)) %>%\n",
    "    mutate(company_name_raw = gsub('\\\\s+', ' ', company_name_raw),\n",
    "           issuer_name_raw = gsub('\\\\s+', ' ', issuer_name_raw)) %>%\n",
    "    mutate(company_name_raw = gsub('^\\\\s', '', company_name_raw),\n",
    "           issuer_name_raw = gsub('^\\\\s', '', issuer_name_raw)) %>%\n",
    "    mutate(company_name_raw = gsub('\\\\s$', '', company_name_raw), issuer_name_raw = gsub('\\\\s$', '', issuer_name_raw))\n",
    "\n",
    "\n",
    "m9_issuers$sim_index_raw <- unlist(lapply(1:nrow(m9_issuers),\n",
    "        function(i) {get_name_similarity_index(m9_issuers$company_name_raw[i], m9_issuers$issuer_name_raw[i])}))\n",
    "\n",
    "\n",
    "one_bag_df <- get_one_bag_df(m9_issuers %>% filter(sim_index_raw >= 0.6) %>%\n",
    "                                 select(company_name_raw, issuer_name_raw) %>%\n",
    "                                 rename(company_name = company_name_raw, issuer_name = issuer_name_raw))"
   ]
  },
  {
   "cell_type": "code",
   "execution_count": 237,
   "metadata": {},
   "outputs": [
    {
     "name": "stdout",
     "output_type": "stream",
     "text": [
      "# A tibble: 500 x 3\n",
      "# Groups:   word1 [465]\n",
      "           word1 word2  freq\n",
      "           <chr> <chr> <int>\n",
      " 1          FUND    FD  1385\n",
      " 2         TRUST    TR  1313\n",
      " 3      HOLDINGS HLDGS   967\n",
      " 4     FINANCIAL  FINL   826\n",
      " 5       SYSTEMS   SYS   635\n",
      " 6 INTERNATIONAL  INTL   634\n",
      " 7     MUNICIPAL   MUN   584\n",
      " 8      SERVICES  SVCS   462\n",
      " 9    INDUSTRIES  INDS   426\n",
      "10     RESOURCES   RES   416\n",
      "# ... with 490 more rows\n"
     ]
    }
   ],
   "source": [
    "one_bag_df %>% filter(word1 != word2 & nchar(word1) > 1 & nchar(word2) > 1 &\n",
    "    substr(word1, 1, 1) == substr(word2, 1, 1) & nchar(word1) > nchar(word2) &\n",
    "    ifelse(substr(word1, nchar(word1), nchar(word1)) == 'S', substr(word2, nchar(word2), nchar(word2)) == 'S', TRUE)) %>%\n",
    "    group_by(word1, word2) %>% summarise(freq = n()) %>% arrange(desc(freq)) %>% print(n=10)"
   ]
  },
  {
   "cell_type": "code",
   "execution_count": 238,
   "metadata": {
    "collapsed": true
   },
   "outputs": [],
   "source": [
    "# Use this cell to define the rows in one_bag_df which are not good mappings between words and abbreviations\n",
    "bad_maps <- c(181, 198, 213, 218, 219, 227, 228, 238, 241, 242)"
   ]
  },
  {
   "cell_type": "code",
   "execution_count": 239,
   "metadata": {},
   "outputs": [
    {
     "data": {
      "text/html": [
       "<table>\n",
       "<thead><tr><th scope=col>word1</th><th scope=col>word2</th><th scope=col>freq</th></tr></thead>\n",
       "<tbody>\n",
       "\t<tr><td>INCOME    </td><td>II        </td><td>5         </td></tr>\n",
       "\t<tr><td>CORP      </td><td>CAP       </td><td>4         </td></tr>\n",
       "\t<tr><td>PUBLIC    </td><td>PLC       </td><td>4         </td></tr>\n",
       "\t<tr><td>COM       </td><td>CO        </td><td>3         </td></tr>\n",
       "\t<tr><td>DEUTSCHE  </td><td>DWS       </td><td>3         </td></tr>\n",
       "\t<tr><td>INC\\     </td><td>INC       </td><td>3         </td></tr>\n",
       "\t<tr><td>INSURED   </td><td>INVT      </td><td>3         </td></tr>\n",
       "\t<tr><td>SIMPLETECH</td><td>SIMPLE    </td><td>3         </td></tr>\n",
       "\t<tr><td>TERM      </td><td>TR        </td><td>3         </td></tr>\n",
       "\t<tr><td>TREE      </td><td>TR        </td><td>3         </td></tr>\n",
       "</tbody>\n",
       "</table>\n"
      ],
      "text/latex": [
       "\\begin{tabular}{r|lll}\n",
       " word1 & word2 & freq\\\\\n",
       "\\hline\n",
       "\t INCOME     & II         & 5         \\\\\n",
       "\t CORP       & CAP        & 4         \\\\\n",
       "\t PUBLIC     & PLC        & 4         \\\\\n",
       "\t COM        & CO         & 3         \\\\\n",
       "\t DEUTSCHE   & DWS        & 3         \\\\\n",
       "\t INC\\textbackslash{}      & INC                       & 3                        \\\\\n",
       "\t INSURED    & INVT       & 3         \\\\\n",
       "\t SIMPLETECH & SIMPLE     & 3         \\\\\n",
       "\t TERM       & TR         & 3         \\\\\n",
       "\t TREE       & TR         & 3         \\\\\n",
       "\\end{tabular}\n"
      ],
      "text/markdown": [
       "\n",
       "word1 | word2 | freq | \n",
       "|---|---|---|---|---|---|---|---|---|---|\n",
       "| INCOME     | II         | 5          | \n",
       "| CORP       | CAP        | 4          | \n",
       "| PUBLIC     | PLC        | 4          | \n",
       "| COM        | CO         | 3          | \n",
       "| DEUTSCHE   | DWS        | 3          | \n",
       "| INC\\      | INC        | 3          | \n",
       "| INSURED    | INVT       | 3          | \n",
       "| SIMPLETECH | SIMPLE     | 3          | \n",
       "| TERM       | TR         | 3          | \n",
       "| TREE       | TR         | 3          | \n",
       "\n",
       "\n"
      ],
      "text/plain": [
       "   word1      word2  freq\n",
       "1  INCOME     II     5   \n",
       "2  CORP       CAP    4   \n",
       "3  PUBLIC     PLC    4   \n",
       "4  COM        CO     3   \n",
       "5  DEUTSCHE   DWS    3   \n",
       "6  INC\\\\      INC    3   \n",
       "7  INSURED    INVT   3   \n",
       "8  SIMPLETECH SIMPLE 3   \n",
       "9  TERM       TR     3   \n",
       "10 TREE       TR     3   "
      ]
     },
     "metadata": {},
     "output_type": "display_data"
    }
   ],
   "source": [
    "one_bag_df %>% filter(word1 != word2 & nchar(word1) > 1 & nchar(word2) > 1 &\n",
    "    substr(word1, 1, 1) == substr(word2, 1, 1) & nchar(word1) > nchar(word2) &\n",
    "    ifelse(substr(word1, nchar(word1), nchar(word1)) == 'S', substr(word2, nchar(word2), nchar(word2)) == 'S', TRUE)) %>%\n",
    "    group_by(word1, word2) %>% summarise(freq = n()) %>%\n",
    "    filter(freq >= 3) %>% arrange(desc(freq)) %>% ungroup() %>% slice(bad_maps)"
   ]
  },
  {
   "cell_type": "code",
   "execution_count": 240,
   "metadata": {
    "collapsed": true
   },
   "outputs": [],
   "source": [
    "# Now let's define the dataframe map_df, which we will utilize to construct the normalized names company_name_norm and \n",
    "# issuer_name_norm\n",
    "\n",
    "\n",
    "map_df <- one_bag_df %>% filter(word1 != word2 & nchar(word1) > 1 & nchar(word2) > 1 &\n",
    "        substr(word1, 1, 1) == substr(word2, 1, 1) & nchar(word1) > nchar(word2) &\n",
    "    ifelse(substr(word1, nchar(word1), nchar(word1)) == 'S', substr(word2, nchar(word2), nchar(word2)) == 'S', TRUE)) %>%\n",
    "    group_by(word1, word2) %>% summarise(freq = n()) %>%\n",
    "    filter(freq >= 3) %>% arrange(desc(freq)) %>% ungroup() %>% slice(-bad_maps) %>% select(word1, word2)\n",
    "\n",
    "\n",
    "map_df$regex1 <- paste0('(?:\\\\s|^)', map_df$word1, '(?:\\\\s|$)')\n",
    "map_df$regex2 <- paste0(' ', map_df$word2, ' ')\n",
    "\n",
    "\n",
    "m9_issuers$company_name_norm <- stringi::stri_replace_all_regex(m9_issuers$company_name_raw,\n",
    "                                                                map_df$regex1, map_df$regex2, vectorize_all = FALSE) %>%\n",
    "    gsub('^\\\\s', '', .) %>% gsub('\\\\s$', '', .)\n",
    "\n",
    "m9_issuers$issuer_name_norm <- stringi::stri_replace_all_regex(m9_issuers$issuer_name_raw,\n",
    "                                                               map_df$regex1, map_df$regex2, vectorize_all = FALSE) %>%\n",
    "    gsub('^\\\\s', '', .) %>% gsub('\\\\s$', '', .)\n",
    "\n",
    "\n",
    "m9_issuers$sim_index_norm <- unlist(lapply(1:nrow(m9_issuers),\n",
    "            function(i) {get_name_similarity_index(m9_issuers$company_name_norm[i], m9_issuers$issuer_name_norm[i])}))"
   ]
  },
  {
   "cell_type": "code",
   "execution_count": 241,
   "metadata": {},
   "outputs": [
    {
     "data": {
      "text/html": [
       "<table>\n",
       "<thead><tr><th scope=col>word1</th><th scope=col>word2</th><th scope=col>regex1</th><th scope=col>regex2</th></tr></thead>\n",
       "<tbody>\n",
       "\t<tr><td>FUND                           </td><td>FD                             </td><td>(?:\\s|^)FUND(?:\\s|$)         </td><td> FD                            </td></tr>\n",
       "\t<tr><td>TRUST                          </td><td>TR                             </td><td>(?:\\s|^)TRUST(?:\\s|$)        </td><td> TR                            </td></tr>\n",
       "\t<tr><td>HOLDINGS                       </td><td>HLDGS                          </td><td>(?:\\s|^)HOLDINGS(?:\\s|$)     </td><td> HLDGS                         </td></tr>\n",
       "\t<tr><td>FINANCIAL                      </td><td>FINL                           </td><td>(?:\\s|^)FINANCIAL(?:\\s|$)    </td><td> FINL                          </td></tr>\n",
       "\t<tr><td>SYSTEMS                        </td><td>SYS                            </td><td>(?:\\s|^)SYSTEMS(?:\\s|$)      </td><td> SYS                           </td></tr>\n",
       "\t<tr><td>INTERNATIONAL                  </td><td>INTL                           </td><td>(?:\\s|^)INTERNATIONAL(?:\\s|$)</td><td> INTL                          </td></tr>\n",
       "\t<tr><td>MUNICIPAL                      </td><td>MUN                            </td><td>(?:\\s|^)MUNICIPAL(?:\\s|$)    </td><td> MUN                           </td></tr>\n",
       "\t<tr><td>SERVICES                       </td><td>SVCS                           </td><td>(?:\\s|^)SERVICES(?:\\s|$)     </td><td> SVCS                          </td></tr>\n",
       "\t<tr><td>INDUSTRIES                     </td><td>INDS                           </td><td>(?:\\s|^)INDUSTRIES(?:\\s|$)   </td><td> INDS                          </td></tr>\n",
       "\t<tr><td>RESOURCES                      </td><td>RES                            </td><td>(?:\\s|^)RESOURCES(?:\\s|$)    </td><td> RES                           </td></tr>\n",
       "\t<tr><td>CAPITAL                        </td><td>CAP                            </td><td>(?:\\s|^)CAPITAL(?:\\s|$)      </td><td> CAP                           </td></tr>\n",
       "\t<tr><td>HOLDING                        </td><td>HLDG                           </td><td>(?:\\s|^)HOLDING(?:\\s|$)      </td><td> HLDG                          </td></tr>\n",
       "\t<tr><td>REALTY                         </td><td>RLTY                           </td><td>(?:\\s|^)REALTY(?:\\s|$)       </td><td> RLTY                          </td></tr>\n",
       "\t<tr><td>MEDICAL                        </td><td>MED                            </td><td>(?:\\s|^)MEDICAL(?:\\s|$)      </td><td> MED                           </td></tr>\n",
       "\t<tr><td>PROPERTIES                     </td><td>PPTYS                          </td><td>(?:\\s|^)PROPERTIES(?:\\s|$)   </td><td> PPTYS                         </td></tr>\n",
       "\t<tr><td>ENTERTAINMENT                  </td><td>ENTMT                          </td><td>(?:\\s|^)ENTERTAINMENT(?:\\s|$)</td><td> ENTMT                         </td></tr>\n",
       "\t<tr><td>PRODUCTS                       </td><td>PRODS                          </td><td>(?:\\s|^)PRODUCTS(?:\\s|$)     </td><td> PRODS                         </td></tr>\n",
       "\t<tr><td>INVESTMENT                     </td><td>INVT                           </td><td>(?:\\s|^)INVESTMENT(?:\\s|$)   </td><td> INVT                          </td></tr>\n",
       "\t<tr><td>POWER                          </td><td>PWR                            </td><td>(?:\\s|^)POWER(?:\\s|$)        </td><td> PWR                           </td></tr>\n",
       "\t<tr><td>DIVIDEND                       </td><td>DIVID                          </td><td>(?:\\s|^)DIVIDEND(?:\\s|$)     </td><td> DIVID                         </td></tr>\n",
       "</tbody>\n",
       "</table>\n"
      ],
      "text/latex": [
       "\\begin{tabular}{r|llll}\n",
       " word1 & word2 & regex1 & regex2\\\\\n",
       "\\hline\n",
       "\t FUND                                                                                                  & FD                                                                                                    & (?:\\textbackslash{}s\\textbar{}\\textasciicircum{})FUND(?:\\textbackslash{}s\\textbar{}\\$)          &  FD                                                                                                  \\\\\n",
       "\t TRUST                                                                                                 & TR                                                                                                    & (?:\\textbackslash{}s\\textbar{}\\textasciicircum{})TRUST(?:\\textbackslash{}s\\textbar{}\\$)         &  TR                                                                                                  \\\\\n",
       "\t HOLDINGS                                                                                              & HLDGS                                                                                                 & (?:\\textbackslash{}s\\textbar{}\\textasciicircum{})HOLDINGS(?:\\textbackslash{}s\\textbar{}\\$)      &  HLDGS                                                                                               \\\\\n",
       "\t FINANCIAL                                                                                             & FINL                                                                                                  & (?:\\textbackslash{}s\\textbar{}\\textasciicircum{})FINANCIAL(?:\\textbackslash{}s\\textbar{}\\$)     &  FINL                                                                                                \\\\\n",
       "\t SYSTEMS                                                                                               & SYS                                                                                                   & (?:\\textbackslash{}s\\textbar{}\\textasciicircum{})SYSTEMS(?:\\textbackslash{}s\\textbar{}\\$)       &  SYS                                                                                                 \\\\\n",
       "\t INTERNATIONAL                                                                                         & INTL                                                                                                  & (?:\\textbackslash{}s\\textbar{}\\textasciicircum{})INTERNATIONAL(?:\\textbackslash{}s\\textbar{}\\$) &  INTL                                                                                                \\\\\n",
       "\t MUNICIPAL                                                                                             & MUN                                                                                                   & (?:\\textbackslash{}s\\textbar{}\\textasciicircum{})MUNICIPAL(?:\\textbackslash{}s\\textbar{}\\$)     &  MUN                                                                                                 \\\\\n",
       "\t SERVICES                                                                                              & SVCS                                                                                                  & (?:\\textbackslash{}s\\textbar{}\\textasciicircum{})SERVICES(?:\\textbackslash{}s\\textbar{}\\$)      &  SVCS                                                                                                \\\\\n",
       "\t INDUSTRIES                                                                                            & INDS                                                                                                  & (?:\\textbackslash{}s\\textbar{}\\textasciicircum{})INDUSTRIES(?:\\textbackslash{}s\\textbar{}\\$)    &  INDS                                                                                                \\\\\n",
       "\t RESOURCES                                                                                             & RES                                                                                                   & (?:\\textbackslash{}s\\textbar{}\\textasciicircum{})RESOURCES(?:\\textbackslash{}s\\textbar{}\\$)     &  RES                                                                                                 \\\\\n",
       "\t CAPITAL                                                                                               & CAP                                                                                                   & (?:\\textbackslash{}s\\textbar{}\\textasciicircum{})CAPITAL(?:\\textbackslash{}s\\textbar{}\\$)       &  CAP                                                                                                 \\\\\n",
       "\t HOLDING                                                                                               & HLDG                                                                                                  & (?:\\textbackslash{}s\\textbar{}\\textasciicircum{})HOLDING(?:\\textbackslash{}s\\textbar{}\\$)       &  HLDG                                                                                                \\\\\n",
       "\t REALTY                                                                                                & RLTY                                                                                                  & (?:\\textbackslash{}s\\textbar{}\\textasciicircum{})REALTY(?:\\textbackslash{}s\\textbar{}\\$)        &  RLTY                                                                                                \\\\\n",
       "\t MEDICAL                                                                                               & MED                                                                                                   & (?:\\textbackslash{}s\\textbar{}\\textasciicircum{})MEDICAL(?:\\textbackslash{}s\\textbar{}\\$)       &  MED                                                                                                 \\\\\n",
       "\t PROPERTIES                                                                                            & PPTYS                                                                                                 & (?:\\textbackslash{}s\\textbar{}\\textasciicircum{})PROPERTIES(?:\\textbackslash{}s\\textbar{}\\$)    &  PPTYS                                                                                               \\\\\n",
       "\t ENTERTAINMENT                                                                                         & ENTMT                                                                                                 & (?:\\textbackslash{}s\\textbar{}\\textasciicircum{})ENTERTAINMENT(?:\\textbackslash{}s\\textbar{}\\$) &  ENTMT                                                                                               \\\\\n",
       "\t PRODUCTS                                                                                              & PRODS                                                                                                 & (?:\\textbackslash{}s\\textbar{}\\textasciicircum{})PRODUCTS(?:\\textbackslash{}s\\textbar{}\\$)      &  PRODS                                                                                               \\\\\n",
       "\t INVESTMENT                                                                                            & INVT                                                                                                  & (?:\\textbackslash{}s\\textbar{}\\textasciicircum{})INVESTMENT(?:\\textbackslash{}s\\textbar{}\\$)    &  INVT                                                                                                \\\\\n",
       "\t POWER                                                                                                 & PWR                                                                                                   & (?:\\textbackslash{}s\\textbar{}\\textasciicircum{})POWER(?:\\textbackslash{}s\\textbar{}\\$)         &  PWR                                                                                                 \\\\\n",
       "\t DIVIDEND                                                                                              & DIVID                                                                                                 & (?:\\textbackslash{}s\\textbar{}\\textasciicircum{})DIVIDEND(?:\\textbackslash{}s\\textbar{}\\$)      &  DIVID                                                                                               \\\\\n",
       "\\end{tabular}\n"
      ],
      "text/markdown": [
       "\n",
       "word1 | word2 | regex1 | regex2 | \n",
       "|---|---|---|---|---|---|---|---|---|---|---|---|---|---|---|---|---|---|---|---|\n",
       "| FUND                            | FD                              | (?:\\s|^)FUND(?:\\s|$)          |  FD                             | \n",
       "| TRUST                           | TR                              | (?:\\s|^)TRUST(?:\\s|$)         |  TR                             | \n",
       "| HOLDINGS                        | HLDGS                           | (?:\\s|^)HOLDINGS(?:\\s|$)      |  HLDGS                          | \n",
       "| FINANCIAL                       | FINL                            | (?:\\s|^)FINANCIAL(?:\\s|$)     |  FINL                           | \n",
       "| SYSTEMS                         | SYS                             | (?:\\s|^)SYSTEMS(?:\\s|$)       |  SYS                            | \n",
       "| INTERNATIONAL                   | INTL                            | (?:\\s|^)INTERNATIONAL(?:\\s|$) |  INTL                           | \n",
       "| MUNICIPAL                       | MUN                             | (?:\\s|^)MUNICIPAL(?:\\s|$)     |  MUN                            | \n",
       "| SERVICES                        | SVCS                            | (?:\\s|^)SERVICES(?:\\s|$)      |  SVCS                           | \n",
       "| INDUSTRIES                      | INDS                            | (?:\\s|^)INDUSTRIES(?:\\s|$)    |  INDS                           | \n",
       "| RESOURCES                       | RES                             | (?:\\s|^)RESOURCES(?:\\s|$)     |  RES                            | \n",
       "| CAPITAL                         | CAP                             | (?:\\s|^)CAPITAL(?:\\s|$)       |  CAP                            | \n",
       "| HOLDING                         | HLDG                            | (?:\\s|^)HOLDING(?:\\s|$)       |  HLDG                           | \n",
       "| REALTY                          | RLTY                            | (?:\\s|^)REALTY(?:\\s|$)        |  RLTY                           | \n",
       "| MEDICAL                         | MED                             | (?:\\s|^)MEDICAL(?:\\s|$)       |  MED                            | \n",
       "| PROPERTIES                      | PPTYS                           | (?:\\s|^)PROPERTIES(?:\\s|$)    |  PPTYS                          | \n",
       "| ENTERTAINMENT                   | ENTMT                           | (?:\\s|^)ENTERTAINMENT(?:\\s|$) |  ENTMT                          | \n",
       "| PRODUCTS                        | PRODS                           | (?:\\s|^)PRODUCTS(?:\\s|$)      |  PRODS                          | \n",
       "| INVESTMENT                      | INVT                            | (?:\\s|^)INVESTMENT(?:\\s|$)    |  INVT                           | \n",
       "| POWER                           | PWR                             | (?:\\s|^)POWER(?:\\s|$)         |  PWR                            | \n",
       "| DIVIDEND                        | DIVID                           | (?:\\s|^)DIVIDEND(?:\\s|$)      |  DIVID                          | \n",
       "\n",
       "\n"
      ],
      "text/plain": [
       "   word1         word2 regex1                          regex2 \n",
       "1  FUND          FD    (?:\\\\s|^)FUND(?:\\\\s|$)           FD    \n",
       "2  TRUST         TR    (?:\\\\s|^)TRUST(?:\\\\s|$)          TR    \n",
       "3  HOLDINGS      HLDGS (?:\\\\s|^)HOLDINGS(?:\\\\s|$)       HLDGS \n",
       "4  FINANCIAL     FINL  (?:\\\\s|^)FINANCIAL(?:\\\\s|$)      FINL  \n",
       "5  SYSTEMS       SYS   (?:\\\\s|^)SYSTEMS(?:\\\\s|$)        SYS   \n",
       "6  INTERNATIONAL INTL  (?:\\\\s|^)INTERNATIONAL(?:\\\\s|$)  INTL  \n",
       "7  MUNICIPAL     MUN   (?:\\\\s|^)MUNICIPAL(?:\\\\s|$)      MUN   \n",
       "8  SERVICES      SVCS  (?:\\\\s|^)SERVICES(?:\\\\s|$)       SVCS  \n",
       "9  INDUSTRIES    INDS  (?:\\\\s|^)INDUSTRIES(?:\\\\s|$)     INDS  \n",
       "10 RESOURCES     RES   (?:\\\\s|^)RESOURCES(?:\\\\s|$)      RES   \n",
       "11 CAPITAL       CAP   (?:\\\\s|^)CAPITAL(?:\\\\s|$)        CAP   \n",
       "12 HOLDING       HLDG  (?:\\\\s|^)HOLDING(?:\\\\s|$)        HLDG  \n",
       "13 REALTY        RLTY  (?:\\\\s|^)REALTY(?:\\\\s|$)         RLTY  \n",
       "14 MEDICAL       MED   (?:\\\\s|^)MEDICAL(?:\\\\s|$)        MED   \n",
       "15 PROPERTIES    PPTYS (?:\\\\s|^)PROPERTIES(?:\\\\s|$)     PPTYS \n",
       "16 ENTERTAINMENT ENTMT (?:\\\\s|^)ENTERTAINMENT(?:\\\\s|$)  ENTMT \n",
       "17 PRODUCTS      PRODS (?:\\\\s|^)PRODUCTS(?:\\\\s|$)       PRODS \n",
       "18 INVESTMENT    INVT  (?:\\\\s|^)INVESTMENT(?:\\\\s|$)     INVT  \n",
       "19 POWER         PWR   (?:\\\\s|^)POWER(?:\\\\s|$)          PWR   \n",
       "20 DIVIDEND      DIVID (?:\\\\s|^)DIVIDEND(?:\\\\s|$)       DIVID "
      ]
     },
     "metadata": {},
     "output_type": "display_data"
    }
   ],
   "source": [
    "map_df %>% head(20)"
   ]
  },
  {
   "cell_type": "code",
   "execution_count": 243,
   "metadata": {},
   "outputs": [
    {
     "data": {
      "text/html": [
       "<table>\n",
       "<thead><tr><th scope=col>company_name</th><th scope=col>company_name_norm</th><th scope=col>issuer_name</th><th scope=col>issuer_name_norm</th><th scope=col>sim_index_norm</th></tr></thead>\n",
       "<tbody>\n",
       "\t<tr><td>K TRON INTERNATIONAL INC    </td><td>K TRON INTL INC             </td><td>FIRST FID BANCORPORATION NEW</td><td>FIRST FID BANCORPORATION NEW</td><td>0.2000000                   </td></tr>\n",
       "\t<tr><td>K TRON INTERNATIONAL INC    </td><td>K TRON INTL INC             </td><td>K TRON INTL INC             </td><td>K TRON INTL INC             </td><td>1.0000000                   </td></tr>\n",
       "\t<tr><td>AAR CORP                    </td><td>AAR CO                      </td><td>AAR CORP                    </td><td>AAR CO                      </td><td>1.0000000                   </td></tr>\n",
       "\t<tr><td>TRANZONIC COMPANIES         </td><td>TRANZONIC COS               </td><td>TRANZONIC COS               </td><td>TRANZONIC COS               </td><td>1.0000000                   </td></tr>\n",
       "\t<tr><td>TRANZONIC COMPANIES         </td><td>TRANZONIC COS               </td><td>TRANZONIC COS               </td><td>TRANZONIC COS               </td><td>1.0000000                   </td></tr>\n",
       "\t<tr><td>ABBOTT LABORATORIES         </td><td>ABBOTT LABS                 </td><td>ABBOTT LABS                 </td><td>ABBOTT LABS                 </td><td>1.0000000                   </td></tr>\n",
       "\t<tr><td>ABERDEEN IDAHO MINING CO    </td><td>ABERDEEN IDAHO MNG CO       </td><td>ABERDEEN MNG CO             </td><td>ABERDEEN MNG CO             </td><td>0.7222222                   </td></tr>\n",
       "\t<tr><td>ABRAMS INDUSTRIES INC       </td><td>ABRAMS INDS INC             </td><td>ABRAMS INDS INC             </td><td>ABRAMS INDS INC             </td><td>1.0000000                   </td></tr>\n",
       "\t<tr><td>SERVIDYNE, INC.             </td><td>SERVIDYNE INC               </td><td>SERVIDYNE INC               </td><td>SERVIDYNE INC               </td><td>1.0000000                   </td></tr>\n",
       "\t<tr><td>WORLDS INC                  </td><td>WORLDS INC                  </td><td>WORLDS INC                  </td><td>WORLDS INC                  </td><td>1.0000000                   </td></tr>\n",
       "</tbody>\n",
       "</table>\n"
      ],
      "text/latex": [
       "\\begin{tabular}{r|lllll}\n",
       " company\\_name & company\\_name\\_norm & issuer\\_name & issuer\\_name\\_norm & sim\\_index\\_norm\\\\\n",
       "\\hline\n",
       "\t K TRON INTERNATIONAL INC     & K TRON INTL INC              & FIRST FID BANCORPORATION NEW & FIRST FID BANCORPORATION NEW & 0.2000000                   \\\\\n",
       "\t K TRON INTERNATIONAL INC     & K TRON INTL INC              & K TRON INTL INC              & K TRON INTL INC              & 1.0000000                   \\\\\n",
       "\t AAR CORP                     & AAR CO                       & AAR CORP                     & AAR CO                       & 1.0000000                   \\\\\n",
       "\t TRANZONIC COMPANIES          & TRANZONIC COS                & TRANZONIC COS                & TRANZONIC COS                & 1.0000000                   \\\\\n",
       "\t TRANZONIC COMPANIES          & TRANZONIC COS                & TRANZONIC COS                & TRANZONIC COS                & 1.0000000                   \\\\\n",
       "\t ABBOTT LABORATORIES          & ABBOTT LABS                  & ABBOTT LABS                  & ABBOTT LABS                  & 1.0000000                   \\\\\n",
       "\t ABERDEEN IDAHO MINING CO     & ABERDEEN IDAHO MNG CO        & ABERDEEN MNG CO              & ABERDEEN MNG CO              & 0.7222222                   \\\\\n",
       "\t ABRAMS INDUSTRIES INC        & ABRAMS INDS INC              & ABRAMS INDS INC              & ABRAMS INDS INC              & 1.0000000                   \\\\\n",
       "\t SERVIDYNE, INC.              & SERVIDYNE INC                & SERVIDYNE INC                & SERVIDYNE INC                & 1.0000000                   \\\\\n",
       "\t WORLDS INC                   & WORLDS INC                   & WORLDS INC                   & WORLDS INC                   & 1.0000000                   \\\\\n",
       "\\end{tabular}\n"
      ],
      "text/markdown": [
       "\n",
       "company_name | company_name_norm | issuer_name | issuer_name_norm | sim_index_norm | \n",
       "|---|---|---|---|---|---|---|---|---|---|\n",
       "| K TRON INTERNATIONAL INC     | K TRON INTL INC              | FIRST FID BANCORPORATION NEW | FIRST FID BANCORPORATION NEW | 0.2000000                    | \n",
       "| K TRON INTERNATIONAL INC     | K TRON INTL INC              | K TRON INTL INC              | K TRON INTL INC              | 1.0000000                    | \n",
       "| AAR CORP                     | AAR CO                       | AAR CORP                     | AAR CO                       | 1.0000000                    | \n",
       "| TRANZONIC COMPANIES          | TRANZONIC COS                | TRANZONIC COS                | TRANZONIC COS                | 1.0000000                    | \n",
       "| TRANZONIC COMPANIES          | TRANZONIC COS                | TRANZONIC COS                | TRANZONIC COS                | 1.0000000                    | \n",
       "| ABBOTT LABORATORIES          | ABBOTT LABS                  | ABBOTT LABS                  | ABBOTT LABS                  | 1.0000000                    | \n",
       "| ABERDEEN IDAHO MINING CO     | ABERDEEN IDAHO MNG CO        | ABERDEEN MNG CO              | ABERDEEN MNG CO              | 0.7222222                    | \n",
       "| ABRAMS INDUSTRIES INC        | ABRAMS INDS INC              | ABRAMS INDS INC              | ABRAMS INDS INC              | 1.0000000                    | \n",
       "| SERVIDYNE, INC.              | SERVIDYNE INC                | SERVIDYNE INC                | SERVIDYNE INC                | 1.0000000                    | \n",
       "| WORLDS INC                   | WORLDS INC                   | WORLDS INC                   | WORLDS INC                   | 1.0000000                    | \n",
       "\n",
       "\n"
      ],
      "text/plain": [
       "   company_name             company_name_norm     issuer_name                 \n",
       "1  K TRON INTERNATIONAL INC K TRON INTL INC       FIRST FID BANCORPORATION NEW\n",
       "2  K TRON INTERNATIONAL INC K TRON INTL INC       K TRON INTL INC             \n",
       "3  AAR CORP                 AAR CO                AAR CORP                    \n",
       "4  TRANZONIC COMPANIES      TRANZONIC COS         TRANZONIC COS               \n",
       "5  TRANZONIC COMPANIES      TRANZONIC COS         TRANZONIC COS               \n",
       "6  ABBOTT LABORATORIES      ABBOTT LABS           ABBOTT LABS                 \n",
       "7  ABERDEEN IDAHO MINING CO ABERDEEN IDAHO MNG CO ABERDEEN MNG CO             \n",
       "8  ABRAMS INDUSTRIES INC    ABRAMS INDS INC       ABRAMS INDS INC             \n",
       "9  SERVIDYNE, INC.          SERVIDYNE INC         SERVIDYNE INC               \n",
       "10 WORLDS INC               WORLDS INC            WORLDS INC                  \n",
       "   issuer_name_norm             sim_index_norm\n",
       "1  FIRST FID BANCORPORATION NEW 0.2000000     \n",
       "2  K TRON INTL INC              1.0000000     \n",
       "3  AAR CO                       1.0000000     \n",
       "4  TRANZONIC COS                1.0000000     \n",
       "5  TRANZONIC COS                1.0000000     \n",
       "6  ABBOTT LABS                  1.0000000     \n",
       "7  ABERDEEN MNG CO              0.7222222     \n",
       "8  ABRAMS INDS INC              1.0000000     \n",
       "9  SERVIDYNE INC                1.0000000     \n",
       "10 WORLDS INC                   1.0000000     "
      ]
     },
     "metadata": {},
     "output_type": "display_data"
    }
   ],
   "source": [
    "m9_issuers %>% select(company_name, company_name_norm, issuer_name, issuer_name_norm, sim_index_norm) %>% head(10)"
   ]
  },
  {
   "cell_type": "markdown",
   "metadata": {},
   "source": [
    "\n",
    "\n",
    "\n",
    "\n",
    "\n",
    "In the next cell, we now find the valid 9-digit cusips with a frequency in `edgar.cusip_cik` of at least 10, which we assign to a dataframe we call `valid9s_above_10_w_issuers`. In essence, this dataframe is formed by calculating the dataframe `valid9s_above_10` defined below, which contains all 9-digit cusips with a frequency at least 10, and then inner joining `valid9s_above_10` with the `issuers` dataframe, which is the dataframe we have defined to contain the contents of the table `cusipm.issuer`.\n",
    "\n",
    "In the latter steps, we utilize `map_df` to normalize the company names and issuer names in `valid9s_above_10_w_issuers`, and then calculate the index `sim_index_norm`."
   ]
  },
  {
   "cell_type": "code",
   "execution_count": 247,
   "metadata": {},
   "outputs": [
    {
     "name": "stderr",
     "output_type": "stream",
     "text": [
      "Joining, by = c(\"cik\", \"cusip\")\n",
      "Joining, by = \"cusip6\"\n"
     ]
    }
   ],
   "source": [
    "valid9s_above_10 <- cusip_cik %>% group_by(cik, cusip) %>% summarise(freq = n()) %>% ungroup() %>% inner_join(cusip_cik) %>%\n",
    "    filter(nchar(cusip) == 9 & substr(cusip, 9, 9) == as.character(check_digit) & freq >= 10) %>% collect() %>%\n",
    "    distinct(cik, cusip, company_name)\n",
    "\n",
    "valid9s_above_10 <- valid9s_above_10 %>% mutate(cusip6 = substr(cusip, 1, 6), ncusip = substr(cusip, 1, 8))\n",
    "\n",
    "\n",
    "valid9s_above_10_w_issuers <- valid9s_above_10 %>% inner_join(issuers)\n",
    "\n",
    "valid9s_above_10_w_issuers <- valid9s_above_10_w_issuers %>%\n",
    "    mutate(issuer_name = ifelse(is.na(issuer_name_2), issuer_name_1,\n",
    "    ifelse(is.na(issuer_name_3), paste(issuer_name_1, issuer_name_2), paste(issuer_name_1, issuer_name_2, issuer_name_3))))\n",
    "\n",
    "valid9s_above_10_w_issuers <- valid9s_above_10_w_issuers %>%\n",
    "    mutate(issuer_adl = ifelse(is.na(issuer_adl_1), NA, issuer_adl_1)) %>%\n",
    "    mutate(issuer_adl = ifelse(is.na(issuer_adl_2), issuer_adl, paste(issuer_adl, issuer_adl_2))) %>%\n",
    "    mutate(issuer_adl = ifelse(is.na(issuer_adl_3), issuer_adl, paste(issuer_adl, issuer_adl_3))) %>%\n",
    "    mutate(issuer_adl = ifelse(is.na(issuer_adl_4), issuer_adl, paste(issuer_adl, issuer_adl_4)))\n",
    "\n",
    "\n",
    "valid9s_above_10_w_issuers <- valid9s_above_10_w_issuers %>% mutate(company_name_raw = stringr::str_to_upper(company_name),\n",
    "                                                issuer_name_raw = stringr::str_to_upper(issuer_name)) %>%\n",
    "    mutate(company_name_raw = gsub('[^A-Z0-9\\\\s]', ' ', company_name_raw),\n",
    "           issuer_name_raw = gsub('[^A-Z0-9\\\\s]', ' ', issuer_name_raw)) %>%\n",
    "    mutate(company_name_raw = gsub('\\\\s+', ' ', company_name_raw),\n",
    "           issuer_name_raw = gsub('\\\\s+', ' ', issuer_name_raw)) %>%\n",
    "    mutate(company_name_raw = gsub('\\\\s+', ' ', company_name_raw),\n",
    "           issuer_name_raw = gsub('\\\\s+', ' ', issuer_name_raw)) %>%\n",
    "    mutate(company_name_raw = gsub('^\\\\s', '', company_name_raw),\n",
    "           issuer_name_raw = gsub('^\\\\s', '', issuer_name_raw)) %>%\n",
    "    mutate(company_name_raw = gsub('\\\\s$', '', company_name_raw), issuer_name_raw = gsub('\\\\s$', '', issuer_name_raw))\n",
    "\n",
    "\n",
    "valid9s_above_10_w_issuers$company_name_norm <- stringi::stri_replace_all_regex(valid9s_above_10_w_issuers$company_name_raw,\n",
    "                                                                      map_df$regex1, map_df$regex2, vectorize_all = FALSE) %>%\n",
    "    gsub('^\\\\s', '', .) %>% gsub('\\\\s$', '', .)\n",
    "\n",
    "valid9s_above_10_w_issuers$issuer_name_norm <- stringi::stri_replace_all_regex(valid9s_above_10_w_issuers$issuer_name_raw,\n",
    "                                                                     map_df$regex1, map_df$regex2, vectorize_all = FALSE) %>%\n",
    "    gsub('^\\\\s', '', .) %>% gsub('\\\\s$', '', .)\n",
    "\n",
    "\n",
    "\n",
    "valid9s_above_10_w_issuers$sim_index_norm <- unlist(lapply(1:nrow(valid9s_above_10_w_issuers),\n",
    "        function(i) {get_name_similarity_index(valid9s_above_10_w_issuers$company_name_norm[i],\n",
    "                                               valid9s_above_10_w_issuers$issuer_name_norm[i])}))"
   ]
  },
  {
   "cell_type": "markdown",
   "metadata": {},
   "source": [
    "In the next cell, we calculate the maximum of `sim_index_norm` grouped by (`cik`, `cusip`), which we call `sim_index_max`. We then incorporate `sim_index_max` in `valid9s_above_10_w_issuers` via an appropriate inner join. "
   ]
  },
  {
   "cell_type": "code",
   "execution_count": 248,
   "metadata": {},
   "outputs": [
    {
     "name": "stderr",
     "output_type": "stream",
     "text": [
      "Joining, by = c(\"cik\", \"cusip\")\n"
     ]
    }
   ],
   "source": [
    "sim_index_max <- valid9s_above_10_w_issuers %>% group_by(cik, cusip) %>%\n",
    "                    summarise(sim_index_max = max(sim_index_norm)) %>% ungroup()\n",
    "\n",
    "valid9s_above_10_w_issuers <- valid9s_above_10_w_issuers %>% inner_join(sim_index_max)"
   ]
  },
  {
   "cell_type": "markdown",
   "metadata": {},
   "source": [
    "Looking at the next few cells, we see that there are 19321 distinct (`cik`, `cusip`) pairs in `valid9s_above_10_w_issuers`. However, only 1249 have a `sim_index_max` less than 0.8. This reduces the number to look at by more than a factor of 10, and gives a number we can reasonably look over. Thus, picking our threshold to be 0.8 is a decent choice. In the original construction of `cusip_cik_exceptions`, we chose to look at these 1249 pairs, and then we picked out the pairs that either seemed to be wrong or that warranted further investigation, further narrowing the number to look at further to around 100 or so. The rest of the pairs that we did not choose were eventually written into `cusip_cik_exceptions` with `valid_match` set to `TRUE`. This way, we can do an `anti_join` with `cusip_cik_exceptions` to select out just the new pairs to look at, when we update `edgar.cusip_cik`"
   ]
  },
  {
   "cell_type": "code",
   "execution_count": 249,
   "metadata": {},
   "outputs": [
    {
     "data": {
      "text/html": [
       "<table>\n",
       "<thead><tr><th scope=col>n</th></tr></thead>\n",
       "<tbody>\n",
       "\t<tr><td>19321</td></tr>\n",
       "</tbody>\n",
       "</table>\n"
      ],
      "text/latex": [
       "\\begin{tabular}{r|l}\n",
       " n\\\\\n",
       "\\hline\n",
       "\t 19321\\\\\n",
       "\\end{tabular}\n"
      ],
      "text/markdown": [
       "\n",
       "n | \n",
       "|---|\n",
       "| 19321 | \n",
       "\n",
       "\n"
      ],
      "text/plain": [
       "  n    \n",
       "1 19321"
      ]
     },
     "metadata": {},
     "output_type": "display_data"
    }
   ],
   "source": [
    "valid9s_above_10_w_issuers %>% distinct(cik, cusip) %>% count()"
   ]
  },
  {
   "cell_type": "code",
   "execution_count": 250,
   "metadata": {},
   "outputs": [
    {
     "data": {
      "text/html": [
       "<table>\n",
       "<thead><tr><th scope=col>n</th></tr></thead>\n",
       "<tbody>\n",
       "\t<tr><td>15884</td></tr>\n",
       "</tbody>\n",
       "</table>\n"
      ],
      "text/latex": [
       "\\begin{tabular}{r|l}\n",
       " n\\\\\n",
       "\\hline\n",
       "\t 15884\\\\\n",
       "\\end{tabular}\n"
      ],
      "text/markdown": [
       "\n",
       "n | \n",
       "|---|\n",
       "| 15884 | \n",
       "\n",
       "\n"
      ],
      "text/plain": [
       "  n    \n",
       "1 15884"
      ]
     },
     "metadata": {},
     "output_type": "display_data"
    }
   ],
   "source": [
    "sim_index_max %>% filter(sim_index_max == 1) %>% count()"
   ]
  },
  {
   "cell_type": "code",
   "execution_count": 251,
   "metadata": {},
   "outputs": [
    {
     "data": {
      "text/html": [
       "<table>\n",
       "<thead><tr><th scope=col>n</th></tr></thead>\n",
       "<tbody>\n",
       "\t<tr><td>1249</td></tr>\n",
       "</tbody>\n",
       "</table>\n"
      ],
      "text/latex": [
       "\\begin{tabular}{r|l}\n",
       " n\\\\\n",
       "\\hline\n",
       "\t 1249\\\\\n",
       "\\end{tabular}\n"
      ],
      "text/markdown": [
       "\n",
       "n | \n",
       "|---|\n",
       "| 1249 | \n",
       "\n",
       "\n"
      ],
      "text/plain": [
       "  n   \n",
       "1 1249"
      ]
     },
     "metadata": {},
     "output_type": "display_data"
    }
   ],
   "source": [
    "sim_index_max %>% filter(sim_index_max < 0.8) %>% count()"
   ]
  },
  {
   "cell_type": "code",
   "execution_count": 252,
   "metadata": {},
   "outputs": [
    {
     "data": {
      "text/html": [
       "<table>\n",
       "<thead><tr><th scope=col>n</th></tr></thead>\n",
       "<tbody>\n",
       "\t<tr><td>792</td></tr>\n",
       "</tbody>\n",
       "</table>\n"
      ],
      "text/latex": [
       "\\begin{tabular}{r|l}\n",
       " n\\\\\n",
       "\\hline\n",
       "\t 792\\\\\n",
       "\\end{tabular}\n"
      ],
      "text/markdown": [
       "\n",
       "n | \n",
       "|---|\n",
       "| 792 | \n",
       "\n",
       "\n"
      ],
      "text/plain": [
       "  n  \n",
       "1 792"
      ]
     },
     "metadata": {},
     "output_type": "display_data"
    }
   ],
   "source": [
    "sim_index_max %>% filter(sim_index_max >= 0.6 & sim_index_max < 0.8) %>% count()"
   ]
  },
  {
   "cell_type": "code",
   "execution_count": 253,
   "metadata": {},
   "outputs": [
    {
     "data": {
      "text/html": [
       "<table>\n",
       "<thead><tr><th scope=col>n</th></tr></thead>\n",
       "<tbody>\n",
       "\t<tr><td>177</td></tr>\n",
       "</tbody>\n",
       "</table>\n"
      ],
      "text/latex": [
       "\\begin{tabular}{r|l}\n",
       " n\\\\\n",
       "\\hline\n",
       "\t 177\\\\\n",
       "\\end{tabular}\n"
      ],
      "text/markdown": [
       "\n",
       "n | \n",
       "|---|\n",
       "| 177 | \n",
       "\n",
       "\n"
      ],
      "text/plain": [
       "  n  \n",
       "1 177"
      ]
     },
     "metadata": {},
     "output_type": "display_data"
    }
   ],
   "source": [
    "sim_index_max %>% filter(sim_index_max < 0.3) %>% count()"
   ]
  },
  {
   "cell_type": "markdown",
   "metadata": {},
   "source": [
    "In the next cell, we read the `edgar.cusip_cik_exceptions` table into the dataframe `cusip_cik_exceptions`. The cell after, we just show the first few rows, to give a feel for the data."
   ]
  },
  {
   "cell_type": "code",
   "execution_count": 98,
   "metadata": {
    "collapsed": true
   },
   "outputs": [],
   "source": [
    "cusip_cik_exceptions <- tbl(pg, sql(\"SELECT * FROM edgar.cusip_cik_exceptions\")) %>% collect()"
   ]
  },
  {
   "cell_type": "code",
   "execution_count": 99,
   "metadata": {
    "scrolled": false
   },
   "outputs": [
    {
     "data": {
      "text/html": [
       "<table>\n",
       "<thead><tr><th scope=col>cik</th><th scope=col>cusip</th><th scope=col>company_name</th><th scope=col>issuer_name</th><th scope=col>issuer_adl</th><th scope=col>company_name_norm</th><th scope=col>issuer_name_norm</th><th scope=col>sim_index_norm</th><th scope=col>sim_index_max</th><th scope=col>valid_match</th><th scope=col>...</th><th scope=col>better_cusip_issuer_name</th><th scope=col>better_cusip_issuer_adl</th><th scope=col>sim_ix_better_cusip</th><th scope=col>better_cusip6</th><th scope=col>better_cusip6_issuer_name</th><th scope=col>better_cusip6_issuer_adl</th><th scope=col>better_cusip8</th><th scope=col>better_cusip8_comnam</th><th scope=col>other_reason</th><th scope=col>cusip_raw</th></tr></thead>\n",
       "<tbody>\n",
       "\t<tr><td>1324105                                                    </td><td>08883T200                                                  </td><td>Bidz.com, Inc.                                             </td><td>BIDZ COM INC                                               </td><td>NA                                                         </td><td>NA                                                         </td><td>NA                                                         </td><td>NA                                                         </td><td>NA                                                         </td><td> TRUE                                                      </td><td>...                                                        </td><td>NA                                                         </td><td>NA                                                         </td><td>NA                                                         </td><td>NA                                                         </td><td>NA                                                         </td><td>NA                                                         </td><td>NA                                                         </td><td>NA                                                         </td><td>NA                                                         </td><td>8883T200                                                   </td></tr>\n",
       "\t<tr><td> 830736                                                    </td><td>090649104                                                  </td><td>BIOPOOL INTERNATIONAL INC                                  </td><td>BIOPOOL INTL INC                                           </td><td>NAME CHANGED TO XTRANA INC 06/29/2001          SEE 98415F  </td><td>NA                                                         </td><td>NA                                                         </td><td>NA                                                         </td><td>NA                                                         </td><td> TRUE                                                      </td><td>...                                                        </td><td>NA                                                         </td><td>NA                                                         </td><td>NA                                                         </td><td>NA                                                         </td><td>NA                                                         </td><td>NA                                                         </td><td>NA                                                         </td><td>NA                                                         </td><td>NA                                                         </td><td>90649104                                                   </td></tr>\n",
       "\t<tr><td>  54883                                                    </td><td>048666510                                                  </td><td>KEANE INC                                                  </td><td>ATLANTIC KEYSTONE PETE CO LTD                              </td><td>NA                                                         </td><td>NA                                                         </td><td>NA                                                         </td><td>NA                                                         </td><td>NA                                                         </td><td>FALSE                                                      </td><td>...                                                        </td><td>NA                                                         </td><td>NA                                                         </td><td>NA                                                         </td><td>NA                                                         </td><td>NA                                                         </td><td>NA                                                         </td><td>NA                                                         </td><td>NA                                                         </td><td>NA                                                         </td><td>48666510                                                   </td></tr>\n",
       "\t<tr><td> 929940                                                    </td><td>004532710                                                  </td><td>ASPEN TECHNOLOGY INC /DE/                                  </td><td>ACKERLEY GROUP INC                                         </td><td>NA                                                         </td><td>NA                                                         </td><td>NA                                                         </td><td>NA                                                         </td><td>NA                                                         </td><td>FALSE                                                      </td><td>...                                                        </td><td>NA                                                         </td><td>NA                                                         </td><td>NA                                                         </td><td>NA                                                         </td><td>NA                                                         </td><td>NA                                                         </td><td>NA                                                         </td><td>NA                                                         </td><td>NA                                                         </td><td>04532710                                                   </td></tr>\n",
       "\t<tr><td> 927066                                                    </td><td>089151A10                                                  </td><td>DAVITA INC                                                 </td><td>BIG 5 HLDGS CORP                                           </td><td>NA                                                         </td><td>NA                                                         </td><td>NA                                                         </td><td>NA                                                         </td><td>NA                                                         </td><td>FALSE                                                      </td><td>...                                                        </td><td>NA                                                         </td><td>NA                                                         </td><td>NA                                                         </td><td>NA                                                         </td><td>NA                                                         </td><td>NA                                                         </td><td>NA                                                         </td><td>NA                                                         </td><td>NA                                                         </td><td>89151A10                                                   </td></tr>\n",
       "\t<tr><td> 817946                                                    </td><td>045076109                                                  </td><td>MAYORS JEWELERS INC/DE                                     </td><td>ASHTON MNG N L                                             </td><td>NA                                                         </td><td>NA                                                         </td><td>NA                                                         </td><td>NA                                                         </td><td>NA                                                         </td><td>FALSE                                                      </td><td>...                                                        </td><td>NA                                                         </td><td>NA                                                         </td><td>NA                                                         </td><td>NA                                                         </td><td>NA                                                         </td><td>NA                                                         </td><td>NA                                                         </td><td>NA                                                         </td><td>NA                                                         </td><td>45076109                                                   </td></tr>\n",
       "\t<tr><td>  33073                                                    </td><td>029403700                                                  </td><td>VISKASE COMPANIES INC                                      </td><td>AMERICAN SVGS BK FSB STOCKTON CALIF                        </td><td>NA                                                         </td><td>NA                                                         </td><td>NA                                                         </td><td>NA                                                         </td><td>NA                                                         </td><td>FALSE                                                      </td><td>...                                                        </td><td>NA                                                         </td><td>NA                                                         </td><td>NA                                                         </td><td>NA                                                         </td><td>NA                                                         </td><td>NA                                                         </td><td>NA                                                         </td><td>NA                                                         </td><td>NA                                                         </td><td>29403700                                                   </td></tr>\n",
       "\t<tr><td> 790715                                                    </td><td>082656103                                                  </td><td>SIGMA DESIGNS INC                                          </td><td>BENTLEY NATL CORP                                          </td><td>NAME CHANGED TO SUNSHINE RES INTL INC 09/01/1975 SEE 867858</td><td>NA                                                         </td><td>NA                                                         </td><td>NA                                                         </td><td>NA                                                         </td><td>FALSE                                                      </td><td>...                                                        </td><td>NA                                                         </td><td>NA                                                         </td><td>NA                                                         </td><td>NA                                                         </td><td>NA                                                         </td><td>NA                                                         </td><td>NA                                                         </td><td>NA                                                         </td><td>NA                                                         </td><td>82656103                                                   </td></tr>\n",
       "\t<tr><td>  41850                                                    </td><td>037935240                                                  </td><td>GLOBAL MARINE INC                                          </td><td>APPLIED MICROSYSTEMS CORP                                  </td><td>NA                                                         </td><td>NA                                                         </td><td>NA                                                         </td><td>NA                                                         </td><td>NA                                                         </td><td>FALSE                                                      </td><td>...                                                        </td><td>NA                                                         </td><td>NA                                                         </td><td>NA                                                         </td><td>NA                                                         </td><td>NA                                                         </td><td>NA                                                         </td><td>NA                                                         </td><td>NA                                                         </td><td>NA                                                         </td><td>37935240                                                   </td></tr>\n",
       "\t<tr><td>1094348                                                                                            </td><td>029015110                                                                                          </td><td><span style=white-space:pre-wrap>ELOYALTY CORP            </span>                                  </td><td><span style=white-space:pre-wrap>AMERICAN PIPE &amp; CONSTR CO          </span>                    </td><td><span style=white-space:pre-wrap>NAME CHANGED TO AMERON INC 01/06/1970                      </span></td><td>NA                                                                                                 </td><td>NA                                                                                                 </td><td>NA                                                                                                 </td><td>NA                                                                                                 </td><td>FALSE                                                                                              </td><td>...                                                                                                </td><td>NA                                                                                                 </td><td>NA                                                                                                 </td><td>NA                                                                                                 </td><td>NA                                                                                                 </td><td>NA                                                                                                 </td><td>NA                                                                                                 </td><td>NA                                                                                                 </td><td>NA                                                                                                 </td><td>NA                                                                                                 </td><td>29015110                                                                                           </td></tr>\n",
       "</tbody>\n",
       "</table>\n"
      ],
      "text/latex": [
       "\\begin{tabular}{r|llllllllllllllllllllllll}\n",
       " cik & cusip & company\\_name & issuer\\_name & issuer\\_adl & company\\_name\\_norm & issuer\\_name\\_norm & sim\\_index\\_norm & sim\\_index\\_max & valid\\_match & ... & better\\_cusip\\_issuer\\_name & better\\_cusip\\_issuer\\_adl & sim\\_ix\\_better\\_cusip & better\\_cusip6 & better\\_cusip6\\_issuer\\_name & better\\_cusip6\\_issuer\\_adl & better\\_cusip8 & better\\_cusip8\\_comnam & other\\_reason & cusip\\_raw\\\\\n",
       "\\hline\n",
       "\t 1324105                                                     & 08883T200                                                   & Bidz.com, Inc.                                              & BIDZ COM INC                                                & NA                                                          & NA                                                          & NA                                                          & NA                                                          & NA                                                          &  TRUE                                                       & ...                                                         & NA                                                          & NA                                                          & NA                                                          & NA                                                          & NA                                                          & NA                                                          & NA                                                          & NA                                                          & NA                                                          & 8883T200                                                   \\\\\n",
       "\t  830736                                                     & 090649104                                                   & BIOPOOL INTERNATIONAL INC                                   & BIOPOOL INTL INC                                            & NAME CHANGED TO XTRANA INC 06/29/2001          SEE 98415F   & NA                                                          & NA                                                          & NA                                                          & NA                                                          &  TRUE                                                       & ...                                                         & NA                                                          & NA                                                          & NA                                                          & NA                                                          & NA                                                          & NA                                                          & NA                                                          & NA                                                          & NA                                                          & 90649104                                                   \\\\\n",
       "\t   54883                                                     & 048666510                                                   & KEANE INC                                                   & ATLANTIC KEYSTONE PETE CO LTD                               & NA                                                          & NA                                                          & NA                                                          & NA                                                          & NA                                                          & FALSE                                                       & ...                                                         & NA                                                          & NA                                                          & NA                                                          & NA                                                          & NA                                                          & NA                                                          & NA                                                          & NA                                                          & NA                                                          & 48666510                                                   \\\\\n",
       "\t  929940                                                     & 004532710                                                   & ASPEN TECHNOLOGY INC /DE/                                   & ACKERLEY GROUP INC                                          & NA                                                          & NA                                                          & NA                                                          & NA                                                          & NA                                                          & FALSE                                                       & ...                                                         & NA                                                          & NA                                                          & NA                                                          & NA                                                          & NA                                                          & NA                                                          & NA                                                          & NA                                                          & NA                                                          & 04532710                                                   \\\\\n",
       "\t  927066                                                     & 089151A10                                                   & DAVITA INC                                                  & BIG 5 HLDGS CORP                                            & NA                                                          & NA                                                          & NA                                                          & NA                                                          & NA                                                          & FALSE                                                       & ...                                                         & NA                                                          & NA                                                          & NA                                                          & NA                                                          & NA                                                          & NA                                                          & NA                                                          & NA                                                          & NA                                                          & 89151A10                                                   \\\\\n",
       "\t  817946                                                     & 045076109                                                   & MAYORS JEWELERS INC/DE                                      & ASHTON MNG N L                                              & NA                                                          & NA                                                          & NA                                                          & NA                                                          & NA                                                          & FALSE                                                       & ...                                                         & NA                                                          & NA                                                          & NA                                                          & NA                                                          & NA                                                          & NA                                                          & NA                                                          & NA                                                          & NA                                                          & 45076109                                                   \\\\\n",
       "\t   33073                                                     & 029403700                                                   & VISKASE COMPANIES INC                                       & AMERICAN SVGS BK FSB STOCKTON CALIF                         & NA                                                          & NA                                                          & NA                                                          & NA                                                          & NA                                                          & FALSE                                                       & ...                                                         & NA                                                          & NA                                                          & NA                                                          & NA                                                          & NA                                                          & NA                                                          & NA                                                          & NA                                                          & NA                                                          & 29403700                                                   \\\\\n",
       "\t  790715                                                     & 082656103                                                   & SIGMA DESIGNS INC                                           & BENTLEY NATL CORP                                           & NAME CHANGED TO SUNSHINE RES INTL INC 09/01/1975 SEE 867858 & NA                                                          & NA                                                          & NA                                                          & NA                                                          & FALSE                                                       & ...                                                         & NA                                                          & NA                                                          & NA                                                          & NA                                                          & NA                                                          & NA                                                          & NA                                                          & NA                                                          & NA                                                          & 82656103                                                   \\\\\n",
       "\t   41850                                                     & 037935240                                                   & GLOBAL MARINE INC                                           & APPLIED MICROSYSTEMS CORP                                   & NA                                                          & NA                                                          & NA                                                          & NA                                                          & NA                                                          & FALSE                                                       & ...                                                         & NA                                                          & NA                                                          & NA                                                          & NA                                                          & NA                                                          & NA                                                          & NA                                                          & NA                                                          & NA                                                          & 37935240                                                   \\\\\n",
       "\t 1094348                                                     & 029015110                                                   & ELOYALTY CORP                                               & AMERICAN PIPE \\& CONSTR CO                                 & NAME CHANGED TO AMERON INC 01/06/1970                       & NA                                                          & NA                                                          & NA                                                          & NA                                                          & FALSE                                                       & ...                                                         & NA                                                          & NA                                                          & NA                                                          & NA                                                          & NA                                                          & NA                                                          & NA                                                          & NA                                                          & NA                                                          & 29015110                                                   \\\\\n",
       "\\end{tabular}\n"
      ],
      "text/markdown": [
       "\n",
       "cik | cusip | company_name | issuer_name | issuer_adl | company_name_norm | issuer_name_norm | sim_index_norm | sim_index_max | valid_match | ... | better_cusip_issuer_name | better_cusip_issuer_adl | sim_ix_better_cusip | better_cusip6 | better_cusip6_issuer_name | better_cusip6_issuer_adl | better_cusip8 | better_cusip8_comnam | other_reason | cusip_raw | \n",
       "|---|---|---|---|---|---|---|---|---|---|\n",
       "| 1324105                                                     | 08883T200                                                   | Bidz.com, Inc.                                              | BIDZ COM INC                                                | NA                                                          | NA                                                          | NA                                                          | NA                                                          | NA                                                          |  TRUE                                                       | ...                                                         | NA                                                          | NA                                                          | NA                                                          | NA                                                          | NA                                                          | NA                                                          | NA                                                          | NA                                                          | NA                                                          | 8883T200                                                    | \n",
       "|  830736                                                     | 090649104                                                   | BIOPOOL INTERNATIONAL INC                                   | BIOPOOL INTL INC                                            | NAME CHANGED TO XTRANA INC 06/29/2001          SEE 98415F   | NA                                                          | NA                                                          | NA                                                          | NA                                                          |  TRUE                                                       | ...                                                         | NA                                                          | NA                                                          | NA                                                          | NA                                                          | NA                                                          | NA                                                          | NA                                                          | NA                                                          | NA                                                          | 90649104                                                    | \n",
       "|   54883                                                     | 048666510                                                   | KEANE INC                                                   | ATLANTIC KEYSTONE PETE CO LTD                               | NA                                                          | NA                                                          | NA                                                          | NA                                                          | NA                                                          | FALSE                                                       | ...                                                         | NA                                                          | NA                                                          | NA                                                          | NA                                                          | NA                                                          | NA                                                          | NA                                                          | NA                                                          | NA                                                          | 48666510                                                    | \n",
       "|  929940                                                     | 004532710                                                   | ASPEN TECHNOLOGY INC /DE/                                   | ACKERLEY GROUP INC                                          | NA                                                          | NA                                                          | NA                                                          | NA                                                          | NA                                                          | FALSE                                                       | ...                                                         | NA                                                          | NA                                                          | NA                                                          | NA                                                          | NA                                                          | NA                                                          | NA                                                          | NA                                                          | NA                                                          | 04532710                                                    | \n",
       "|  927066                                                     | 089151A10                                                   | DAVITA INC                                                  | BIG 5 HLDGS CORP                                            | NA                                                          | NA                                                          | NA                                                          | NA                                                          | NA                                                          | FALSE                                                       | ...                                                         | NA                                                          | NA                                                          | NA                                                          | NA                                                          | NA                                                          | NA                                                          | NA                                                          | NA                                                          | NA                                                          | 89151A10                                                    | \n",
       "|  817946                                                     | 045076109                                                   | MAYORS JEWELERS INC/DE                                      | ASHTON MNG N L                                              | NA                                                          | NA                                                          | NA                                                          | NA                                                          | NA                                                          | FALSE                                                       | ...                                                         | NA                                                          | NA                                                          | NA                                                          | NA                                                          | NA                                                          | NA                                                          | NA                                                          | NA                                                          | NA                                                          | 45076109                                                    | \n",
       "|   33073                                                     | 029403700                                                   | VISKASE COMPANIES INC                                       | AMERICAN SVGS BK FSB STOCKTON CALIF                         | NA                                                          | NA                                                          | NA                                                          | NA                                                          | NA                                                          | FALSE                                                       | ...                                                         | NA                                                          | NA                                                          | NA                                                          | NA                                                          | NA                                                          | NA                                                          | NA                                                          | NA                                                          | NA                                                          | 29403700                                                    | \n",
       "|  790715                                                     | 082656103                                                   | SIGMA DESIGNS INC                                           | BENTLEY NATL CORP                                           | NAME CHANGED TO SUNSHINE RES INTL INC 09/01/1975 SEE 867858 | NA                                                          | NA                                                          | NA                                                          | NA                                                          | FALSE                                                       | ...                                                         | NA                                                          | NA                                                          | NA                                                          | NA                                                          | NA                                                          | NA                                                          | NA                                                          | NA                                                          | NA                                                          | 82656103                                                    | \n",
       "|   41850                                                     | 037935240                                                   | GLOBAL MARINE INC                                           | APPLIED MICROSYSTEMS CORP                                   | NA                                                          | NA                                                          | NA                                                          | NA                                                          | NA                                                          | FALSE                                                       | ...                                                         | NA                                                          | NA                                                          | NA                                                          | NA                                                          | NA                                                          | NA                                                          | NA                                                          | NA                                                          | NA                                                          | 37935240                                                    | \n",
       "| 1094348                                                     | 029015110                                                   | ELOYALTY CORP                                               | AMERICAN PIPE & CONSTR CO                                   | NAME CHANGED TO AMERON INC 01/06/1970                       | NA                                                          | NA                                                          | NA                                                          | NA                                                          | FALSE                                                       | ...                                                         | NA                                                          | NA                                                          | NA                                                          | NA                                                          | NA                                                          | NA                                                          | NA                                                          | NA                                                          | NA                                                          | 29015110                                                    | \n",
       "\n",
       "\n"
      ],
      "text/plain": [
       "   cik     cusip     company_name             \n",
       "1  1324105 08883T200 Bidz.com, Inc.           \n",
       "2   830736 090649104 BIOPOOL INTERNATIONAL INC\n",
       "3    54883 048666510 KEANE INC                \n",
       "4   929940 004532710 ASPEN TECHNOLOGY INC /DE/\n",
       "5   927066 089151A10 DAVITA INC               \n",
       "6   817946 045076109 MAYORS JEWELERS INC/DE   \n",
       "7    33073 029403700 VISKASE COMPANIES INC    \n",
       "8   790715 082656103 SIGMA DESIGNS INC        \n",
       "9    41850 037935240 GLOBAL MARINE INC        \n",
       "10 1094348 029015110 ELOYALTY CORP            \n",
       "   issuer_name                        \n",
       "1  BIDZ COM INC                       \n",
       "2  BIOPOOL INTL INC                   \n",
       "3  ATLANTIC KEYSTONE PETE CO LTD      \n",
       "4  ACKERLEY GROUP INC                 \n",
       "5  BIG 5 HLDGS CORP                   \n",
       "6  ASHTON MNG N L                     \n",
       "7  AMERICAN SVGS BK FSB STOCKTON CALIF\n",
       "8  BENTLEY NATL CORP                  \n",
       "9  APPLIED MICROSYSTEMS CORP          \n",
       "10 AMERICAN PIPE & CONSTR CO          \n",
       "   issuer_adl                                                 \n",
       "1  NA                                                         \n",
       "2  NAME CHANGED TO XTRANA INC 06/29/2001          SEE 98415F  \n",
       "3  NA                                                         \n",
       "4  NA                                                         \n",
       "5  NA                                                         \n",
       "6  NA                                                         \n",
       "7  NA                                                         \n",
       "8  NAME CHANGED TO SUNSHINE RES INTL INC 09/01/1975 SEE 867858\n",
       "9  NA                                                         \n",
       "10 NAME CHANGED TO AMERON INC 01/06/1970                      \n",
       "   company_name_norm issuer_name_norm sim_index_norm sim_index_max valid_match\n",
       "1  NA                NA               NA             NA             TRUE      \n",
       "2  NA                NA               NA             NA             TRUE      \n",
       "3  NA                NA               NA             NA            FALSE      \n",
       "4  NA                NA               NA             NA            FALSE      \n",
       "5  NA                NA               NA             NA            FALSE      \n",
       "6  NA                NA               NA             NA            FALSE      \n",
       "7  NA                NA               NA             NA            FALSE      \n",
       "8  NA                NA               NA             NA            FALSE      \n",
       "9  NA                NA               NA             NA            FALSE      \n",
       "10 NA                NA               NA             NA            FALSE      \n",
       "   ... better_cusip_issuer_name better_cusip_issuer_adl sim_ix_better_cusip\n",
       "1  ... NA                       NA                      NA                 \n",
       "2  ... NA                       NA                      NA                 \n",
       "3  ... NA                       NA                      NA                 \n",
       "4  ... NA                       NA                      NA                 \n",
       "5  ... NA                       NA                      NA                 \n",
       "6  ... NA                       NA                      NA                 \n",
       "7  ... NA                       NA                      NA                 \n",
       "8  ... NA                       NA                      NA                 \n",
       "9  ... NA                       NA                      NA                 \n",
       "10 ... NA                       NA                      NA                 \n",
       "   better_cusip6 better_cusip6_issuer_name better_cusip6_issuer_adl\n",
       "1  NA            NA                        NA                      \n",
       "2  NA            NA                        NA                      \n",
       "3  NA            NA                        NA                      \n",
       "4  NA            NA                        NA                      \n",
       "5  NA            NA                        NA                      \n",
       "6  NA            NA                        NA                      \n",
       "7  NA            NA                        NA                      \n",
       "8  NA            NA                        NA                      \n",
       "9  NA            NA                        NA                      \n",
       "10 NA            NA                        NA                      \n",
       "   better_cusip8 better_cusip8_comnam other_reason cusip_raw\n",
       "1  NA            NA                   NA           8883T200 \n",
       "2  NA            NA                   NA           90649104 \n",
       "3  NA            NA                   NA           48666510 \n",
       "4  NA            NA                   NA           04532710 \n",
       "5  NA            NA                   NA           89151A10 \n",
       "6  NA            NA                   NA           45076109 \n",
       "7  NA            NA                   NA           29403700 \n",
       "8  NA            NA                   NA           82656103 \n",
       "9  NA            NA                   NA           37935240 \n",
       "10 NA            NA                   NA           29015110 "
      ]
     },
     "metadata": {},
     "output_type": "display_data"
    }
   ],
   "source": [
    "cusip_cik_exceptions %>% head(10)"
   ]
  },
  {
   "cell_type": "markdown",
   "metadata": {},
   "source": [
    "## 1. Valid 9-digit Cusips in `valid9s_above_10_w_issuers` to add to `cusip_cik_exceptions`\n",
    "\n",
    "In the next cell, we define the new pairs to look at from `valid9s_above_10_w_issuers`. We do this by imposing the threshold condition using `filter(sim_index_max < 0.8)`, and then on top of this we do an `anti_join` with `cusip_cik_exceptions` to get rid of the pairs that have already been analysed. We assign the new rows to the dataframe `to_analyse`. \n",
    "\n",
    "In the cells that follow, we provide cells to be amended by the user to make a dataframe `df` that contains information from `to_analyse` for a chosen (`cik`, `cusip`) pair, and to assign values in `df` for columns such as `valid_match`, `better_cik`, `better_cusip`, and so on. In the last cell, `df` is written to `edgar.cusip_cik_exceptions`. In between are also some cells for searching for better ciks and better cusips within the data, either by searching by `cik`, `cusip`, or parts of a `company_name` or `issuer_name`.\n"
   ]
  },
  {
   "cell_type": "code",
   "execution_count": 164,
   "metadata": {},
   "outputs": [
    {
     "name": "stderr",
     "output_type": "stream",
     "text": [
      "Joining, by = c(\"cik\", \"cusip\")\n",
      "Warning message in cbind(parts$left, ellip_h, parts$right, deparse.level = 0L):\n",
      "\"number of rows of result is not a multiple of vector length (arg 2)\"Warning message in cbind(parts$left, ellip_h, parts$right, deparse.level = 0L):\n",
      "\"number of rows of result is not a multiple of vector length (arg 2)\"Warning message in cbind(parts$left, ellip_h, parts$right, deparse.level = 0L):\n",
      "\"number of rows of result is not a multiple of vector length (arg 2)\"Warning message in cbind(parts$left, ellip_h, parts$right, deparse.level = 0L):\n",
      "\"number of rows of result is not a multiple of vector length (arg 2)\""
     ]
    },
    {
     "data": {
      "text/html": [
       "<table>\n",
       "<thead><tr><th scope=col>cik</th><th scope=col>cusip</th><th scope=col>company_name</th><th scope=col>cusip6</th><th scope=col>ncusip</th><th scope=col>issuer_check</th><th scope=col>issuer_name_1</th><th scope=col>issuer_name_2</th><th scope=col>issuer_name_3</th><th scope=col>issuer_adl_1</th><th scope=col>...</th><th scope=col>entry_date</th><th scope=col>cp_institution_type</th><th scope=col>issuer_name</th><th scope=col>issuer_adl</th><th scope=col>company_name_raw</th><th scope=col>issuer_name_raw</th><th scope=col>company_name_norm</th><th scope=col>issuer_name_norm</th><th scope=col>sim_index_norm</th><th scope=col>sim_index_max</th></tr></thead>\n",
       "<tbody>\n",
       "</tbody>\n",
       "</table>\n"
      ],
      "text/latex": [
       "\\begin{tabular}{r|lllllllllllllllllllllllllllllllllll}\n",
       " cik & cusip & company\\_name & cusip6 & ncusip & issuer\\_check & issuer\\_name\\_1 & issuer\\_name\\_2 & issuer\\_name\\_3 & issuer\\_adl\\_1 & ... & entry\\_date & cp\\_institution\\_type & issuer\\_name & issuer\\_adl & company\\_name\\_raw & issuer\\_name\\_raw & company\\_name\\_norm & issuer\\_name\\_norm & sim\\_index\\_norm & sim\\_index\\_max\\\\\n",
       "\\hline\n",
       "\\end{tabular}\n"
      ],
      "text/markdown": [
       "\n",
       "cik | cusip | company_name | cusip6 | ncusip | issuer_check | issuer_name_1 | issuer_name_2 | issuer_name_3 | issuer_adl_1 | ... | entry_date | cp_institution_type | issuer_name | issuer_adl | company_name_raw | issuer_name_raw | company_name_norm | issuer_name_norm | sim_index_norm | sim_index_max | \n",
       "||\n",
       "\n",
       "\n"
      ],
      "text/plain": [
       "     cik cusip company_name cusip6 ncusip issuer_check issuer_name_1\n",
       "     issuer_name_2 issuer_name_3 issuer_adl_1 ... entry_date\n",
       "     cp_institution_type issuer_name issuer_adl company_name_raw\n",
       "     issuer_name_raw company_name_norm issuer_name_norm sim_index_norm\n",
       "     sim_index_max"
      ]
     },
     "metadata": {},
     "output_type": "display_data"
    }
   ],
   "source": [
    "to_analyse <- valid9s_above_10_w_issuers %>% filter(sim_index_max < 0.8) %>% \n",
    "                anti_join(cusip_cik_exceptions %>% distinct(cik, cusip))\n",
    "to_analyse"
   ]
  },
  {
   "cell_type": "code",
   "execution_count": 169,
   "metadata": {
    "collapsed": true
   },
   "outputs": [],
   "source": [
    "to_analyse$cusip_raw <- to_analyse$cusip"
   ]
  },
  {
   "cell_type": "code",
   "execution_count": 168,
   "metadata": {},
   "outputs": [
    {
     "data": {
      "text/html": [
       "<ol class=list-inline>\n",
       "\t<li>'cik'</li>\n",
       "\t<li>'cusip'</li>\n",
       "\t<li>'company_name'</li>\n",
       "\t<li>'issuer_name'</li>\n",
       "\t<li>'issuer_adl'</li>\n",
       "\t<li>'company_name_norm'</li>\n",
       "\t<li>'issuer_name_norm'</li>\n",
       "\t<li>'sim_index_norm'</li>\n",
       "\t<li>'sim_index_max'</li>\n",
       "</ol>\n"
      ],
      "text/latex": [
       "\\begin{enumerate*}\n",
       "\\item 'cik'\n",
       "\\item 'cusip'\n",
       "\\item 'company\\_name'\n",
       "\\item 'issuer\\_name'\n",
       "\\item 'issuer\\_adl'\n",
       "\\item 'company\\_name\\_norm'\n",
       "\\item 'issuer\\_name\\_norm'\n",
       "\\item 'sim\\_index\\_norm'\n",
       "\\item 'sim\\_index\\_max'\n",
       "\\end{enumerate*}\n"
      ],
      "text/markdown": [
       "1. 'cik'\n",
       "2. 'cusip'\n",
       "3. 'company_name'\n",
       "4. 'issuer_name'\n",
       "5. 'issuer_adl'\n",
       "6. 'company_name_norm'\n",
       "7. 'issuer_name_norm'\n",
       "8. 'sim_index_norm'\n",
       "9. 'sim_index_max'\n",
       "\n",
       "\n"
      ],
      "text/plain": [
       "[1] \"cik\"               \"cusip\"             \"company_name\"     \n",
       "[4] \"issuer_name\"       \"issuer_adl\"        \"company_name_norm\"\n",
       "[7] \"issuer_name_norm\"  \"sim_index_norm\"    \"sim_index_max\"    "
      ]
     },
     "metadata": {},
     "output_type": "display_data"
    }
   ],
   "source": [
    "colnames(to_analyse)[colnames(to_analyse) %in% colnames(cusip_cik_exceptions)]"
   ]
  },
  {
   "cell_type": "code",
   "execution_count": 170,
   "metadata": {},
   "outputs": [
    {
     "data": {
      "text/html": [
       "<ol class=list-inline>\n",
       "\t<li>'cik'</li>\n",
       "\t<li>'cusip'</li>\n",
       "\t<li>'company_name'</li>\n",
       "\t<li>'issuer_name'</li>\n",
       "\t<li>'issuer_adl'</li>\n",
       "\t<li>'company_name_norm'</li>\n",
       "\t<li>'issuer_name_norm'</li>\n",
       "\t<li>'sim_index_norm'</li>\n",
       "\t<li>'sim_index_max'</li>\n",
       "\t<li>'cusip_raw'</li>\n",
       "</ol>\n"
      ],
      "text/latex": [
       "\\begin{enumerate*}\n",
       "\\item 'cik'\n",
       "\\item 'cusip'\n",
       "\\item 'company\\_name'\n",
       "\\item 'issuer\\_name'\n",
       "\\item 'issuer\\_adl'\n",
       "\\item 'company\\_name\\_norm'\n",
       "\\item 'issuer\\_name\\_norm'\n",
       "\\item 'sim\\_index\\_norm'\n",
       "\\item 'sim\\_index\\_max'\n",
       "\\item 'cusip\\_raw'\n",
       "\\end{enumerate*}\n"
      ],
      "text/markdown": [
       "1. 'cik'\n",
       "2. 'cusip'\n",
       "3. 'company_name'\n",
       "4. 'issuer_name'\n",
       "5. 'issuer_adl'\n",
       "6. 'company_name_norm'\n",
       "7. 'issuer_name_norm'\n",
       "8. 'sim_index_norm'\n",
       "9. 'sim_index_max'\n",
       "10. 'cusip_raw'\n",
       "\n",
       "\n"
      ],
      "text/plain": [
       " [1] \"cik\"               \"cusip\"             \"company_name\"     \n",
       " [4] \"issuer_name\"       \"issuer_adl\"        \"company_name_norm\"\n",
       " [7] \"issuer_name_norm\"  \"sim_index_norm\"    \"sim_index_max\"    \n",
       "[10] \"cusip_raw\"        "
      ]
     },
     "metadata": {},
     "output_type": "display_data"
    }
   ],
   "source": [
    "cols <- colnames(cusip_cik_exceptions)[colnames(cusip_cik_exceptions) %in% colnames(to_analyse)]\n",
    "cols"
   ]
  },
  {
   "cell_type": "code",
   "execution_count": 171,
   "metadata": {},
   "outputs": [
    {
     "data": {
      "text/html": [
       "<ol class=list-inline>\n",
       "\t<li>'valid_match'</li>\n",
       "\t<li>'better_cik'</li>\n",
       "\t<li>'better_cik_company_name'</li>\n",
       "\t<li>'sim_ix_better_cik'</li>\n",
       "\t<li>'better_cusip'</li>\n",
       "\t<li>'better_cusip_issuer_name'</li>\n",
       "\t<li>'better_cusip_issuer_adl'</li>\n",
       "\t<li>'sim_ix_better_cusip'</li>\n",
       "\t<li>'better_cusip6'</li>\n",
       "\t<li>'better_cusip6_issuer_name'</li>\n",
       "\t<li>'better_cusip6_issuer_adl'</li>\n",
       "\t<li>'better_cusip8'</li>\n",
       "\t<li>'better_cusip8_comnam'</li>\n",
       "\t<li>'other_reason'</li>\n",
       "</ol>\n"
      ],
      "text/latex": [
       "\\begin{enumerate*}\n",
       "\\item 'valid\\_match'\n",
       "\\item 'better\\_cik'\n",
       "\\item 'better\\_cik\\_company\\_name'\n",
       "\\item 'sim\\_ix\\_better\\_cik'\n",
       "\\item 'better\\_cusip'\n",
       "\\item 'better\\_cusip\\_issuer\\_name'\n",
       "\\item 'better\\_cusip\\_issuer\\_adl'\n",
       "\\item 'sim\\_ix\\_better\\_cusip'\n",
       "\\item 'better\\_cusip6'\n",
       "\\item 'better\\_cusip6\\_issuer\\_name'\n",
       "\\item 'better\\_cusip6\\_issuer\\_adl'\n",
       "\\item 'better\\_cusip8'\n",
       "\\item 'better\\_cusip8\\_comnam'\n",
       "\\item 'other\\_reason'\n",
       "\\end{enumerate*}\n"
      ],
      "text/markdown": [
       "1. 'valid_match'\n",
       "2. 'better_cik'\n",
       "3. 'better_cik_company_name'\n",
       "4. 'sim_ix_better_cik'\n",
       "5. 'better_cusip'\n",
       "6. 'better_cusip_issuer_name'\n",
       "7. 'better_cusip_issuer_adl'\n",
       "8. 'sim_ix_better_cusip'\n",
       "9. 'better_cusip6'\n",
       "10. 'better_cusip6_issuer_name'\n",
       "11. 'better_cusip6_issuer_adl'\n",
       "12. 'better_cusip8'\n",
       "13. 'better_cusip8_comnam'\n",
       "14. 'other_reason'\n",
       "\n",
       "\n"
      ],
      "text/plain": [
       " [1] \"valid_match\"               \"better_cik\"               \n",
       " [3] \"better_cik_company_name\"   \"sim_ix_better_cik\"        \n",
       " [5] \"better_cusip\"              \"better_cusip_issuer_name\" \n",
       " [7] \"better_cusip_issuer_adl\"   \"sim_ix_better_cusip\"      \n",
       " [9] \"better_cusip6\"             \"better_cusip6_issuer_name\"\n",
       "[11] \"better_cusip6_issuer_adl\"  \"better_cusip8\"            \n",
       "[13] \"better_cusip8_comnam\"      \"other_reason\"             "
      ]
     },
     "metadata": {},
     "output_type": "display_data"
    }
   ],
   "source": [
    "colnames(cusip_cik_exceptions)[!colnames(cusip_cik_exceptions) %in% colnames(to_analyse)]"
   ]
  },
  {
   "cell_type": "code",
   "execution_count": null,
   "metadata": {
    "collapsed": true
   },
   "outputs": [],
   "source": [
    "row_cik <- \n",
    "row_cusip <- \n",
    "\n",
    "df <- to_analyse[to_analyse$cik == row_cik & to_analyse$cusip == row_cusip, cols]"
   ]
  },
  {
   "cell_type": "code",
   "execution_count": null,
   "metadata": {
    "collapsed": true
   },
   "outputs": [],
   "source": [
    "# See which other cusips have matched row_cik and which ones are better matches\n",
    "valid9s_above_10_w_issuers %>% filter(cik == row_cik)"
   ]
  },
  {
   "cell_type": "code",
   "execution_count": null,
   "metadata": {
    "collapsed": true
   },
   "outputs": [],
   "source": [
    "# See which other ciks have matched row_cusip and which ones are better matches\n",
    "valid9s_above_10_w_issuers %>% filter(cusip == row_cusip)"
   ]
  },
  {
   "cell_type": "code",
   "execution_count": null,
   "metadata": {
    "collapsed": true
   },
   "outputs": [],
   "source": [
    "# Search for names in edgar.filings by cik\n",
    "name_search_sql <- paste0('SELECT DISTINCT cik, company_name FROM edgar.filings WHERE cik = ', row_cik)\n",
    "tbl(pg, sql(name_search_sql))"
   ]
  },
  {
   "cell_type": "code",
   "execution_count": null,
   "metadata": {
    "collapsed": true
   },
   "outputs": [],
   "source": [
    "# Search for ciks in edgar.filings by using first few words of a company name\n",
    "company_name_str <- \"\"\n",
    "cik_search_sql <- paste0(\"SELECT DISTINCT cik, company_name FROM edgar.filings WHERE UPPER(company_name) ~ '^\", \n",
    "                         company_name_str, \"'\")\n",
    "tbl(pg, sql(cik_search_sql))"
   ]
  },
  {
   "cell_type": "code",
   "execution_count": null,
   "metadata": {
    "collapsed": true
   },
   "outputs": [],
   "source": [
    "# Try looking for cusip6's in issuers by searching by first few words of company_name\n",
    "company_name_str <- ''\n",
    "issuers %>% filter(grepl(paste0('^', company_name_str), issuer_name))"
   ]
  },
  {
   "cell_type": "code",
   "execution_count": null,
   "metadata": {
    "collapsed": true
   },
   "outputs": [],
   "source": [
    "# Try looking for cusip8's in stocknames by searching by first few words of company_name\n",
    "company_name_str <- ''\n",
    "stocknames %>% filter(grepl(paste0('^', company_name_str), comnam))"
   ]
  },
  {
   "cell_type": "code",
   "execution_count": null,
   "metadata": {
    "collapsed": true
   },
   "outputs": [],
   "source": [
    "df$valid_match <- \n",
    "df$better_cik <- \n",
    "df$better_cik_company_name <- \n",
    "df$better_cusip <- \n",
    "df$better_cusip_issuer_name <-\n",
    "df$better_cusip_issuer_adl <- \n",
    "df$better_cusip6 <- \n",
    "df$better_cusip6_issuer_name <-\n",
    "df$better_cusip6_issuer_adl <-\n",
    "df$better_cusip8 <- \n",
    "df$better_cusip8_comnam <- \n",
    "df$other_reason <- "
   ]
  },
  {
   "cell_type": "code",
   "execution_count": null,
   "metadata": {
    "collapsed": true
   },
   "outputs": [],
   "source": [
    "rs <- dbWriteTable(pg, c('edgar', 'cusip_cik_exceptions'), df, row.names = FALSE, append = TRUE,\n",
    "                   encoding = \"latin1\")"
   ]
  },
  {
   "cell_type": "markdown",
   "metadata": {
    "collapsed": true
   },
   "source": [
    "## 2. Valid 9-digit Cusips that join only to `crsp.stocknames` to be added to `edgar.cusip_cik_exceptions`\n",
    "\n",
    "In this section, we now turn to valid 9-digit cusips that join onto `crsp.stocknames` but not `cusipm.issuer`. In the first cell and step, we simply read in the table `crsp.stocknames` into the dataframe `stocknames`. Then, we calculate `nines_not_in_issuers`, which is essentially `valid9s_above_10` with an `anti_join` with `valid9s_above_10_w_issuers`, thus removing the rows that join to `cusipm.issuer`. We than calculate the `ncusip` for each row in `nines_not_in_issuers` and `inner_join` with `stocknames` to get the rows which join only to `crsp.stocknames`, `nines_w_stocknames`. We then calculate `sim_index_norm` and `sim_index_max` for each row. Note here, in the analysis of `nines_w_stocknames` below, we chose to ignore name normalization when calculating `sim_index_norm` and `sim_index_max` for \n",
    "`nines_w_stocknames`, as the set of valid 9 digit cusips which join stocknames but not issuers is an order of magnitude less (2079 exactly), making normalization less necessary to help narrow the numbers to a manageable level"
   ]
  },
  {
   "cell_type": "code",
   "execution_count": 255,
   "metadata": {
    "collapsed": true
   },
   "outputs": [],
   "source": [
    "stocknames <- tbl(pg, sql('SELECT * FROM crsp.stocknames')) %>% collect()"
   ]
  },
  {
   "cell_type": "code",
   "execution_count": 256,
   "metadata": {},
   "outputs": [
    {
     "name": "stderr",
     "output_type": "stream",
     "text": [
      "Joining, by = c(\"cik\", \"cusip\")\n",
      "Joining, by = c(\"cik\", \"cusip\")\n"
     ]
    }
   ],
   "source": [
    "nines_not_in_issuers <- valid9s_above_10 %>% anti_join(valid9s_above_10_w_issuers %>% distinct(cik, cusip))\n",
    "nines_not_in_issuers <- nines_not_in_issuers %>% mutate(ncusip = substr(cusip, 1, 8))\n",
    "nines_w_stocknames <- nines_not_in_issuers %>% inner_join(stocknames, by = 'ncusip') %>%\n",
    "                    select(cik, cusip.x, ncusip, company_name, comnam) %>% rename(issuer_name = comnam)\n",
    "\n",
    "nines_w_stocknames$sim_index_norm <- unlist(lapply(1:nrow(nines_w_stocknames),\n",
    "    function(i) {get_name_similarity_index(nines_w_stocknames$company_name[i], nines_w_stocknames$issuer_name[i])}))\n",
    "\n",
    "nines_w_stocknames <- nines_w_stocknames %>% rename(cusip = cusip.x)\n",
    "\n",
    "nines_w_stocknames <- nines_w_stocknames %>% inner_join(nines_w_stocknames %>% group_by(cik, cusip) %>%\n",
    "                    summarise(sim_index_max = max(sim_index_norm)) %>% ungroup())"
   ]
  },
  {
   "cell_type": "code",
   "execution_count": 257,
   "metadata": {},
   "outputs": [
    {
     "data": {
      "text/html": [
       "<table>\n",
       "<thead><tr><th scope=col>n</th></tr></thead>\n",
       "<tbody>\n",
       "\t<tr><td>2079</td></tr>\n",
       "</tbody>\n",
       "</table>\n"
      ],
      "text/latex": [
       "\\begin{tabular}{r|l}\n",
       " n\\\\\n",
       "\\hline\n",
       "\t 2079\\\\\n",
       "\\end{tabular}\n"
      ],
      "text/markdown": [
       "\n",
       "n | \n",
       "|---|\n",
       "| 2079 | \n",
       "\n",
       "\n"
      ],
      "text/plain": [
       "  n   \n",
       "1 2079"
      ]
     },
     "metadata": {},
     "output_type": "display_data"
    }
   ],
   "source": [
    "nines_w_stocknames %>% distinct(cik, cusip) %>% count()"
   ]
  },
  {
   "cell_type": "code",
   "execution_count": 258,
   "metadata": {},
   "outputs": [
    {
     "data": {
      "text/html": [
       "<table>\n",
       "<thead><tr><th scope=col>cik</th><th scope=col>cusip</th><th scope=col>ncusip</th><th scope=col>company_name</th><th scope=col>issuer_name</th><th scope=col>sim_index_norm</th><th scope=col>sim_index_max</th></tr></thead>\n",
       "<tbody>\n",
       "\t<tr><td>1009404                          </td><td>G90751101                        </td><td>G9075110                         </td><td>TRITON ENERGY LTD                </td><td>TRITON ENERGY LTD                </td><td>1.0000000                        </td><td>1.0000000                        </td></tr>\n",
       "\t<tr><td>1610682                          </td><td>903318103                        </td><td>90331810                         </td><td>USD Partners LP                  </td><td>U S D PARTNERS LP                </td><td>1.0000000                        </td><td>1.0000000                        </td></tr>\n",
       "\t<tr><td>1707092                          </td><td>G2709G107                        </td><td>G2709G10                         </td><td>Delphi Technologies PLC          </td><td>DELPHI TECHNOLOGIES PLC          </td><td>1.0000000                        </td><td>1.0000000                        </td></tr>\n",
       "\t<tr><td>1100663                          </td><td>46435G250                        </td><td>46435G25                         </td><td>iSHARES TRUST                    </td><td>ISHARES TRUST                    </td><td>1.0000000                        </td><td>1.0000000                        </td></tr>\n",
       "\t<tr><td>1681903                          </td><td>44931Q104                        </td><td>44931Q10                         </td><td>ICC Holdings, Inc.               </td><td>I C C HOLDINGS INC               </td><td>1.0000000                        </td><td>1.0000000                        </td></tr>\n",
       "\t<tr><td>1080014                          </td><td>45781M101                        </td><td>45781M10                         </td><td>Innoviva, Inc.                   </td><td>THERAVANCE INC                   </td><td>0.3076923                        </td><td>0.3076923                        </td></tr>\n",
       "\t<tr><td>1548281                          </td><td>G2266G102                        </td><td>G2266G10                         </td><td>Collabrium Japan Acquisition Corp</td><td>COLLABRIUM JAPAN ACQUISIT CORP   </td><td>0.9000000                        </td><td>0.9000000                        </td></tr>\n",
       "\t<tr><td>1464790                          </td><td>05580M108                        </td><td>05580M10                         </td><td>B. Riley Financial, Inc.         </td><td>B RILEY FINANCIAL INC            </td><td>1.0000000                        </td><td>1.0000000                        </td></tr>\n",
       "\t<tr><td>1540729                          </td><td>34552U104                        </td><td>34552U10                         </td><td>Foresight Energy LP              </td><td>FORESIGHT ENERGY LP              </td><td>1.0000000                        </td><td>1.0000000                        </td></tr>\n",
       "\t<tr><td>1016838                          </td><td>M81865103                        </td><td>M8186510                         </td><td>RADCOM LTD                       </td><td>RADCOM LTD                       </td><td>1.0000000                        </td><td>1.0000000                        </td></tr>\n",
       "</tbody>\n",
       "</table>\n"
      ],
      "text/latex": [
       "\\begin{tabular}{r|lllllll}\n",
       " cik & cusip & ncusip & company\\_name & issuer\\_name & sim\\_index\\_norm & sim\\_index\\_max\\\\\n",
       "\\hline\n",
       "\t 1009404                           & G90751101                         & G9075110                          & TRITON ENERGY LTD                 & TRITON ENERGY LTD                 & 1.0000000                         & 1.0000000                        \\\\\n",
       "\t 1610682                           & 903318103                         & 90331810                          & USD Partners LP                   & U S D PARTNERS LP                 & 1.0000000                         & 1.0000000                        \\\\\n",
       "\t 1707092                           & G2709G107                         & G2709G10                          & Delphi Technologies PLC           & DELPHI TECHNOLOGIES PLC           & 1.0000000                         & 1.0000000                        \\\\\n",
       "\t 1100663                           & 46435G250                         & 46435G25                          & iSHARES TRUST                     & ISHARES TRUST                     & 1.0000000                         & 1.0000000                        \\\\\n",
       "\t 1681903                           & 44931Q104                         & 44931Q10                          & ICC Holdings, Inc.                & I C C HOLDINGS INC                & 1.0000000                         & 1.0000000                        \\\\\n",
       "\t 1080014                           & 45781M101                         & 45781M10                          & Innoviva, Inc.                    & THERAVANCE INC                    & 0.3076923                         & 0.3076923                        \\\\\n",
       "\t 1548281                           & G2266G102                         & G2266G10                          & Collabrium Japan Acquisition Corp & COLLABRIUM JAPAN ACQUISIT CORP    & 0.9000000                         & 0.9000000                        \\\\\n",
       "\t 1464790                           & 05580M108                         & 05580M10                          & B. Riley Financial, Inc.          & B RILEY FINANCIAL INC             & 1.0000000                         & 1.0000000                        \\\\\n",
       "\t 1540729                           & 34552U104                         & 34552U10                          & Foresight Energy LP               & FORESIGHT ENERGY LP               & 1.0000000                         & 1.0000000                        \\\\\n",
       "\t 1016838                           & M81865103                         & M8186510                          & RADCOM LTD                        & RADCOM LTD                        & 1.0000000                         & 1.0000000                        \\\\\n",
       "\\end{tabular}\n"
      ],
      "text/markdown": [
       "\n",
       "cik | cusip | ncusip | company_name | issuer_name | sim_index_norm | sim_index_max | \n",
       "|---|---|---|---|---|---|---|---|---|---|\n",
       "| 1009404                           | G90751101                         | G9075110                          | TRITON ENERGY LTD                 | TRITON ENERGY LTD                 | 1.0000000                         | 1.0000000                         | \n",
       "| 1610682                           | 903318103                         | 90331810                          | USD Partners LP                   | U S D PARTNERS LP                 | 1.0000000                         | 1.0000000                         | \n",
       "| 1707092                           | G2709G107                         | G2709G10                          | Delphi Technologies PLC           | DELPHI TECHNOLOGIES PLC           | 1.0000000                         | 1.0000000                         | \n",
       "| 1100663                           | 46435G250                         | 46435G25                          | iSHARES TRUST                     | ISHARES TRUST                     | 1.0000000                         | 1.0000000                         | \n",
       "| 1681903                           | 44931Q104                         | 44931Q10                          | ICC Holdings, Inc.                | I C C HOLDINGS INC                | 1.0000000                         | 1.0000000                         | \n",
       "| 1080014                           | 45781M101                         | 45781M10                          | Innoviva, Inc.                    | THERAVANCE INC                    | 0.3076923                         | 0.3076923                         | \n",
       "| 1548281                           | G2266G102                         | G2266G10                          | Collabrium Japan Acquisition Corp | COLLABRIUM JAPAN ACQUISIT CORP    | 0.9000000                         | 0.9000000                         | \n",
       "| 1464790                           | 05580M108                         | 05580M10                          | B. Riley Financial, Inc.          | B RILEY FINANCIAL INC             | 1.0000000                         | 1.0000000                         | \n",
       "| 1540729                           | 34552U104                         | 34552U10                          | Foresight Energy LP               | FORESIGHT ENERGY LP               | 1.0000000                         | 1.0000000                         | \n",
       "| 1016838                           | M81865103                         | M8186510                          | RADCOM LTD                        | RADCOM LTD                        | 1.0000000                         | 1.0000000                         | \n",
       "\n",
       "\n"
      ],
      "text/plain": [
       "   cik     cusip     ncusip   company_name                     \n",
       "1  1009404 G90751101 G9075110 TRITON ENERGY LTD                \n",
       "2  1610682 903318103 90331810 USD Partners LP                  \n",
       "3  1707092 G2709G107 G2709G10 Delphi Technologies PLC          \n",
       "4  1100663 46435G250 46435G25 iSHARES TRUST                    \n",
       "5  1681903 44931Q104 44931Q10 ICC Holdings, Inc.               \n",
       "6  1080014 45781M101 45781M10 Innoviva, Inc.                   \n",
       "7  1548281 G2266G102 G2266G10 Collabrium Japan Acquisition Corp\n",
       "8  1464790 05580M108 05580M10 B. Riley Financial, Inc.         \n",
       "9  1540729 34552U104 34552U10 Foresight Energy LP              \n",
       "10 1016838 M81865103 M8186510 RADCOM LTD                       \n",
       "   issuer_name                    sim_index_norm sim_index_max\n",
       "1  TRITON ENERGY LTD              1.0000000      1.0000000    \n",
       "2  U S D PARTNERS LP              1.0000000      1.0000000    \n",
       "3  DELPHI TECHNOLOGIES PLC        1.0000000      1.0000000    \n",
       "4  ISHARES TRUST                  1.0000000      1.0000000    \n",
       "5  I C C HOLDINGS INC             1.0000000      1.0000000    \n",
       "6  THERAVANCE INC                 0.3076923      0.3076923    \n",
       "7  COLLABRIUM JAPAN ACQUISIT CORP 0.9000000      0.9000000    \n",
       "8  B RILEY FINANCIAL INC          1.0000000      1.0000000    \n",
       "9  FORESIGHT ENERGY LP            1.0000000      1.0000000    \n",
       "10 RADCOM LTD                     1.0000000      1.0000000    "
      ]
     },
     "metadata": {},
     "output_type": "display_data"
    }
   ],
   "source": [
    "nines_w_stocknames %>% head(10)"
   ]
  },
  {
   "cell_type": "markdown",
   "metadata": {},
   "source": [
    "In the cell below, we define the analogous `to_analyse` for the pairs in `nines_w_stocknames`. Again, we select only rows that have `sim_index_max` fall below the threshold of 0.8, and then we `anti_join` with `cusip_cik_exceptions` to get rid of the rows that have already been accounted for. We then similarly provide cells to fill in the other columns for each row, and then to write the filled in rows to `edgar.cusip_cik_exceptions`."
   ]
  },
  {
   "cell_type": "code",
   "execution_count": 107,
   "metadata": {},
   "outputs": [
    {
     "name": "stderr",
     "output_type": "stream",
     "text": [
      "Joining, by = c(\"cik\", \"cusip\")\n"
     ]
    },
    {
     "data": {
      "text/html": [
       "<table>\n",
       "<thead><tr><th scope=col>cik</th><th scope=col>cusip</th><th scope=col>ncusip</th><th scope=col>company_name</th><th scope=col>issuer_name</th><th scope=col>sim_index_norm</th><th scope=col>sim_index_max</th></tr></thead>\n",
       "<tbody>\n",
       "</tbody>\n",
       "</table>\n"
      ],
      "text/latex": [
       "\\begin{tabular}{r|lllllll}\n",
       " cik & cusip & ncusip & company\\_name & issuer\\_name & sim\\_index\\_norm & sim\\_index\\_max\\\\\n",
       "\\hline\n",
       "\\end{tabular}\n"
      ],
      "text/markdown": [
       "\n",
       "cik | cusip | ncusip | company_name | issuer_name | sim_index_norm | sim_index_max | \n",
       "||\n",
       "\n",
       "\n"
      ],
      "text/plain": [
       "     cik cusip ncusip company_name issuer_name sim_index_norm sim_index_max"
      ]
     },
     "metadata": {},
     "output_type": "display_data"
    }
   ],
   "source": [
    "to_analyse <- nines_w_stocknames %>% filter(sim_index_max < 0.8) %>% anti_join(cusip_cik_exceptions %>% distinct(cik, cusip))"
   ]
  },
  {
   "cell_type": "code",
   "execution_count": null,
   "metadata": {
    "collapsed": true
   },
   "outputs": [],
   "source": [
    "to_analyse$cusip_raw <- to_analyse$cusip"
   ]
  },
  {
   "cell_type": "code",
   "execution_count": null,
   "metadata": {
    "collapsed": true
   },
   "outputs": [],
   "source": [
    "cols <- colnames(cusip_cik_exceptions)[colnames(cusip_cik_exceptions) %in% colnames(to_analyse)]\n",
    "cols"
   ]
  },
  {
   "cell_type": "code",
   "execution_count": null,
   "metadata": {
    "collapsed": true
   },
   "outputs": [],
   "source": [
    "row_cik <- \n",
    "row_cusip <- \n",
    "\n",
    "df <- to_analyse[to_analyse$cik == row_cik & to_analyse$cusip == row_cusip, cols]"
   ]
  },
  {
   "cell_type": "code",
   "execution_count": null,
   "metadata": {
    "collapsed": true
   },
   "outputs": [],
   "source": [
    "# See which other cusips have matched row_cik and which ones are better matches\n",
    "valid9s_above_10_w_issuers %>% filter(cik == row_cik)"
   ]
  },
  {
   "cell_type": "code",
   "execution_count": null,
   "metadata": {
    "collapsed": true
   },
   "outputs": [],
   "source": [
    "# See which other ciks have matched row_cusip and which ones are better matches\n",
    "valid9s_above_10_w_issuers %>% filter(cusip == row_cusip)"
   ]
  },
  {
   "cell_type": "code",
   "execution_count": null,
   "metadata": {
    "collapsed": true
   },
   "outputs": [],
   "source": [
    "# Search for names in edgar.filings by cik\n",
    "name_search_sql <- paste0('SELECT DISTINCT cik, company_name FROM edgar.filings WHERE cik = ', row_cik)\n",
    "tbl(pg, sql(name_search_sql))"
   ]
  },
  {
   "cell_type": "code",
   "execution_count": null,
   "metadata": {
    "collapsed": true
   },
   "outputs": [],
   "source": [
    "# Search for ciks in edgar.filings by using first few words of a company name\n",
    "company_name_str <- \"\"\n",
    "cik_search_sql <- paste0(\"SELECT DISTINCT cik, company_name FROM edgar.filings WHERE UPPER(company_name) ~ '^\", \n",
    "                         company_name_str, \"'\")\n",
    "tbl(pg, sql(cik_search_sql))"
   ]
  },
  {
   "cell_type": "code",
   "execution_count": null,
   "metadata": {
    "collapsed": true
   },
   "outputs": [],
   "source": [
    "# Try looking for cusip6's in issuers by searching by first few words of company_name\n",
    "company_name_str <- ''\n",
    "issuers %>% filter(grepl(paste0('^', company_name_str), issuer_name))"
   ]
  },
  {
   "cell_type": "code",
   "execution_count": null,
   "metadata": {
    "collapsed": true
   },
   "outputs": [],
   "source": [
    "# Try looking for cusip8's in stocknames by searching by first few words of company_name\n",
    "company_name_str <- ''\n",
    "stocknames %>% filter(grepl(paste0('^', company_name_str), comnam))"
   ]
  },
  {
   "cell_type": "code",
   "execution_count": null,
   "metadata": {
    "collapsed": true
   },
   "outputs": [],
   "source": [
    "df$valid_match <- \n",
    "df$better_cik <- \n",
    "df$better_cik_company_name <- \n",
    "df$better_cusip <- \n",
    "df$better_cusip_issuer_name <-\n",
    "df$better_cusip_issuer_adl <- \n",
    "df$better_cusip6 <- \n",
    "df$better_cusip6_issuer_name <-\n",
    "df$better_cusip6_issuer_adl <-\n",
    "df$better_cusip8 <- \n",
    "df$better_cusip8_comnam <- \n",
    "df$other_reason <- "
   ]
  },
  {
   "cell_type": "code",
   "execution_count": null,
   "metadata": {
    "collapsed": true
   },
   "outputs": [],
   "source": [
    "rs <- dbWriteTable(pg, c('edgar', 'cusip_cik_exceptions'), df, row.names = FALSE, append = TRUE,\n",
    "                   encoding = \"latin1\")"
   ]
  },
  {
   "cell_type": "markdown",
   "metadata": {},
   "source": [
    "## 3. 8-digit Cusips that join to issuers\n",
    "\n",
    "Here, we handle the cases where the raw cusip is 8-digits in length, with a frequency in `cusip_cik` of at least 10, which also joins onto `cusipm.issuer` via the cusip6 (the first six characters). Here, in addition to just getting these 8-digit cusips, we need to select only those that _add value_ in addition to the 9-digit cusips we analysed above. That is, we eliminate those pairs for which the 8-digit cusip is equal to the first 8 charactors of a 9-digit cusip in `valid9s_above_10`. Thus we take the dataframe `valid8s_above_10`, the set of pairs with valid 8-digit cusips, and `anti_join` it with `valid9s_above_10` by `cik` and `ncusip` (the first 8 characters of a cusip), to give the dataframe `added_value_8s_above_10`. We then inner join `added_value_8s_above_10` with `issuers` to give `added_value_8s_above_10_w_issuers`. \n",
    "\n",
    "Note that one of the cells below implied that `added_value_8s_above_10_w_issuers` initially only had 134 rows. So this an order of magnitude less that `nines_w_stocknames`, and is quite a small dataset. For this reason, we chose to ignore approximate string matching and name normalization completely, as this set is too small to justify the use of these techniques, and the set is small enough that doing an analysis by inspection is perfectly feasible. In fact, for all other cases with 8, 7, and 6-digit cusips in the other sections below, this is always the case, so we ignore approximate string matching and name normalization entirely from here (that is, we do not normalize names, and we do not calculate and use `sim_index_norm` and `sim_index_max` anywhere below)."
   ]
  },
  {
   "cell_type": "code",
   "execution_count": 109,
   "metadata": {},
   "outputs": [
    {
     "name": "stderr",
     "output_type": "stream",
     "text": [
      "Joining, by = c(\"cik\", \"cusip\")\n",
      "Joining, by = \"cusip6\"\n"
     ]
    }
   ],
   "source": [
    "valid8s_above_10 <- cusip_cik %>% group_by(cik, cusip) %>% summarise(freq = n()) %>% ungroup() %>% inner_join(cusip_cik) %>%\n",
    "    filter(nchar(cusip) == 8 & freq >= 10) %>% collect() %>%\n",
    "    distinct(cik, cusip, company_name)\n",
    "\n",
    "\n",
    "valid8s_above_10 <- valid8s_above_10 %>% mutate(ncusip = cusip, cusip6 = substr(cusip, 1, 6))\n",
    "\n",
    "added_value_8s_above_10 <- valid8s_above_10 %>% anti_join(valid9s_above_10, by = c('cik', 'ncusip'))\n",
    "\n",
    "added_value_8s_above_10_w_issuers <- added_value_8s_above_10 %>% inner_join(issuers)\n"
   ]
  },
  {
   "cell_type": "code",
   "execution_count": 259,
   "metadata": {},
   "outputs": [
    {
     "data": {
      "text/html": [
       "<table>\n",
       "<thead><tr><th scope=col>n</th></tr></thead>\n",
       "<tbody>\n",
       "\t<tr><td>134</td></tr>\n",
       "</tbody>\n",
       "</table>\n"
      ],
      "text/latex": [
       "\\begin{tabular}{r|l}\n",
       " n\\\\\n",
       "\\hline\n",
       "\t 134\\\\\n",
       "\\end{tabular}\n"
      ],
      "text/markdown": [
       "\n",
       "n | \n",
       "|---|\n",
       "| 134 | \n",
       "\n",
       "\n"
      ],
      "text/plain": [
       "  n  \n",
       "1 134"
      ]
     },
     "metadata": {},
     "output_type": "display_data"
    }
   ],
   "source": [
    "added_value_8s_above_10_w_issuers %>% distinct(cik, cusip) %>% count()"
   ]
  },
  {
   "cell_type": "code",
   "execution_count": 110,
   "metadata": {
    "scrolled": false
   },
   "outputs": [
    {
     "data": {
      "text/html": [
       "<table>\n",
       "<thead><tr><th scope=col>cik</th><th scope=col>cusip</th><th scope=col>company_name</th><th scope=col>ncusip</th><th scope=col>cusip6</th><th scope=col>issuer_check</th><th scope=col>issuer_name_1</th><th scope=col>issuer_name_2</th><th scope=col>issuer_name_3</th><th scope=col>issuer_adl_1</th><th scope=col>...</th><th scope=col>issuer_update_date</th><th scope=col>cabre_id</th><th scope=col>cabre_status</th><th scope=col>lei_cici</th><th scope=col>legal_entity_name</th><th scope=col>previous_name</th><th scope=col>entry_date</th><th scope=col>cp_institution_type</th><th scope=col>issuer_name</th><th scope=col>issuer_adl</th></tr></thead>\n",
       "<tbody>\n",
       "\t<tr><td> 750556                                             </td><td>69149730                                            </td><td>SUNTRUST BANKS INC                                  </td><td>69149730                                            </td><td>691497                                              </td><td>2                                                   </td><td>OXFORD INDS INC                                     </td><td>NA                                                  </td><td>NA                                                  </td><td>NA                                                  </td><td>...                                                 </td><td>NA                                                  </td><td>NA                                                  </td><td>NA                                                  </td><td>NA                                                  </td><td>NA                                                  </td><td>NA                                                  </td><td>1993-10-31                                          </td><td>NA                                                  </td><td>OXFORD INDS INC                                     </td><td>NA                                                  </td></tr>\n",
       "\t<tr><td>1093367                                             </td><td>02932810                                            </td><td>AROC INC                                            </td><td>02932810                                            </td><td>029328                                              </td><td>2                                                   </td><td>AMERICAN RIVS OIL CO                                </td><td>NA                                                  </td><td>NA                                                  </td><td>REORGANIZED AS AROC INC                             </td><td>...                                                 </td><td>NA                                                  </td><td>NA                                                  </td><td>NA                                                  </td><td>NA                                                  </td><td>NA                                                  </td><td>NA                                                  </td><td>1995-12-14                                          </td><td>NA                                                  </td><td>AMERICAN RIVS OIL CO                                </td><td>REORGANIZED AS AROC INC 12/08/1999                  </td></tr>\n",
       "\t<tr><td>1093367                                             </td><td>02932810                                            </td><td>AMERICAN RIVERS OIL CO /DE/                         </td><td>02932810                                            </td><td>029328                                              </td><td>2                                                   </td><td>AMERICAN RIVS OIL CO                                </td><td>NA                                                  </td><td>NA                                                  </td><td>REORGANIZED AS AROC INC                             </td><td>...                                                 </td><td>NA                                                  </td><td>NA                                                  </td><td>NA                                                  </td><td>NA                                                  </td><td>NA                                                  </td><td>NA                                                  </td><td>1995-12-14                                          </td><td>NA                                                  </td><td>AMERICAN RIVS OIL CO                                </td><td>REORGANIZED AS AROC INC 12/08/1999                  </td></tr>\n",
       "\t<tr><td> 882291                                             </td><td>00808Y09                                            </td><td>AETHLON MEDICAL INC                                 </td><td>00808Y09                                            </td><td>00808Y                                              </td><td>0                                                   </td><td>AETHLON MED INC                                     </td><td>NA                                                  </td><td>NA                                                  </td><td>NA                                                  </td><td>...                                                 </td><td>NA                                                  </td><td>US000808Y3                                          </td><td>A                                                   </td><td>NA                                                  </td><td>Aethlon Medical, Inc.                               </td><td>NA                                                  </td><td>2000-03-31                                          </td><td>NA                                                  </td><td>AETHLON MED INC                                     </td><td>NA                                                  </td></tr>\n",
       "\t<tr><td>  57139                                             </td><td>5024709C                                            </td><td>LABARGE INC                                         </td><td>5024709C                                            </td><td>502470                                              </td><td>8                                                   </td><td>LA BARGE INC                                        </td><td>NA                                                  </td><td>NA                                                  </td><td>NA                                                  </td><td>...                                                 </td><td>NA                                                  </td><td>US05024700                                          </td><td>A                                                   </td><td>NA                                                  </td><td>LA BARGE INCORPORATED                               </td><td>NA                                                  </td><td>1993-10-31                                          </td><td>NA                                                  </td><td>LA BARGE INC                                        </td><td>NA                                                  </td></tr>\n",
       "\t<tr><td>1389168                                             </td><td>87612G10                                            </td><td>Targa Resources, Inc.                               </td><td>87612G10                                            </td><td>87612G                                              </td><td>2                                                   </td><td>TARGA RES CORP                                      </td><td>NA                                                  </td><td>NA                                                  </td><td>NA                                                  </td><td>...                                                 </td><td>NA                                                  </td><td>US087612G2                                          </td><td>A                                                   </td><td>NA                                                  </td><td>Targa Resources Corp.                               </td><td>NA                                                  </td><td>2010-11-09                                          </td><td>NA                                                  </td><td>TARGA RES CORP                                      </td><td>NA                                                  </td></tr>\n",
       "\t<tr><td>1113227                                             </td><td>90337P10                                            </td><td>CAPSULE COMMUNICATIONS INC DE                       </td><td>90337P10                                            </td><td>90337P                                              </td><td>0                                                   </td><td>US WATS INC                                         </td><td>NA                                                  </td><td>NA                                                  </td><td>REORGANIZED AS CAPSULE                              </td><td>...                                                 </td><td>NA                                                  </td><td>NA                                                  </td><td>NA                                                  </td><td>NA                                                  </td><td>NA                                                  </td><td>NA                                                  </td><td>1993-10-31                                          </td><td>NA                                                  </td><td>US WATS INC                                         </td><td>REORGANIZED AS CAPSULE COMMUNICATIONS INC 04/27/2000</td></tr>\n",
       "\t<tr><td> 720851                                             </td><td>64107410                                            </td><td>NESTOR INC                                          </td><td>64107410                                            </td><td>641074                                              </td><td>0                                                   </td><td>NESTOR INC                                          </td><td>NA                                                  </td><td>NA                                                  </td><td>NA                                                  </td><td>...                                                 </td><td>NA                                                  </td><td>US06410742                                          </td><td>A                                                   </td><td>NA                                                  </td><td>Nestor, Inc.                                        </td><td>NA                                                  </td><td>1993-10-31                                          </td><td>NA                                                  </td><td>NESTOR INC                                          </td><td>NA                                                  </td></tr>\n",
       "\t<tr><td> 937252                                             </td><td>14166N20                                            </td><td>CAREADVANTAGE INC                                   </td><td>14166N20                                            </td><td>14166N                                              </td><td>1                                                   </td><td>CAREADVANTAGE INC                                   </td><td>NA                                                  </td><td>NA                                                  </td><td>NA                                                  </td><td>...                                                 </td><td>NA                                                  </td><td>US014166N3                                          </td><td>A                                                   </td><td>NA                                                  </td><td>Careadvantage, Inc.                                 </td><td>NA                                                  </td><td>1995-03-30                                          </td><td>NA                                                  </td><td>CAREADVANTAGE INC                                   </td><td>NA                                                  </td></tr>\n",
       "\t<tr><td> 811641                                             </td><td>45252306                                            </td><td>IMMUCELL CORP /DE/                                  </td><td>45252306                                            </td><td>452523                                              </td><td>4                                                   </td><td>IMMERSION HUMAN INTERFACE CORP                      </td><td>NA                                                  </td><td>NA                                                  </td><td>NA                                                  </td><td>...                                                 </td><td>NA                                                  </td><td>NA                                                  </td><td>NA                                                  </td><td>NA                                                  </td><td>NA                                                  </td><td>NA                                                  </td><td>1999-12-29                                          </td><td>NA                                                  </td><td>IMMERSION HUMAN INTERFACE CORP                      </td><td>NA                                                  </td></tr>\n",
       "</tbody>\n",
       "</table>\n"
      ],
      "text/latex": [
       "\\begin{tabular}{r|lllllllllllllllllllllllllllll}\n",
       " cik & cusip & company\\_name & ncusip & cusip6 & issuer\\_check & issuer\\_name\\_1 & issuer\\_name\\_2 & issuer\\_name\\_3 & issuer\\_adl\\_1 & ... & issuer\\_update\\_date & cabre\\_id & cabre\\_status & lei\\_cici & legal\\_entity\\_name & previous\\_name & entry\\_date & cp\\_institution\\_type & issuer\\_name & issuer\\_adl\\\\\n",
       "\\hline\n",
       "\t  750556                                              & 69149730                                             & SUNTRUST BANKS INC                                   & 69149730                                             & 691497                                               & 2                                                    & OXFORD INDS INC                                      & NA                                                   & NA                                                   & NA                                                   & ...                                                  & NA                                                   & NA                                                   & NA                                                   & NA                                                   & NA                                                   & NA                                                   & 1993-10-31                                           & NA                                                   & OXFORD INDS INC                                      & NA                                                  \\\\\n",
       "\t 1093367                                              & 02932810                                             & AROC INC                                             & 02932810                                             & 029328                                               & 2                                                    & AMERICAN RIVS OIL CO                                 & NA                                                   & NA                                                   & REORGANIZED AS AROC INC                              & ...                                                  & NA                                                   & NA                                                   & NA                                                   & NA                                                   & NA                                                   & NA                                                   & 1995-12-14                                           & NA                                                   & AMERICAN RIVS OIL CO                                 & REORGANIZED AS AROC INC 12/08/1999                  \\\\\n",
       "\t 1093367                                              & 02932810                                             & AMERICAN RIVERS OIL CO /DE/                          & 02932810                                             & 029328                                               & 2                                                    & AMERICAN RIVS OIL CO                                 & NA                                                   & NA                                                   & REORGANIZED AS AROC INC                              & ...                                                  & NA                                                   & NA                                                   & NA                                                   & NA                                                   & NA                                                   & NA                                                   & 1995-12-14                                           & NA                                                   & AMERICAN RIVS OIL CO                                 & REORGANIZED AS AROC INC 12/08/1999                  \\\\\n",
       "\t  882291                                              & 00808Y09                                             & AETHLON MEDICAL INC                                  & 00808Y09                                             & 00808Y                                               & 0                                                    & AETHLON MED INC                                      & NA                                                   & NA                                                   & NA                                                   & ...                                                  & NA                                                   & US000808Y3                                           & A                                                    & NA                                                   & Aethlon Medical, Inc.                                & NA                                                   & 2000-03-31                                           & NA                                                   & AETHLON MED INC                                      & NA                                                  \\\\\n",
       "\t   57139                                              & 5024709C                                             & LABARGE INC                                          & 5024709C                                             & 502470                                               & 8                                                    & LA BARGE INC                                         & NA                                                   & NA                                                   & NA                                                   & ...                                                  & NA                                                   & US05024700                                           & A                                                    & NA                                                   & LA BARGE INCORPORATED                                & NA                                                   & 1993-10-31                                           & NA                                                   & LA BARGE INC                                         & NA                                                  \\\\\n",
       "\t 1389168                                              & 87612G10                                             & Targa Resources, Inc.                                & 87612G10                                             & 87612G                                               & 2                                                    & TARGA RES CORP                                       & NA                                                   & NA                                                   & NA                                                   & ...                                                  & NA                                                   & US087612G2                                           & A                                                    & NA                                                   & Targa Resources Corp.                                & NA                                                   & 2010-11-09                                           & NA                                                   & TARGA RES CORP                                       & NA                                                  \\\\\n",
       "\t 1113227                                              & 90337P10                                             & CAPSULE COMMUNICATIONS INC DE                        & 90337P10                                             & 90337P                                               & 0                                                    & US WATS INC                                          & NA                                                   & NA                                                   & REORGANIZED AS CAPSULE                               & ...                                                  & NA                                                   & NA                                                   & NA                                                   & NA                                                   & NA                                                   & NA                                                   & 1993-10-31                                           & NA                                                   & US WATS INC                                          & REORGANIZED AS CAPSULE COMMUNICATIONS INC 04/27/2000\\\\\n",
       "\t  720851                                              & 64107410                                             & NESTOR INC                                           & 64107410                                             & 641074                                               & 0                                                    & NESTOR INC                                           & NA                                                   & NA                                                   & NA                                                   & ...                                                  & NA                                                   & US06410742                                           & A                                                    & NA                                                   & Nestor, Inc.                                         & NA                                                   & 1993-10-31                                           & NA                                                   & NESTOR INC                                           & NA                                                  \\\\\n",
       "\t  937252                                              & 14166N20                                             & CAREADVANTAGE INC                                    & 14166N20                                             & 14166N                                               & 1                                                    & CAREADVANTAGE INC                                    & NA                                                   & NA                                                   & NA                                                   & ...                                                  & NA                                                   & US014166N3                                           & A                                                    & NA                                                   & Careadvantage, Inc.                                  & NA                                                   & 1995-03-30                                           & NA                                                   & CAREADVANTAGE INC                                    & NA                                                  \\\\\n",
       "\t  811641                                              & 45252306                                             & IMMUCELL CORP /DE/                                   & 45252306                                             & 452523                                               & 4                                                    & IMMERSION HUMAN INTERFACE CORP                       & NA                                                   & NA                                                   & NA                                                   & ...                                                  & NA                                                   & NA                                                   & NA                                                   & NA                                                   & NA                                                   & NA                                                   & 1999-12-29                                           & NA                                                   & IMMERSION HUMAN INTERFACE CORP                       & NA                                                  \\\\\n",
       "\\end{tabular}\n"
      ],
      "text/markdown": [
       "\n",
       "cik | cusip | company_name | ncusip | cusip6 | issuer_check | issuer_name_1 | issuer_name_2 | issuer_name_3 | issuer_adl_1 | ... | issuer_update_date | cabre_id | cabre_status | lei_cici | legal_entity_name | previous_name | entry_date | cp_institution_type | issuer_name | issuer_adl | \n",
       "|---|---|---|---|---|---|---|---|---|---|\n",
       "|  750556                                              | 69149730                                             | SUNTRUST BANKS INC                                   | 69149730                                             | 691497                                               | 2                                                    | OXFORD INDS INC                                      | NA                                                   | NA                                                   | NA                                                   | ...                                                  | NA                                                   | NA                                                   | NA                                                   | NA                                                   | NA                                                   | NA                                                   | 1993-10-31                                           | NA                                                   | OXFORD INDS INC                                      | NA                                                   | \n",
       "| 1093367                                              | 02932810                                             | AROC INC                                             | 02932810                                             | 029328                                               | 2                                                    | AMERICAN RIVS OIL CO                                 | NA                                                   | NA                                                   | REORGANIZED AS AROC INC                              | ...                                                  | NA                                                   | NA                                                   | NA                                                   | NA                                                   | NA                                                   | NA                                                   | 1995-12-14                                           | NA                                                   | AMERICAN RIVS OIL CO                                 | REORGANIZED AS AROC INC 12/08/1999                   | \n",
       "| 1093367                                              | 02932810                                             | AMERICAN RIVERS OIL CO /DE/                          | 02932810                                             | 029328                                               | 2                                                    | AMERICAN RIVS OIL CO                                 | NA                                                   | NA                                                   | REORGANIZED AS AROC INC                              | ...                                                  | NA                                                   | NA                                                   | NA                                                   | NA                                                   | NA                                                   | NA                                                   | 1995-12-14                                           | NA                                                   | AMERICAN RIVS OIL CO                                 | REORGANIZED AS AROC INC 12/08/1999                   | \n",
       "|  882291                                              | 00808Y09                                             | AETHLON MEDICAL INC                                  | 00808Y09                                             | 00808Y                                               | 0                                                    | AETHLON MED INC                                      | NA                                                   | NA                                                   | NA                                                   | ...                                                  | NA                                                   | US000808Y3                                           | A                                                    | NA                                                   | Aethlon Medical, Inc.                                | NA                                                   | 2000-03-31                                           | NA                                                   | AETHLON MED INC                                      | NA                                                   | \n",
       "|   57139                                              | 5024709C                                             | LABARGE INC                                          | 5024709C                                             | 502470                                               | 8                                                    | LA BARGE INC                                         | NA                                                   | NA                                                   | NA                                                   | ...                                                  | NA                                                   | US05024700                                           | A                                                    | NA                                                   | LA BARGE INCORPORATED                                | NA                                                   | 1993-10-31                                           | NA                                                   | LA BARGE INC                                         | NA                                                   | \n",
       "| 1389168                                              | 87612G10                                             | Targa Resources, Inc.                                | 87612G10                                             | 87612G                                               | 2                                                    | TARGA RES CORP                                       | NA                                                   | NA                                                   | NA                                                   | ...                                                  | NA                                                   | US087612G2                                           | A                                                    | NA                                                   | Targa Resources Corp.                                | NA                                                   | 2010-11-09                                           | NA                                                   | TARGA RES CORP                                       | NA                                                   | \n",
       "| 1113227                                              | 90337P10                                             | CAPSULE COMMUNICATIONS INC DE                        | 90337P10                                             | 90337P                                               | 0                                                    | US WATS INC                                          | NA                                                   | NA                                                   | REORGANIZED AS CAPSULE                               | ...                                                  | NA                                                   | NA                                                   | NA                                                   | NA                                                   | NA                                                   | NA                                                   | 1993-10-31                                           | NA                                                   | US WATS INC                                          | REORGANIZED AS CAPSULE COMMUNICATIONS INC 04/27/2000 | \n",
       "|  720851                                              | 64107410                                             | NESTOR INC                                           | 64107410                                             | 641074                                               | 0                                                    | NESTOR INC                                           | NA                                                   | NA                                                   | NA                                                   | ...                                                  | NA                                                   | US06410742                                           | A                                                    | NA                                                   | Nestor, Inc.                                         | NA                                                   | 1993-10-31                                           | NA                                                   | NESTOR INC                                           | NA                                                   | \n",
       "|  937252                                              | 14166N20                                             | CAREADVANTAGE INC                                    | 14166N20                                             | 14166N                                               | 1                                                    | CAREADVANTAGE INC                                    | NA                                                   | NA                                                   | NA                                                   | ...                                                  | NA                                                   | US014166N3                                           | A                                                    | NA                                                   | Careadvantage, Inc.                                  | NA                                                   | 1995-03-30                                           | NA                                                   | CAREADVANTAGE INC                                    | NA                                                   | \n",
       "|  811641                                              | 45252306                                             | IMMUCELL CORP /DE/                                   | 45252306                                             | 452523                                               | 4                                                    | IMMERSION HUMAN INTERFACE CORP                       | NA                                                   | NA                                                   | NA                                                   | ...                                                  | NA                                                   | NA                                                   | NA                                                   | NA                                                   | NA                                                   | NA                                                   | 1999-12-29                                           | NA                                                   | IMMERSION HUMAN INTERFACE CORP                       | NA                                                   | \n",
       "\n",
       "\n"
      ],
      "text/plain": [
       "   cik     cusip    company_name                  ncusip   cusip6 issuer_check\n",
       "1   750556 69149730 SUNTRUST BANKS INC            69149730 691497 2           \n",
       "2  1093367 02932810 AROC INC                      02932810 029328 2           \n",
       "3  1093367 02932810 AMERICAN RIVERS OIL CO /DE/   02932810 029328 2           \n",
       "4   882291 00808Y09 AETHLON MEDICAL INC           00808Y09 00808Y 0           \n",
       "5    57139 5024709C LABARGE INC                   5024709C 502470 8           \n",
       "6  1389168 87612G10 Targa Resources, Inc.         87612G10 87612G 2           \n",
       "7  1113227 90337P10 CAPSULE COMMUNICATIONS INC DE 90337P10 90337P 0           \n",
       "8   720851 64107410 NESTOR INC                    64107410 641074 0           \n",
       "9   937252 14166N20 CAREADVANTAGE INC             14166N20 14166N 1           \n",
       "10  811641 45252306 IMMUCELL CORP /DE/            45252306 452523 4           \n",
       "   issuer_name_1                  issuer_name_2 issuer_name_3\n",
       "1  OXFORD INDS INC                NA            NA           \n",
       "2  AMERICAN RIVS OIL CO           NA            NA           \n",
       "3  AMERICAN RIVS OIL CO           NA            NA           \n",
       "4  AETHLON MED INC                NA            NA           \n",
       "5  LA BARGE INC                   NA            NA           \n",
       "6  TARGA RES CORP                 NA            NA           \n",
       "7  US WATS INC                    NA            NA           \n",
       "8  NESTOR INC                     NA            NA           \n",
       "9  CAREADVANTAGE INC              NA            NA           \n",
       "10 IMMERSION HUMAN INTERFACE CORP NA            NA           \n",
       "   issuer_adl_1            ... issuer_update_date cabre_id   cabre_status\n",
       "1  NA                      ... <NA>               NA         NA          \n",
       "2  REORGANIZED AS AROC INC ... <NA>               NA         NA          \n",
       "3  REORGANIZED AS AROC INC ... <NA>               NA         NA          \n",
       "4  NA                      ... <NA>               US000808Y3 A           \n",
       "5  NA                      ... <NA>               US05024700 A           \n",
       "6  NA                      ... <NA>               US087612G2 A           \n",
       "7  REORGANIZED AS CAPSULE  ... <NA>               NA         NA          \n",
       "8  NA                      ... <NA>               US06410742 A           \n",
       "9  NA                      ... <NA>               US014166N3 A           \n",
       "10 NA                      ... <NA>               NA         NA          \n",
       "   lei_cici legal_entity_name     previous_name entry_date cp_institution_type\n",
       "1  NA       NA                    NA            1993-10-31 NA                 \n",
       "2  NA       NA                    NA            1995-12-14 NA                 \n",
       "3  NA       NA                    NA            1995-12-14 NA                 \n",
       "4  NA       Aethlon Medical, Inc. NA            2000-03-31 NA                 \n",
       "5  NA       LA BARGE INCORPORATED NA            1993-10-31 NA                 \n",
       "6  NA       Targa Resources Corp. NA            2010-11-09 NA                 \n",
       "7  NA       NA                    NA            1993-10-31 NA                 \n",
       "8  NA       Nestor, Inc.          NA            1993-10-31 NA                 \n",
       "9  NA       Careadvantage, Inc.   NA            1995-03-30 NA                 \n",
       "10 NA       NA                    NA            1999-12-29 NA                 \n",
       "   issuer_name                   \n",
       "1  OXFORD INDS INC               \n",
       "2  AMERICAN RIVS OIL CO          \n",
       "3  AMERICAN RIVS OIL CO          \n",
       "4  AETHLON MED INC               \n",
       "5  LA BARGE INC                  \n",
       "6  TARGA RES CORP                \n",
       "7  US WATS INC                   \n",
       "8  NESTOR INC                    \n",
       "9  CAREADVANTAGE INC             \n",
       "10 IMMERSION HUMAN INTERFACE CORP\n",
       "   issuer_adl                                          \n",
       "1  NA                                                  \n",
       "2  REORGANIZED AS AROC INC 12/08/1999                  \n",
       "3  REORGANIZED AS AROC INC 12/08/1999                  \n",
       "4  NA                                                  \n",
       "5  NA                                                  \n",
       "6  NA                                                  \n",
       "7  REORGANIZED AS CAPSULE COMMUNICATIONS INC 04/27/2000\n",
       "8  NA                                                  \n",
       "9  NA                                                  \n",
       "10 NA                                                  "
      ]
     },
     "metadata": {},
     "output_type": "display_data"
    }
   ],
   "source": [
    "added_value_8s_above_10_w_issuers %>% head(10)"
   ]
  },
  {
   "cell_type": "code",
   "execution_count": 173,
   "metadata": {},
   "outputs": [
    {
     "name": "stderr",
     "output_type": "stream",
     "text": [
      "Joining, by = c(\"cik\", \"cusip\")\n",
      "Warning message in cbind(parts$left, ellip_h, parts$right, deparse.level = 0L):\n",
      "\"number of rows of result is not a multiple of vector length (arg 2)\"Warning message in cbind(parts$left, ellip_h, parts$right, deparse.level = 0L):\n",
      "\"number of rows of result is not a multiple of vector length (arg 2)\"Warning message in cbind(parts$left, ellip_h, parts$right, deparse.level = 0L):\n",
      "\"number of rows of result is not a multiple of vector length (arg 2)\"Warning message in cbind(parts$left, ellip_h, parts$right, deparse.level = 0L):\n",
      "\"number of rows of result is not a multiple of vector length (arg 2)\""
     ]
    },
    {
     "data": {
      "text/html": [
       "<table>\n",
       "<thead><tr><th scope=col>cik</th><th scope=col>cusip</th><th scope=col>company_name</th><th scope=col>ncusip</th><th scope=col>cusip6</th><th scope=col>issuer_check</th><th scope=col>issuer_name_1</th><th scope=col>issuer_name_2</th><th scope=col>issuer_name_3</th><th scope=col>issuer_adl_1</th><th scope=col>...</th><th scope=col>issuer_update_date</th><th scope=col>cabre_id</th><th scope=col>cabre_status</th><th scope=col>lei_cici</th><th scope=col>legal_entity_name</th><th scope=col>previous_name</th><th scope=col>entry_date</th><th scope=col>cp_institution_type</th><th scope=col>issuer_name</th><th scope=col>issuer_adl</th></tr></thead>\n",
       "<tbody>\n",
       "</tbody>\n",
       "</table>\n"
      ],
      "text/latex": [
       "\\begin{tabular}{r|lllllllllllllllllllllllllllll}\n",
       " cik & cusip & company\\_name & ncusip & cusip6 & issuer\\_check & issuer\\_name\\_1 & issuer\\_name\\_2 & issuer\\_name\\_3 & issuer\\_adl\\_1 & ... & issuer\\_update\\_date & cabre\\_id & cabre\\_status & lei\\_cici & legal\\_entity\\_name & previous\\_name & entry\\_date & cp\\_institution\\_type & issuer\\_name & issuer\\_adl\\\\\n",
       "\\hline\n",
       "\\end{tabular}\n"
      ],
      "text/markdown": [
       "\n",
       "cik | cusip | company_name | ncusip | cusip6 | issuer_check | issuer_name_1 | issuer_name_2 | issuer_name_3 | issuer_adl_1 | ... | issuer_update_date | cabre_id | cabre_status | lei_cici | legal_entity_name | previous_name | entry_date | cp_institution_type | issuer_name | issuer_adl | \n",
       "||\n",
       "\n",
       "\n"
      ],
      "text/plain": [
       "     cik cusip company_name ncusip cusip6 issuer_check issuer_name_1\n",
       "     issuer_name_2 issuer_name_3 issuer_adl_1 ... issuer_update_date cabre_id\n",
       "     cabre_status lei_cici legal_entity_name previous_name entry_date\n",
       "     cp_institution_type issuer_name issuer_adl"
      ]
     },
     "metadata": {},
     "output_type": "display_data"
    }
   ],
   "source": [
    "to_analyse <- added_value_8s_above_10_w_issuers %>% anti_join(cusip_cik_exceptions %>% distinct(cik, cusip))\n",
    "to_analyse"
   ]
  },
  {
   "cell_type": "code",
   "execution_count": null,
   "metadata": {
    "collapsed": true
   },
   "outputs": [],
   "source": [
    "to_analyse$cusip_raw <- to_analyse$cusip"
   ]
  },
  {
   "cell_type": "code",
   "execution_count": null,
   "metadata": {
    "collapsed": true
   },
   "outputs": [],
   "source": [
    "cols <- colnames(cusip_cik_exceptions)[colnames(cusip_cik_exceptions) %in% colnames(to_analyse)]\n",
    "cols"
   ]
  },
  {
   "cell_type": "code",
   "execution_count": null,
   "metadata": {
    "collapsed": true
   },
   "outputs": [],
   "source": [
    "row_cik <- \n",
    "row_cusip <- \n",
    "\n",
    "df <- to_analyse[to_analyse$cik == row_cik & to_analyse$cusip == row_cusip, cols]"
   ]
  },
  {
   "cell_type": "code",
   "execution_count": null,
   "metadata": {
    "collapsed": true
   },
   "outputs": [],
   "source": [
    "# See which other cusips have matched row_cik and which ones are better matches\n",
    "valid9s_above_10_w_issuers %>% filter(cik == row_cik)"
   ]
  },
  {
   "cell_type": "code",
   "execution_count": null,
   "metadata": {
    "collapsed": true
   },
   "outputs": [],
   "source": [
    "# See which other ciks have matched row_cusip and which ones are better matches\n",
    "valid9s_above_10_w_issuers %>% filter(cusip == row_cusip)"
   ]
  },
  {
   "cell_type": "code",
   "execution_count": null,
   "metadata": {
    "collapsed": true
   },
   "outputs": [],
   "source": [
    "# Search for names in edgar.filings by cik\n",
    "name_search_sql <- paste0('SELECT DISTINCT cik, company_name FROM edgar.filings WHERE cik = ', row_cik)\n",
    "tbl(pg, sql(name_search_sql))"
   ]
  },
  {
   "cell_type": "code",
   "execution_count": null,
   "metadata": {
    "collapsed": true
   },
   "outputs": [],
   "source": [
    "# Search for ciks in edgar.filings by using first few words of a company name\n",
    "company_name_str <- \"\"\n",
    "cik_search_sql <- paste0(\"SELECT DISTINCT cik, company_name FROM edgar.filings WHERE UPPER(company_name) ~ '^\", \n",
    "                         company_name_str, \"'\")\n",
    "tbl(pg, sql(cik_search_sql))"
   ]
  },
  {
   "cell_type": "code",
   "execution_count": null,
   "metadata": {
    "collapsed": true
   },
   "outputs": [],
   "source": [
    "# Try looking for cusip6's in issuers by searching by first few words of company_name\n",
    "company_name_str <- ''\n",
    "issuers %>% filter(grepl(paste0('^', company_name_str), issuer_name))"
   ]
  },
  {
   "cell_type": "code",
   "execution_count": null,
   "metadata": {
    "collapsed": true
   },
   "outputs": [],
   "source": [
    "# Try looking for cusip8's in stocknames by searching by first few words of company_name\n",
    "company_name_str <- ''\n",
    "stocknames %>% filter(grepl(paste0('^', company_name_str), comnam))"
   ]
  },
  {
   "cell_type": "code",
   "execution_count": null,
   "metadata": {
    "collapsed": true
   },
   "outputs": [],
   "source": [
    "df$valid_match <- \n",
    "df$better_cik <- \n",
    "df$better_cik_company_name <- \n",
    "df$better_cusip <- \n",
    "df$better_cusip_issuer_name <-\n",
    "df$better_cusip_issuer_adl <- \n",
    "df$better_cusip6 <- \n",
    "df$better_cusip6_issuer_name <-\n",
    "df$better_cusip6_issuer_adl <-\n",
    "df$better_cusip8 <- \n",
    "df$better_cusip8_comnam <- \n",
    "df$other_reason <- "
   ]
  },
  {
   "cell_type": "code",
   "execution_count": null,
   "metadata": {
    "collapsed": true
   },
   "outputs": [],
   "source": [
    "rs <- dbWriteTable(pg, c('edgar', 'cusip_cik_exceptions'), df, row.names = FALSE, append = TRUE,\n",
    "                   encoding = \"latin1\")"
   ]
  },
  {
   "cell_type": "markdown",
   "metadata": {},
   "source": [
    "## 4. 8-digit Cusips that map to stocknames only\n",
    "\n",
    "In this section we treat the 8-digit cusips that map only to `crsp.stocknames`. The first step to doing this is by defining dataframes analogous to other dataframes above, `added_value_8s_above_10_no_issuer` and `added_value_8s_above_10_stocknames_only`, which we show in the cell below. "
   ]
  },
  {
   "cell_type": "code",
   "execution_count": 84,
   "metadata": {},
   "outputs": [
    {
     "name": "stderr",
     "output_type": "stream",
     "text": [
      "Joining, by = c(\"cik\", \"cusip\")\n"
     ]
    }
   ],
   "source": [
    "added_value_8s_above_10_no_issuer <- added_value_8s_above_10 %>%\n",
    "                                anti_join(added_value_8s_above_10_w_issuers %>% distinct(cik, cusip))\n",
    "\n",
    "\n",
    "\n",
    "added_value_8s_above_10_stocknames_only <- added_value_8s_above_10_no_issuer %>%\n",
    "                                    inner_join(stocknames %>% mutate(cusip6 = substr(ncusip, 1, 6)), by = 'cusip6') %>%\n",
    "                                    select(cik, cusip.x, company_name, comnam, ncusip.y) %>% \n",
    "                                    rename(cusip = cusip.x, ncusip = ncusip.y)\n",
    "\n"
   ]
  },
  {
   "cell_type": "code",
   "execution_count": 87,
   "metadata": {},
   "outputs": [
    {
     "data": {
      "text/html": [
       "<table>\n",
       "<thead><tr><th scope=col>cik</th><th scope=col>cusip</th><th scope=col>company_name</th><th scope=col>comnam</th><th scope=col>ncusip</th></tr></thead>\n",
       "<tbody>\n",
       "\t<tr><td> 874516                  </td><td>M2051410                 </td><td>BVR TECHNOLOGIES LTD     </td><td>B V R TECHNOLOGIES LTD   </td><td>M2051410                 </td></tr>\n",
       "\t<tr><td> 874516                  </td><td>M2051410                 </td><td>BVR TECHNOLOGIES LTD     </td><td>B V R TECHNOLOGIES LTD   </td><td>M2051410                 </td></tr>\n",
       "\t<tr><td> 928340                  </td><td>G1981E10                 </td><td>CONSOLIDATED WATER CO LTD</td><td>CAYMAN WATER CO LTD      </td><td>G1981E10                 </td></tr>\n",
       "\t<tr><td> 928340                  </td><td>G1981E10                 </td><td>CAYMAN WATER CO LTD      </td><td>CAYMAN WATER CO LTD      </td><td>G1981E10                 </td></tr>\n",
       "\t<tr><td>1078276                  </td><td>G6116R10                 </td><td>MIH LTD                  </td><td>M I H LTD TORTOLA        </td><td>G6116R10                 </td></tr>\n",
       "\t<tr><td>1478121                  </td><td>71707104                 </td><td>Pfenex Inc.              </td><td>PFENEX INC               </td><td>71707110                 </td></tr>\n",
       "</tbody>\n",
       "</table>\n"
      ],
      "text/latex": [
       "\\begin{tabular}{r|lllll}\n",
       " cik & cusip & company\\_name & comnam & ncusip\\\\\n",
       "\\hline\n",
       "\t  874516                   & M2051410                  & BVR TECHNOLOGIES LTD      & B V R TECHNOLOGIES LTD    & M2051410                 \\\\\n",
       "\t  874516                   & M2051410                  & BVR TECHNOLOGIES LTD      & B V R TECHNOLOGIES LTD    & M2051410                 \\\\\n",
       "\t  928340                   & G1981E10                  & CONSOLIDATED WATER CO LTD & CAYMAN WATER CO LTD       & G1981E10                 \\\\\n",
       "\t  928340                   & G1981E10                  & CAYMAN WATER CO LTD       & CAYMAN WATER CO LTD       & G1981E10                 \\\\\n",
       "\t 1078276                   & G6116R10                  & MIH LTD                   & M I H LTD TORTOLA         & G6116R10                 \\\\\n",
       "\t 1478121                   & 71707104                  & Pfenex Inc.               & PFENEX INC                & 71707110                 \\\\\n",
       "\\end{tabular}\n"
      ],
      "text/markdown": [
       "\n",
       "cik | cusip | company_name | comnam | ncusip | \n",
       "|---|---|---|---|---|---|\n",
       "|  874516                   | M2051410                  | BVR TECHNOLOGIES LTD      | B V R TECHNOLOGIES LTD    | M2051410                  | \n",
       "|  874516                   | M2051410                  | BVR TECHNOLOGIES LTD      | B V R TECHNOLOGIES LTD    | M2051410                  | \n",
       "|  928340                   | G1981E10                  | CONSOLIDATED WATER CO LTD | CAYMAN WATER CO LTD       | G1981E10                  | \n",
       "|  928340                   | G1981E10                  | CAYMAN WATER CO LTD       | CAYMAN WATER CO LTD       | G1981E10                  | \n",
       "| 1078276                   | G6116R10                  | MIH LTD                   | M I H LTD TORTOLA         | G6116R10                  | \n",
       "| 1478121                   | 71707104                  | Pfenex Inc.               | PFENEX INC                | 71707110                  | \n",
       "\n",
       "\n"
      ],
      "text/plain": [
       "  cik     cusip    company_name              comnam                 ncusip  \n",
       "1  874516 M2051410 BVR TECHNOLOGIES LTD      B V R TECHNOLOGIES LTD M2051410\n",
       "2  874516 M2051410 BVR TECHNOLOGIES LTD      B V R TECHNOLOGIES LTD M2051410\n",
       "3  928340 G1981E10 CONSOLIDATED WATER CO LTD CAYMAN WATER CO LTD    G1981E10\n",
       "4  928340 G1981E10 CAYMAN WATER CO LTD       CAYMAN WATER CO LTD    G1981E10\n",
       "5 1078276 G6116R10 MIH LTD                   M I H LTD TORTOLA      G6116R10\n",
       "6 1478121 71707104 Pfenex Inc.               PFENEX INC             71707110"
      ]
     },
     "metadata": {},
     "output_type": "display_data"
    }
   ],
   "source": [
    "added_value_8s_above_10_stocknames_only %>% select(cik, cusip, company_name, comnam, ncusip) %>% arrange(cik, cusip)"
   ]
  },
  {
   "cell_type": "code",
   "execution_count": 174,
   "metadata": {},
   "outputs": [
    {
     "name": "stderr",
     "output_type": "stream",
     "text": [
      "Joining, by = c(\"cik\", \"cusip\")\n"
     ]
    },
    {
     "data": {
      "text/html": [
       "<table>\n",
       "<thead><tr><th scope=col>cik</th><th scope=col>cusip</th><th scope=col>company_name</th><th scope=col>comnam</th><th scope=col>ncusip</th></tr></thead>\n",
       "<tbody>\n",
       "\t<tr><td>1478121    </td><td>71707104   </td><td>Pfenex Inc.</td><td>PFENEX INC </td><td>71707110   </td></tr>\n",
       "</tbody>\n",
       "</table>\n"
      ],
      "text/latex": [
       "\\begin{tabular}{r|lllll}\n",
       " cik & cusip & company\\_name & comnam & ncusip\\\\\n",
       "\\hline\n",
       "\t 1478121     & 71707104    & Pfenex Inc. & PFENEX INC  & 71707110   \\\\\n",
       "\\end{tabular}\n"
      ],
      "text/markdown": [
       "\n",
       "cik | cusip | company_name | comnam | ncusip | \n",
       "|---|\n",
       "| 1478121     | 71707104    | Pfenex Inc. | PFENEX INC  | 71707110    | \n",
       "\n",
       "\n"
      ],
      "text/plain": [
       "  cik     cusip    company_name comnam     ncusip  \n",
       "1 1478121 71707104 Pfenex Inc.  PFENEX INC 71707110"
      ]
     },
     "metadata": {},
     "output_type": "display_data"
    }
   ],
   "source": [
    "to_analyse <- added_value_8s_above_10_stocknames_only %>% anti_join(cusip_cik_exceptions %>% distinct(cik, cusip))\n",
    "to_analyse"
   ]
  },
  {
   "cell_type": "code",
   "execution_count": null,
   "metadata": {
    "collapsed": true
   },
   "outputs": [],
   "source": [
    "to_analyse$cusip_raw <- to_analyse$cusip"
   ]
  },
  {
   "cell_type": "code",
   "execution_count": null,
   "metadata": {
    "collapsed": true
   },
   "outputs": [],
   "source": [
    "cols <- colnames(cusip_cik_exceptions)[colnames(cusip_cik_exceptions) %in% colnames(to_analyse)]\n",
    "cols"
   ]
  },
  {
   "cell_type": "code",
   "execution_count": null,
   "metadata": {
    "collapsed": true
   },
   "outputs": [],
   "source": [
    "row_cik <- \n",
    "row_cusip <- \n",
    "\n",
    "df <- to_analyse[to_analyse$cik == row_cik & to_analyse$cusip == row_cusip, cols]"
   ]
  },
  {
   "cell_type": "code",
   "execution_count": null,
   "metadata": {
    "collapsed": true
   },
   "outputs": [],
   "source": [
    "# See which other cusips have matched row_cik and which ones are better matches\n",
    "valid9s_above_10_w_issuers %>% filter(cik == row_cik)"
   ]
  },
  {
   "cell_type": "code",
   "execution_count": null,
   "metadata": {
    "collapsed": true
   },
   "outputs": [],
   "source": [
    "# See which other ciks have matched row_cusip and which ones are better matches\n",
    "valid9s_above_10_w_issuers %>% filter(cusip == row_cusip)"
   ]
  },
  {
   "cell_type": "code",
   "execution_count": null,
   "metadata": {
    "collapsed": true
   },
   "outputs": [],
   "source": [
    "# Search for names in edgar.filings by cik\n",
    "name_search_sql <- paste0('SELECT DISTINCT cik, company_name FROM edgar.filings WHERE cik = ', row_cik)\n",
    "tbl(pg, sql(name_search_sql))"
   ]
  },
  {
   "cell_type": "code",
   "execution_count": null,
   "metadata": {
    "collapsed": true
   },
   "outputs": [],
   "source": [
    "# Search for ciks in edgar.filings by using first few words of a company name\n",
    "company_name_str <- \"\"\n",
    "cik_search_sql <- paste0(\"SELECT DISTINCT cik, company_name FROM edgar.filings WHERE UPPER(company_name) ~ '^\", \n",
    "                         company_name_str, \"'\")\n",
    "tbl(pg, sql(cik_search_sql))"
   ]
  },
  {
   "cell_type": "code",
   "execution_count": null,
   "metadata": {
    "collapsed": true
   },
   "outputs": [],
   "source": [
    "# Try looking for cusip6's in issuers by searching by first few words of company_name\n",
    "company_name_str <- ''\n",
    "issuers %>% filter(grepl(paste0('^', company_name_str), issuer_name))"
   ]
  },
  {
   "cell_type": "code",
   "execution_count": null,
   "metadata": {
    "collapsed": true
   },
   "outputs": [],
   "source": [
    "# Try looking for cusip8's in stocknames by searching by first few words of company_name\n",
    "company_name_str <- ''\n",
    "stocknames %>% filter(grepl(paste0('^', company_name_str), comnam))"
   ]
  },
  {
   "cell_type": "code",
   "execution_count": null,
   "metadata": {
    "collapsed": true
   },
   "outputs": [],
   "source": [
    "df$valid_match <- \n",
    "df$better_cik <- \n",
    "df$better_cik_company_name <- \n",
    "df$better_cusip <- \n",
    "df$better_cusip_issuer_name <-\n",
    "df$better_cusip_issuer_adl <- \n",
    "df$better_cusip6 <- \n",
    "df$better_cusip6_issuer_name <-\n",
    "df$better_cusip6_issuer_adl <-\n",
    "df$better_cusip8 <- \n",
    "df$better_cusip8_comnam <- \n",
    "df$other_reason <- "
   ]
  },
  {
   "cell_type": "code",
   "execution_count": null,
   "metadata": {
    "collapsed": true
   },
   "outputs": [],
   "source": [
    "rs <- dbWriteTable(pg, c('edgar', 'cusip_cik_exceptions'), df, row.names = FALSE, append = TRUE,\n",
    "                   encoding = \"latin1\")"
   ]
  },
  {
   "cell_type": "markdown",
   "metadata": {},
   "source": [
    "## 5. 8-Digit Cusips padded with a zero \n",
    "\n",
    "Here, we do the analysis for padding the 8-digit cusips with a zero on the left (thus, for example, the 8-digit `cusip_raw` '95825910' becomes the `cusip` '095825910'). Here, we begin by defining dataframes analogous to those before, such as `valid8s_above_10_padded`, `added_value_8s_above_10_padded`, and `added_value_8s_above_10_padded_w_issuers`, which we evaluate in the next cell."
   ]
  },
  {
   "cell_type": "code",
   "execution_count": 176,
   "metadata": {},
   "outputs": [
    {
     "name": "stderr",
     "output_type": "stream",
     "text": [
      "Joining, by = \"cusip6\"\n"
     ]
    }
   ],
   "source": [
    "valid8s_above_10_padded <- valid8s_above_10 %>% rename(cusip_raw = cusip) %>%\n",
    "    mutate(cusip = paste0('0', cusip_raw)) %>% mutate(ncusip = substr(cusip, 1, 8)) %>%\n",
    "    mutate(cusip6 = substr(cusip, 1, 6))\n",
    "\n",
    "added_value_8s_above_10_padded <- valid8s_above_10_padded %>% anti_join(valid9s_above_10, by = c('cik', 'cusip')) %>%\n",
    "                                    anti_join(valid8s_above_10, by = c('cik', 'ncusip'))\n",
    "\n",
    "\n",
    "added_value_8s_above_10_padded_w_issuers <- added_value_8s_above_10_padded %>% inner_join(issuers)\n"
   ]
  },
  {
   "cell_type": "code",
   "execution_count": 177,
   "metadata": {},
   "outputs": [
    {
     "data": {
      "text/html": [
       "<table>\n",
       "<thead><tr><th scope=col>cik</th><th scope=col>cusip</th><th scope=col>company_name</th><th scope=col>issuer_name</th><th scope=col>issuer_adl</th><th scope=col>cusip_raw</th></tr></thead>\n",
       "<tbody>\n",
       "\t<tr><td> 856716                                                    </td><td>095825910                                                  </td><td>WESTERN GAS RESOURCES INC                                  </td><td>BLUE RIDGE BANKSHARES INC VA                               </td><td>NA                                                         </td><td>95825910                                                   </td></tr>\n",
       "\t<tr><td>1017137                                                    </td><td>09255Q101                                                  </td><td>VIALINK CO                                                 </td><td>BLACKROCK DEFINED OPPORTUNITY CR TR                        </td><td>NA                                                         </td><td>9255Q101                                                   </td></tr>\n",
       "\t<tr><td>1002658                                                    </td><td>023437N10                                                  </td><td>DALEEN TECHNOLOGIES INC                                    </td><td>AMEE INC                                                   </td><td>NAME CHANGED TO AQUAPLAN INC 12/15/1998          SEE 03839D</td><td>23437N10                                                   </td></tr>\n",
       "\t<tr><td> 866873                                                    </td><td>024522P10                                                  </td><td>DEL MONTE FOODS CO                                         </td><td>AMERICAN BEACON ADVISORS COLLECTIVE INVT TR                </td><td>NA                                                         </td><td>24522P10                                                   </td></tr>\n",
       "\t<tr><td>1324105                                                    </td><td>08883T200                                                  </td><td>Bidz.com, Inc.                                             </td><td>BIDZ COM INC                                               </td><td>NA                                                         </td><td>8883T200                                                   </td></tr>\n",
       "\t<tr><td> 921500                                                    </td><td>020934110                                                  </td><td>CONSOLIDATED GRAPHICS INC /TX/                             </td><td>ALPHA GROUP INDS INC                                       </td><td>NA                                                         </td><td>20934110                                                   </td></tr>\n",
       "\t<tr><td>1113481                                                    </td><td>058468810                                                  </td><td>MEDICINES CO/ MA                                           </td><td>BALI EXPL LTD                                              </td><td>NA                                                         </td><td>58468810                                                   </td></tr>\n",
       "\t<tr><td> 313143                                                    </td><td>040502410                                                  </td><td>HAEMONETICS CORP                                           </td><td>ARIZONA COMM BK TUCSON                                     </td><td>NA                                                         </td><td>40502410                                                   </td></tr>\n",
       "\t<tr><td> 805037                                                    </td><td>059523C10                                                  </td><td>MID ATLANTIC MEDICAL SERVICES INC                          </td><td>BANC AMER FDG 2007-5 TR                                    </td><td>NA                                                         </td><td>59523C10                                                   </td></tr>\n",
       "\t<tr><td>  30547                                                    </td><td>026609310                                                  </td><td>DUPLEX PRODUCTS INC                                        </td><td>AMERICAN HOME PRODS CORP                                   </td><td>NAME CHANGED TO WYETH 03/11/2002          SEE 983024       </td><td>26609310                                                   </td></tr>\n",
       "</tbody>\n",
       "</table>\n"
      ],
      "text/latex": [
       "\\begin{tabular}{r|llllll}\n",
       " cik & cusip & company\\_name & issuer\\_name & issuer\\_adl & cusip\\_raw\\\\\n",
       "\\hline\n",
       "\t  856716                                                     & 095825910                                                   & WESTERN GAS RESOURCES INC                                   & BLUE RIDGE BANKSHARES INC VA                                & NA                                                          & 95825910                                                   \\\\\n",
       "\t 1017137                                                     & 09255Q101                                                   & VIALINK CO                                                  & BLACKROCK DEFINED OPPORTUNITY CR TR                         & NA                                                          & 9255Q101                                                   \\\\\n",
       "\t 1002658                                                     & 023437N10                                                   & DALEEN TECHNOLOGIES INC                                     & AMEE INC                                                    & NAME CHANGED TO AQUAPLAN INC 12/15/1998          SEE 03839D & 23437N10                                                   \\\\\n",
       "\t  866873                                                     & 024522P10                                                   & DEL MONTE FOODS CO                                          & AMERICAN BEACON ADVISORS COLLECTIVE INVT TR                 & NA                                                          & 24522P10                                                   \\\\\n",
       "\t 1324105                                                     & 08883T200                                                   & Bidz.com, Inc.                                              & BIDZ COM INC                                                & NA                                                          & 8883T200                                                   \\\\\n",
       "\t  921500                                                     & 020934110                                                   & CONSOLIDATED GRAPHICS INC /TX/                              & ALPHA GROUP INDS INC                                        & NA                                                          & 20934110                                                   \\\\\n",
       "\t 1113481                                                     & 058468810                                                   & MEDICINES CO/ MA                                            & BALI EXPL LTD                                               & NA                                                          & 58468810                                                   \\\\\n",
       "\t  313143                                                     & 040502410                                                   & HAEMONETICS CORP                                            & ARIZONA COMM BK TUCSON                                      & NA                                                          & 40502410                                                   \\\\\n",
       "\t  805037                                                     & 059523C10                                                   & MID ATLANTIC MEDICAL SERVICES INC                           & BANC AMER FDG 2007-5 TR                                     & NA                                                          & 59523C10                                                   \\\\\n",
       "\t   30547                                                     & 026609310                                                   & DUPLEX PRODUCTS INC                                         & AMERICAN HOME PRODS CORP                                    & NAME CHANGED TO WYETH 03/11/2002          SEE 983024        & 26609310                                                   \\\\\n",
       "\\end{tabular}\n"
      ],
      "text/markdown": [
       "\n",
       "cik | cusip | company_name | issuer_name | issuer_adl | cusip_raw | \n",
       "|---|---|---|---|---|---|---|---|---|---|\n",
       "|  856716                                                     | 095825910                                                   | WESTERN GAS RESOURCES INC                                   | BLUE RIDGE BANKSHARES INC VA                                | NA                                                          | 95825910                                                    | \n",
       "| 1017137                                                     | 09255Q101                                                   | VIALINK CO                                                  | BLACKROCK DEFINED OPPORTUNITY CR TR                         | NA                                                          | 9255Q101                                                    | \n",
       "| 1002658                                                     | 023437N10                                                   | DALEEN TECHNOLOGIES INC                                     | AMEE INC                                                    | NAME CHANGED TO AQUAPLAN INC 12/15/1998          SEE 03839D | 23437N10                                                    | \n",
       "|  866873                                                     | 024522P10                                                   | DEL MONTE FOODS CO                                          | AMERICAN BEACON ADVISORS COLLECTIVE INVT TR                 | NA                                                          | 24522P10                                                    | \n",
       "| 1324105                                                     | 08883T200                                                   | Bidz.com, Inc.                                              | BIDZ COM INC                                                | NA                                                          | 8883T200                                                    | \n",
       "|  921500                                                     | 020934110                                                   | CONSOLIDATED GRAPHICS INC /TX/                              | ALPHA GROUP INDS INC                                        | NA                                                          | 20934110                                                    | \n",
       "| 1113481                                                     | 058468810                                                   | MEDICINES CO/ MA                                            | BALI EXPL LTD                                               | NA                                                          | 58468810                                                    | \n",
       "|  313143                                                     | 040502410                                                   | HAEMONETICS CORP                                            | ARIZONA COMM BK TUCSON                                      | NA                                                          | 40502410                                                    | \n",
       "|  805037                                                     | 059523C10                                                   | MID ATLANTIC MEDICAL SERVICES INC                           | BANC AMER FDG 2007-5 TR                                     | NA                                                          | 59523C10                                                    | \n",
       "|   30547                                                     | 026609310                                                   | DUPLEX PRODUCTS INC                                         | AMERICAN HOME PRODS CORP                                    | NAME CHANGED TO WYETH 03/11/2002          SEE 983024        | 26609310                                                    | \n",
       "\n",
       "\n"
      ],
      "text/plain": [
       "   cik     cusip     company_name                     \n",
       "1   856716 095825910 WESTERN GAS RESOURCES INC        \n",
       "2  1017137 09255Q101 VIALINK CO                       \n",
       "3  1002658 023437N10 DALEEN TECHNOLOGIES INC          \n",
       "4   866873 024522P10 DEL MONTE FOODS CO               \n",
       "5  1324105 08883T200 Bidz.com, Inc.                   \n",
       "6   921500 020934110 CONSOLIDATED GRAPHICS INC /TX/   \n",
       "7  1113481 058468810 MEDICINES CO/ MA                 \n",
       "8   313143 040502410 HAEMONETICS CORP                 \n",
       "9   805037 059523C10 MID ATLANTIC MEDICAL SERVICES INC\n",
       "10   30547 026609310 DUPLEX PRODUCTS INC              \n",
       "   issuer_name                                \n",
       "1  BLUE RIDGE BANKSHARES INC VA               \n",
       "2  BLACKROCK DEFINED OPPORTUNITY CR TR        \n",
       "3  AMEE INC                                   \n",
       "4  AMERICAN BEACON ADVISORS COLLECTIVE INVT TR\n",
       "5  BIDZ COM INC                               \n",
       "6  ALPHA GROUP INDS INC                       \n",
       "7  BALI EXPL LTD                              \n",
       "8  ARIZONA COMM BK TUCSON                     \n",
       "9  BANC AMER FDG 2007-5 TR                    \n",
       "10 AMERICAN HOME PRODS CORP                   \n",
       "   issuer_adl                                                  cusip_raw\n",
       "1  NA                                                          95825910 \n",
       "2  NA                                                          9255Q101 \n",
       "3  NAME CHANGED TO AQUAPLAN INC 12/15/1998          SEE 03839D 23437N10 \n",
       "4  NA                                                          24522P10 \n",
       "5  NA                                                          8883T200 \n",
       "6  NA                                                          20934110 \n",
       "7  NA                                                          58468810 \n",
       "8  NA                                                          40502410 \n",
       "9  NA                                                          59523C10 \n",
       "10 NAME CHANGED TO WYETH 03/11/2002          SEE 983024        26609310 "
      ]
     },
     "metadata": {},
     "output_type": "display_data"
    }
   ],
   "source": [
    "added_value_8s_above_10_padded_w_issuers %>% select(cik, cusip, company_name, issuer_name, issuer_adl, cusip_raw) %>% head(10)"
   ]
  },
  {
   "cell_type": "code",
   "execution_count": 178,
   "metadata": {},
   "outputs": [
    {
     "name": "stderr",
     "output_type": "stream",
     "text": [
      "Joining, by = c(\"cik\", \"cusip\")\n"
     ]
    },
    {
     "data": {
      "text/html": [
       "<table>\n",
       "<thead><tr><th scope=col>cik</th><th scope=col>cusip</th><th scope=col>company_name</th><th scope=col>issuer_name</th><th scope=col>issuer_adl</th><th scope=col>cusip_raw</th></tr></thead>\n",
       "<tbody>\n",
       "</tbody>\n",
       "</table>\n"
      ],
      "text/latex": [
       "\\begin{tabular}{r|llllll}\n",
       " cik & cusip & company\\_name & issuer\\_name & issuer\\_adl & cusip\\_raw\\\\\n",
       "\\hline\n",
       "\\end{tabular}\n"
      ],
      "text/markdown": [
       "\n",
       "cik | cusip | company_name | issuer_name | issuer_adl | cusip_raw | \n",
       "||\n",
       "\n",
       "\n"
      ],
      "text/plain": [
       "     cik cusip company_name issuer_name issuer_adl cusip_raw"
      ]
     },
     "metadata": {},
     "output_type": "display_data"
    }
   ],
   "source": [
    "to_analyse <- added_value_8s_above_10_padded_w_issuers %>% \n",
    "                select(cik, cusip, company_name, issuer_name, issuer_adl, cusip_raw) %>%\n",
    "                    anti_join(cusip_cik_exceptions %>% distinct(cik, cusip))\n",
    "to_analyse"
   ]
  },
  {
   "cell_type": "code",
   "execution_count": null,
   "metadata": {
    "collapsed": true
   },
   "outputs": [],
   "source": [
    "cols <- colnames(cusip_cik_exceptions)[colnames(cusip_cik_exceptions) %in% colnames(to_analyse)]\n",
    "cols"
   ]
  },
  {
   "cell_type": "code",
   "execution_count": null,
   "metadata": {
    "collapsed": true
   },
   "outputs": [],
   "source": [
    "row_cik <- \n",
    "row_cusip <- \n",
    "\n",
    "df <- to_analyse[to_analyse$cik == row_cik & to_analyse$cusip == row_cusip, cols]"
   ]
  },
  {
   "cell_type": "code",
   "execution_count": null,
   "metadata": {
    "collapsed": true
   },
   "outputs": [],
   "source": [
    "# See which other cusips have matched row_cik and which ones are better matches\n",
    "valid9s_above_10_w_issuers %>% filter(cik == row_cik)"
   ]
  },
  {
   "cell_type": "code",
   "execution_count": null,
   "metadata": {
    "collapsed": true
   },
   "outputs": [],
   "source": [
    "# See which other ciks have matched row_cusip and which ones are better matches\n",
    "valid9s_above_10_w_issuers %>% filter(cusip == row_cusip)"
   ]
  },
  {
   "cell_type": "code",
   "execution_count": null,
   "metadata": {
    "collapsed": true
   },
   "outputs": [],
   "source": [
    "# Search for names in edgar.filings by cik\n",
    "name_search_sql <- paste0('SELECT DISTINCT cik, company_name FROM edgar.filings WHERE cik = ', row_cik)\n",
    "tbl(pg, sql(name_search_sql))"
   ]
  },
  {
   "cell_type": "code",
   "execution_count": null,
   "metadata": {
    "collapsed": true
   },
   "outputs": [],
   "source": [
    "# Search for ciks in edgar.filings by using first few words of a company name\n",
    "company_name_str <- \"\"\n",
    "cik_search_sql <- paste0(\"SELECT DISTINCT cik, company_name FROM edgar.filings WHERE UPPER(company_name) ~ '^\", \n",
    "                         company_name_str, \"'\")\n",
    "tbl(pg, sql(cik_search_sql))"
   ]
  },
  {
   "cell_type": "code",
   "execution_count": null,
   "metadata": {
    "collapsed": true
   },
   "outputs": [],
   "source": [
    "# Try looking for cusip6's in issuers by searching by first few words of company_name\n",
    "company_name_str <- ''\n",
    "issuers %>% filter(grepl(paste0('^', company_name_str), issuer_name))"
   ]
  },
  {
   "cell_type": "code",
   "execution_count": null,
   "metadata": {
    "collapsed": true
   },
   "outputs": [],
   "source": [
    "# Try looking for cusip8's in stocknames by searching by first few words of company_name\n",
    "company_name_str <- ''\n",
    "stocknames %>% filter(grepl(paste0('^', company_name_str), comnam))"
   ]
  },
  {
   "cell_type": "code",
   "execution_count": null,
   "metadata": {
    "collapsed": true
   },
   "outputs": [],
   "source": [
    "df$valid_match <- \n",
    "df$better_cik <- \n",
    "df$better_cik_company_name <- \n",
    "df$better_cusip <- \n",
    "df$better_cusip_issuer_name <-\n",
    "df$better_cusip_issuer_adl <- \n",
    "df$better_cusip6 <- \n",
    "df$better_cusip6_issuer_name <-\n",
    "df$better_cusip6_issuer_adl <-\n",
    "df$better_cusip8 <- \n",
    "df$better_cusip8_comnam <- \n",
    "df$other_reason <- "
   ]
  },
  {
   "cell_type": "code",
   "execution_count": null,
   "metadata": {
    "collapsed": true
   },
   "outputs": [],
   "source": [
    "rs <- dbWriteTable(pg, c('edgar', 'cusip_cik_exceptions'), df, row.names = FALSE, append = TRUE,\n",
    "                   encoding = \"latin1\")"
   ]
  },
  {
   "cell_type": "markdown",
   "metadata": {},
   "source": [
    "## 6. Padded 8-digit cusips which map to stocknames only\n",
    "\n",
    "Here we do the analysis for 8-digit cusips padded with a zero on the left which map solely onto `crsp.stocknames`. Here, we start by making the dataframes `added_value_8s_above_10_padded_no_issuers` and `added_value_8s_above_10_padded_stocknames` below."
   ]
  },
  {
   "cell_type": "code",
   "execution_count": 117,
   "metadata": {},
   "outputs": [
    {
     "name": "stderr",
     "output_type": "stream",
     "text": [
      "Joining, by = c(\"cik\", \"cusip\")\n"
     ]
    }
   ],
   "source": [
    "added_value_8s_above_10_padded_no_issuers <- added_value_8s_above_10_padded %>%\n",
    "                                            anti_join(added_value_8s_above_10_padded_w_issuers %>% distinct(cik, cusip))\n",
    "\n",
    "\n",
    "added_value_8s_above_10_padded_stocknames <- added_value_8s_above_10_padded_no_issuers %>%\n",
    "                                                inner_join(stocknames, by = 'ncusip')"
   ]
  },
  {
   "cell_type": "code",
   "execution_count": 118,
   "metadata": {},
   "outputs": [
    {
     "name": "stderr",
     "output_type": "stream",
     "text": [
      "Warning message in cbind(parts$left, ellip_h, parts$right, deparse.level = 0L):\n",
      "\"number of rows of result is not a multiple of vector length (arg 2)\"Warning message in cbind(parts$left, ellip_h, parts$right, deparse.level = 0L):\n",
      "\"number of rows of result is not a multiple of vector length (arg 2)\"Warning message in cbind(parts$left, ellip_h, parts$right, deparse.level = 0L):\n",
      "\"number of rows of result is not a multiple of vector length (arg 2)\"Warning message in cbind(parts$left, ellip_h, parts$right, deparse.level = 0L):\n",
      "\"number of rows of result is not a multiple of vector length (arg 2)\""
     ]
    },
    {
     "data": {
      "text/html": [
       "<table>\n",
       "<thead><tr><th scope=col>cik</th><th scope=col>cusip_unpadded</th><th scope=col>company_name</th><th scope=col>ncusip</th><th scope=col>cusip6</th><th scope=col>cusip.x</th><th scope=col>permno</th><th scope=col>permco</th><th scope=col>namedt</th><th scope=col>nameenddt</th><th scope=col>...</th><th scope=col>ticker</th><th scope=col>comnam</th><th scope=col>hexcd</th><th scope=col>exchcd</th><th scope=col>siccd</th><th scope=col>shrcd</th><th scope=col>shrcls</th><th scope=col>st_date</th><th scope=col>end_date</th><th scope=col>namedum</th></tr></thead>\n",
       "<tbody>\n",
       "</tbody>\n",
       "</table>\n"
      ],
      "text/latex": [
       "\\begin{tabular}{r|lllllllllllllllllllll}\n",
       " cik & cusip\\_unpadded & company\\_name & ncusip & cusip6 & cusip.x & permno & permco & namedt & nameenddt & ... & ticker & comnam & hexcd & exchcd & siccd & shrcd & shrcls & st\\_date & end\\_date & namedum\\\\\n",
       "\\hline\n",
       "\\end{tabular}\n"
      ],
      "text/markdown": [
       "\n",
       "cik | cusip_unpadded | company_name | ncusip | cusip6 | cusip.x | permno | permco | namedt | nameenddt | ... | ticker | comnam | hexcd | exchcd | siccd | shrcd | shrcls | st_date | end_date | namedum | \n",
       "||\n",
       "\n",
       "\n"
      ],
      "text/plain": [
       "     cik cusip_unpadded company_name ncusip cusip6 cusip.x permno permco namedt\n",
       "     nameenddt ... ticker comnam hexcd exchcd siccd shrcd shrcls st_date\n",
       "     end_date namedum"
      ]
     },
     "metadata": {},
     "output_type": "display_data"
    }
   ],
   "source": [
    "added_value_8s_above_10_padded_stocknames %>% head(10)"
   ]
  },
  {
   "cell_type": "code",
   "execution_count": 180,
   "metadata": {},
   "outputs": [
    {
     "name": "stderr",
     "output_type": "stream",
     "text": [
      "Joining, by = \"cik\"\n",
      "Warning message in cbind(parts$left, ellip_h, parts$right, deparse.level = 0L):\n",
      "\"number of rows of result is not a multiple of vector length (arg 2)\"Warning message in cbind(parts$left, ellip_h, parts$right, deparse.level = 0L):\n",
      "\"number of rows of result is not a multiple of vector length (arg 2)\"Warning message in cbind(parts$left, ellip_h, parts$right, deparse.level = 0L):\n",
      "\"number of rows of result is not a multiple of vector length (arg 2)\"Warning message in cbind(parts$left, ellip_h, parts$right, deparse.level = 0L):\n",
      "\"number of rows of result is not a multiple of vector length (arg 2)\""
     ]
    },
    {
     "data": {
      "text/html": [
       "<table>\n",
       "<thead><tr><th scope=col>cik</th><th scope=col>cusip_unpadded</th><th scope=col>company_name</th><th scope=col>ncusip</th><th scope=col>cusip6</th><th scope=col>cusip.x</th><th scope=col>permno</th><th scope=col>permco</th><th scope=col>namedt</th><th scope=col>nameenddt</th><th scope=col>...</th><th scope=col>ticker</th><th scope=col>comnam</th><th scope=col>hexcd</th><th scope=col>exchcd</th><th scope=col>siccd</th><th scope=col>shrcd</th><th scope=col>shrcls</th><th scope=col>st_date</th><th scope=col>end_date</th><th scope=col>namedum</th></tr></thead>\n",
       "<tbody>\n",
       "</tbody>\n",
       "</table>\n"
      ],
      "text/latex": [
       "\\begin{tabular}{r|lllllllllllllllllllll}\n",
       " cik & cusip\\_unpadded & company\\_name & ncusip & cusip6 & cusip.x & permno & permco & namedt & nameenddt & ... & ticker & comnam & hexcd & exchcd & siccd & shrcd & shrcls & st\\_date & end\\_date & namedum\\\\\n",
       "\\hline\n",
       "\\end{tabular}\n"
      ],
      "text/markdown": [
       "\n",
       "cik | cusip_unpadded | company_name | ncusip | cusip6 | cusip.x | permno | permco | namedt | nameenddt | ... | ticker | comnam | hexcd | exchcd | siccd | shrcd | shrcls | st_date | end_date | namedum | \n",
       "||\n",
       "\n",
       "\n"
      ],
      "text/plain": [
       "     cik cusip_unpadded company_name ncusip cusip6 cusip.x permno permco namedt\n",
       "     nameenddt ... ticker comnam hexcd exchcd siccd shrcd shrcls st_date\n",
       "     end_date namedum"
      ]
     },
     "metadata": {},
     "output_type": "display_data"
    }
   ],
   "source": [
    "to_analyse <- added_value_8s_above_10_padded_stocknames %>% anti_join(cusip_cik_exceptions %>% distinct(cik, cusip))\n",
    "to_analyse"
   ]
  },
  {
   "cell_type": "code",
   "execution_count": null,
   "metadata": {
    "collapsed": true
   },
   "outputs": [],
   "source": [
    "cols <- colnames(cusip_cik_exceptions)[colnames(cusip_cik_exceptions) %in% colnames(to_analyse)]\n",
    "cols"
   ]
  },
  {
   "cell_type": "code",
   "execution_count": null,
   "metadata": {
    "collapsed": true
   },
   "outputs": [],
   "source": [
    "row_cik <- \n",
    "row_cusip <- \n",
    "\n",
    "df <- to_analyse[to_analyse$cik == row_cik & to_analyse$cusip == row_cusip, cols]"
   ]
  },
  {
   "cell_type": "code",
   "execution_count": null,
   "metadata": {
    "collapsed": true
   },
   "outputs": [],
   "source": [
    "# See which other cusips have matched row_cik and which ones are better matches\n",
    "valid9s_above_10_w_issuers %>% filter(cik == row_cik)"
   ]
  },
  {
   "cell_type": "code",
   "execution_count": null,
   "metadata": {
    "collapsed": true
   },
   "outputs": [],
   "source": [
    "# See which other ciks have matched row_cusip and which ones are better matches\n",
    "valid9s_above_10_w_issuers %>% filter(cusip == row_cusip)"
   ]
  },
  {
   "cell_type": "code",
   "execution_count": null,
   "metadata": {
    "collapsed": true
   },
   "outputs": [],
   "source": [
    "# Search for names in edgar.filings by cik\n",
    "name_search_sql <- paste0('SELECT DISTINCT cik, company_name FROM edgar.filings WHERE cik = ', row_cik)\n",
    "tbl(pg, sql(name_search_sql))"
   ]
  },
  {
   "cell_type": "code",
   "execution_count": null,
   "metadata": {
    "collapsed": true
   },
   "outputs": [],
   "source": [
    "# Search for ciks in edgar.filings by using first few words of a company name\n",
    "company_name_str <- \"\"\n",
    "cik_search_sql <- paste0(\"SELECT DISTINCT cik, company_name FROM edgar.filings WHERE UPPER(company_name) ~ '^\", \n",
    "                         company_name_str, \"'\")\n",
    "tbl(pg, sql(cik_search_sql))"
   ]
  },
  {
   "cell_type": "code",
   "execution_count": null,
   "metadata": {
    "collapsed": true
   },
   "outputs": [],
   "source": [
    "# Try looking for cusip6's in issuers by searching by first few words of company_name\n",
    "company_name_str <- ''\n",
    "issuers %>% filter(grepl(paste0('^', company_name_str), issuer_name))"
   ]
  },
  {
   "cell_type": "code",
   "execution_count": null,
   "metadata": {
    "collapsed": true
   },
   "outputs": [],
   "source": [
    "# Try looking for cusip8's in stocknames by searching by first few words of company_name\n",
    "company_name_str <- ''\n",
    "stocknames %>% filter(grepl(paste0('^', company_name_str), comnam))"
   ]
  },
  {
   "cell_type": "code",
   "execution_count": null,
   "metadata": {
    "collapsed": true
   },
   "outputs": [],
   "source": [
    "df$valid_match <- \n",
    "df$better_cik <- \n",
    "df$better_cik_company_name <- \n",
    "df$better_cusip <- \n",
    "df$better_cusip_issuer_name <-\n",
    "df$better_cusip_issuer_adl <- \n",
    "df$better_cusip6 <- \n",
    "df$better_cusip6_issuer_name <-\n",
    "df$better_cusip6_issuer_adl <-\n",
    "df$better_cusip8 <- \n",
    "df$better_cusip8_comnam <- \n",
    "df$other_reason <- "
   ]
  },
  {
   "cell_type": "code",
   "execution_count": null,
   "metadata": {
    "collapsed": true
   },
   "outputs": [],
   "source": [
    "rs <- dbWriteTable(pg, c('edgar', 'cusip_cik_exceptions'), df, row.names = FALSE, append = TRUE,\n",
    "                   encoding = \"latin1\")"
   ]
  },
  {
   "cell_type": "markdown",
   "metadata": {},
   "source": [
    "## 7. 7-digit Cusips\n",
    "\n",
    "Here, we do the analysis for 7-digit cusips with a frequency of at least 10. Here, we do the analysis by doing joins using just the first 6 digits as a cusip6. We start by defining `valid7s_above_10`, `added_value_7s_above_10`, and `added_value_7s_above_10_w_issuers` below."
   ]
  },
  {
   "cell_type": "code",
   "execution_count": 121,
   "metadata": {},
   "outputs": [
    {
     "name": "stderr",
     "output_type": "stream",
     "text": [
      "Joining, by = c(\"cik\", \"cusip\")\n",
      "Joining, by = \"cusip6\"\n"
     ]
    }
   ],
   "source": [
    "valid7s_above_10 <- cusip_cik %>% group_by(cik, cusip) %>% summarise(freq = n()) %>% ungroup() %>%\n",
    "    inner_join(cusip_cik) %>% filter(nchar(cusip) == 7 & freq >= 10) %>% collect() %>%\n",
    "    distinct(cik, cusip, company_name) %>% rename(cusip_raw = cusip) %>% mutate(cusip = substr(cusip_raw, 1, 6))\n",
    "\n",
    "\n",
    "valid7s_above_10 <- valid7s_above_10 %>% mutate(cusip6 = substr(cusip,  1, 6))\n",
    "\n",
    "added_value_7s_above_10 <- valid7s_above_10 %>% anti_join(valid9s_above_10, by = c('cik', 'cusip6')) %>%\n",
    "                     anti_join(valid8s_above_10, by = c('cik', 'cusip6')) %>%\n",
    "                     anti_join(valid8s_above_10_padded, by = c('cik', 'cusip6'))\n",
    "\n",
    "\n",
    "added_value_7s_above_10_w_issuers <- added_value_7s_above_10 %>% inner_join(issuers)\n"
   ]
  },
  {
   "cell_type": "code",
   "execution_count": 181,
   "metadata": {},
   "outputs": [
    {
     "data": {
      "text/html": [
       "<table>\n",
       "<thead><tr><th scope=col>cik</th><th scope=col>cusip</th><th scope=col>company_name</th><th scope=col>issuer_name</th><th scope=col>issuer_adl</th><th scope=col>cusip_raw</th></tr></thead>\n",
       "<tbody>\n",
       "\t<tr><td>  74702                                     </td><td>683836                                      </td><td>OPTICAL RADIATION CORP                      </td><td>OPTICAL RADIATION CORP                      </td><td>NA                                          </td><td>6838361                                     </td></tr>\n",
       "\t<tr><td> 863445                                     </td><td>066521                                      </td><td>BANNER AEROSPACE INC                        </td><td>BANKWEST CORP                               </td><td>NA                                          </td><td>0665210                                     </td></tr>\n",
       "\t<tr><td> 896717                                     </td><td>594949                                      </td><td>MICROCAP FUND INC                           </td><td>MICROCAP FD INC                             </td><td>NA                                          </td><td>5949490                                     </td></tr>\n",
       "\t<tr><td>1070304                                     </td><td>666114                                      </td><td>ORIX CORP                                   </td><td>NORTHFIELD BANCORP INC                      </td><td>ACQUIRED BY PATAPSCO BANCORP INC  11/13/2000</td><td>6661144                                     </td></tr>\n",
       "\t<tr><td>  34408                                     </td><td>307001                                      </td><td>FAMILY DOLLAR STORES INC                    </td><td>FAMILY ED CO INC                            </td><td>NA                                          </td><td>3070017                                     </td></tr>\n",
       "\t<tr><td>  34408                                     </td><td>307001                                      </td><td>FAMILY DOLLAR STORES INC                    </td><td>FAMILY ED CO INC                            </td><td>NA                                          </td><td>3070019                                     </td></tr>\n",
       "\t<tr><td>1115837                                     </td><td>607409                                      </td><td>MOBILE TELESYSTEMS OJSC                     </td><td>MOBILE TELESYSTEMS OJSC                     </td><td>NA                                          </td><td>6074091                                     </td></tr>\n",
       "\t<tr><td>1115837                                     </td><td>607409                                      </td><td>MOBILE TELESYSTEMS PJSC                     </td><td>MOBILE TELESYSTEMS OJSC                     </td><td>NA                                          </td><td>6074091                                     </td></tr>\n",
       "\t<tr><td> 809023                                                                             </td><td>012905                                                                              </td><td><span style=white-space:pre-wrap>BRITISH AIRWAYS PLC     </span>                    </td><td>ALBERTA WASTE RES &amp; ENERGY CORP                                                 </td><td><span style=white-space:pre-wrap>NA                                          </span></td><td>0129057                                                                             </td></tr>\n",
       "\t<tr><td> 876573                                     </td><td>71361E                                      </td><td>PERCON INC                                  </td><td>PERCON ACQUISITION INC                      </td><td>NA                                          </td><td>71361E1                                     </td></tr>\n",
       "</tbody>\n",
       "</table>\n"
      ],
      "text/latex": [
       "\\begin{tabular}{r|llllll}\n",
       " cik & cusip & company\\_name & issuer\\_name & issuer\\_adl & cusip\\_raw\\\\\n",
       "\\hline\n",
       "\t   74702                                      & 683836                                       & OPTICAL RADIATION CORP                       & OPTICAL RADIATION CORP                       & NA                                           & 6838361                                     \\\\\n",
       "\t  863445                                      & 066521                                       & BANNER AEROSPACE INC                         & BANKWEST CORP                                & NA                                           & 0665210                                     \\\\\n",
       "\t  896717                                      & 594949                                       & MICROCAP FUND INC                            & MICROCAP FD INC                              & NA                                           & 5949490                                     \\\\\n",
       "\t 1070304                                      & 666114                                       & ORIX CORP                                    & NORTHFIELD BANCORP INC                       & ACQUIRED BY PATAPSCO BANCORP INC  11/13/2000 & 6661144                                     \\\\\n",
       "\t   34408                                      & 307001                                       & FAMILY DOLLAR STORES INC                     & FAMILY ED CO INC                             & NA                                           & 3070017                                     \\\\\n",
       "\t   34408                                      & 307001                                       & FAMILY DOLLAR STORES INC                     & FAMILY ED CO INC                             & NA                                           & 3070019                                     \\\\\n",
       "\t 1115837                                      & 607409                                       & MOBILE TELESYSTEMS OJSC                      & MOBILE TELESYSTEMS OJSC                      & NA                                           & 6074091                                     \\\\\n",
       "\t 1115837                                      & 607409                                       & MOBILE TELESYSTEMS PJSC                      & MOBILE TELESYSTEMS OJSC                      & NA                                           & 6074091                                     \\\\\n",
       "\t  809023                                      & 012905                                       & BRITISH AIRWAYS PLC                          & ALBERTA WASTE RES \\& ENERGY CORP            & NA                                           & 0129057                                     \\\\\n",
       "\t  876573                                      & 71361E                                       & PERCON INC                                   & PERCON ACQUISITION INC                       & NA                                           & 71361E1                                     \\\\\n",
       "\\end{tabular}\n"
      ],
      "text/markdown": [
       "\n",
       "cik | cusip | company_name | issuer_name | issuer_adl | cusip_raw | \n",
       "|---|---|---|---|---|---|---|---|---|---|\n",
       "|   74702                                      | 683836                                       | OPTICAL RADIATION CORP                       | OPTICAL RADIATION CORP                       | NA                                           | 6838361                                      | \n",
       "|  863445                                      | 066521                                       | BANNER AEROSPACE INC                         | BANKWEST CORP                                | NA                                           | 0665210                                      | \n",
       "|  896717                                      | 594949                                       | MICROCAP FUND INC                            | MICROCAP FD INC                              | NA                                           | 5949490                                      | \n",
       "| 1070304                                      | 666114                                       | ORIX CORP                                    | NORTHFIELD BANCORP INC                       | ACQUIRED BY PATAPSCO BANCORP INC  11/13/2000 | 6661144                                      | \n",
       "|   34408                                      | 307001                                       | FAMILY DOLLAR STORES INC                     | FAMILY ED CO INC                             | NA                                           | 3070017                                      | \n",
       "|   34408                                      | 307001                                       | FAMILY DOLLAR STORES INC                     | FAMILY ED CO INC                             | NA                                           | 3070019                                      | \n",
       "| 1115837                                      | 607409                                       | MOBILE TELESYSTEMS OJSC                      | MOBILE TELESYSTEMS OJSC                      | NA                                           | 6074091                                      | \n",
       "| 1115837                                      | 607409                                       | MOBILE TELESYSTEMS PJSC                      | MOBILE TELESYSTEMS OJSC                      | NA                                           | 6074091                                      | \n",
       "|  809023                                      | 012905                                       | BRITISH AIRWAYS PLC                          | ALBERTA WASTE RES & ENERGY CORP              | NA                                           | 0129057                                      | \n",
       "|  876573                                      | 71361E                                       | PERCON INC                                   | PERCON ACQUISITION INC                       | NA                                           | 71361E1                                      | \n",
       "\n",
       "\n"
      ],
      "text/plain": [
       "   cik     cusip  company_name             issuer_name                    \n",
       "1    74702 683836 OPTICAL RADIATION CORP   OPTICAL RADIATION CORP         \n",
       "2   863445 066521 BANNER AEROSPACE INC     BANKWEST CORP                  \n",
       "3   896717 594949 MICROCAP FUND INC        MICROCAP FD INC                \n",
       "4  1070304 666114 ORIX CORP                NORTHFIELD BANCORP INC         \n",
       "5    34408 307001 FAMILY DOLLAR STORES INC FAMILY ED CO INC               \n",
       "6    34408 307001 FAMILY DOLLAR STORES INC FAMILY ED CO INC               \n",
       "7  1115837 607409 MOBILE TELESYSTEMS OJSC  MOBILE TELESYSTEMS OJSC        \n",
       "8  1115837 607409 MOBILE TELESYSTEMS PJSC  MOBILE TELESYSTEMS OJSC        \n",
       "9   809023 012905 BRITISH AIRWAYS PLC      ALBERTA WASTE RES & ENERGY CORP\n",
       "10  876573 71361E PERCON INC               PERCON ACQUISITION INC         \n",
       "   issuer_adl                                   cusip_raw\n",
       "1  NA                                           6838361  \n",
       "2  NA                                           0665210  \n",
       "3  NA                                           5949490  \n",
       "4  ACQUIRED BY PATAPSCO BANCORP INC  11/13/2000 6661144  \n",
       "5  NA                                           3070017  \n",
       "6  NA                                           3070019  \n",
       "7  NA                                           6074091  \n",
       "8  NA                                           6074091  \n",
       "9  NA                                           0129057  \n",
       "10 NA                                           71361E1  "
      ]
     },
     "metadata": {},
     "output_type": "display_data"
    }
   ],
   "source": [
    "added_value_7s_above_10_w_issuers %>% select(cik, cusip, company_name, issuer_name, issuer_adl, cusip_raw) %>% head(10)"
   ]
  },
  {
   "cell_type": "code",
   "execution_count": 182,
   "metadata": {},
   "outputs": [
    {
     "name": "stderr",
     "output_type": "stream",
     "text": [
      "Joining, by = c(\"cik\", \"cusip\")\n"
     ]
    },
    {
     "data": {
      "text/html": [
       "<table>\n",
       "<thead><tr><th scope=col>cik</th><th scope=col>cusip</th><th scope=col>company_name</th><th scope=col>issuer_name</th><th scope=col>issuer_adl</th><th scope=col>cusip_raw</th></tr></thead>\n",
       "<tbody>\n",
       "</tbody>\n",
       "</table>\n"
      ],
      "text/latex": [
       "\\begin{tabular}{r|llllll}\n",
       " cik & cusip & company\\_name & issuer\\_name & issuer\\_adl & cusip\\_raw\\\\\n",
       "\\hline\n",
       "\\end{tabular}\n"
      ],
      "text/markdown": [
       "\n",
       "cik | cusip | company_name | issuer_name | issuer_adl | cusip_raw | \n",
       "||\n",
       "\n",
       "\n"
      ],
      "text/plain": [
       "     cik cusip company_name issuer_name issuer_adl cusip_raw"
      ]
     },
     "metadata": {},
     "output_type": "display_data"
    }
   ],
   "source": [
    "to_analyse <- added_value_7s_above_10_w_issuers %>% select(cik, cusip, company_name, issuer_name, issuer_adl, cusip_raw) %>%\n",
    "                    anti_join(cusip_cik_exceptions %>% distinct(cik, cusip))\n",
    "to_analyse"
   ]
  },
  {
   "cell_type": "code",
   "execution_count": null,
   "metadata": {
    "collapsed": true
   },
   "outputs": [],
   "source": [
    "cols <- colnames(cusip_cik_exceptions)[colnames(cusip_cik_exceptions) %in% colnames(to_analyse)]\n",
    "cols"
   ]
  },
  {
   "cell_type": "code",
   "execution_count": null,
   "metadata": {
    "collapsed": true
   },
   "outputs": [],
   "source": [
    "row_cik <- \n",
    "row_cusip <- \n",
    "\n",
    "df <- to_analyse[to_analyse$cik == row_cik & to_analyse$cusip == row_cusip, cols]"
   ]
  },
  {
   "cell_type": "code",
   "execution_count": null,
   "metadata": {
    "collapsed": true
   },
   "outputs": [],
   "source": [
    "# See which other cusips have matched row_cik and which ones are better matches\n",
    "valid9s_above_10_w_issuers %>% filter(cik == row_cik)"
   ]
  },
  {
   "cell_type": "code",
   "execution_count": null,
   "metadata": {
    "collapsed": true
   },
   "outputs": [],
   "source": [
    "# See which other ciks have matched row_cusip and which ones are better matches\n",
    "valid9s_above_10_w_issuers %>% filter(cusip == row_cusip)"
   ]
  },
  {
   "cell_type": "code",
   "execution_count": null,
   "metadata": {
    "collapsed": true
   },
   "outputs": [],
   "source": [
    "# Search for names in edgar.filings by cik\n",
    "name_search_sql <- paste0('SELECT DISTINCT cik, company_name FROM edgar.filings WHERE cik = ', row_cik)\n",
    "tbl(pg, sql(name_search_sql))"
   ]
  },
  {
   "cell_type": "code",
   "execution_count": null,
   "metadata": {
    "collapsed": true
   },
   "outputs": [],
   "source": [
    "# Search for ciks in edgar.filings by using first few words of a company name\n",
    "company_name_str <- \"\"\n",
    "cik_search_sql <- paste0(\"SELECT DISTINCT cik, company_name FROM edgar.filings WHERE UPPER(company_name) ~ '^\", \n",
    "                         company_name_str, \"'\")\n",
    "tbl(pg, sql(cik_search_sql))"
   ]
  },
  {
   "cell_type": "code",
   "execution_count": null,
   "metadata": {
    "collapsed": true
   },
   "outputs": [],
   "source": [
    "# Try looking for cusip6's in issuers by searching by first few words of company_name\n",
    "company_name_str <- ''\n",
    "issuers %>% filter(grepl(paste0('^', company_name_str), issuer_name))"
   ]
  },
  {
   "cell_type": "code",
   "execution_count": null,
   "metadata": {
    "collapsed": true
   },
   "outputs": [],
   "source": [
    "# Try looking for cusip8's in stocknames by searching by first few words of company_name\n",
    "company_name_str <- ''\n",
    "stocknames %>% filter(grepl(paste0('^', company_name_str), comnam))"
   ]
  },
  {
   "cell_type": "code",
   "execution_count": null,
   "metadata": {
    "collapsed": true
   },
   "outputs": [],
   "source": [
    "df$valid_match <- \n",
    "df$better_cik <- \n",
    "df$better_cik_company_name <- \n",
    "df$better_cusip <- \n",
    "df$better_cusip_issuer_name <-\n",
    "df$better_cusip_issuer_adl <- \n",
    "df$better_cusip6 <- \n",
    "df$better_cusip6_issuer_name <-\n",
    "df$better_cusip6_issuer_adl <-\n",
    "df$better_cusip8 <- \n",
    "df$better_cusip8_comnam <- \n",
    "df$other_reason <- "
   ]
  },
  {
   "cell_type": "code",
   "execution_count": null,
   "metadata": {
    "collapsed": true
   },
   "outputs": [],
   "source": [
    "rs <- dbWriteTable(pg, c('edgar', 'cusip_cik_exceptions'), df, row.names = FALSE, append = TRUE,\n",
    "                   encoding = \"latin1\")"
   ]
  },
  {
   "cell_type": "markdown",
   "metadata": {},
   "source": [
    "## 8. 7-digit cusips which map solely to stocknames\n",
    "\n",
    "Here we analyse the 7-digit cases that map solely to `crsp.stocknames`. Here, we do the joins by comparing the `cusip6` from the cusips to the first 6 digits of the `ncusip` field from `stocknames`. We start by defining `added_value_7s_above_10_no_issuers` and `added_value_7s_above_10_stocknames` below."
   ]
  },
  {
   "cell_type": "code",
   "execution_count": 185,
   "metadata": {
    "collapsed": true
   },
   "outputs": [],
   "source": [
    "added_value_7s_above_10_no_issuers <- added_value_7s_above_10 %>%\n",
    "                    anti_join(added_value_7s_above_10_w_issuers, by = c('cik', 'cusip'))\n",
    "\n",
    "added_value_7s_above_10_stocknames <- added_value_7s_above_10_no_issuers %>%\n",
    "          inner_join(stocknames %>% mutate(cusip6 = substr(ncusip, 1, 6)), by = 'cusip6') %>% \n",
    "            rename(cusip = cusip.x, issuer_name = comnam)"
   ]
  },
  {
   "cell_type": "code",
   "execution_count": 186,
   "metadata": {},
   "outputs": [
    {
     "name": "stderr",
     "output_type": "stream",
     "text": [
      "Warning message in cbind(parts$left, ellip_h, parts$right, deparse.level = 0L):\n",
      "\"number of rows of result is not a multiple of vector length (arg 2)\"Warning message in cbind(parts$left, ellip_h, parts$right, deparse.level = 0L):\n",
      "\"number of rows of result is not a multiple of vector length (arg 2)\"Warning message in cbind(parts$left, ellip_h, parts$right, deparse.level = 0L):\n",
      "\"number of rows of result is not a multiple of vector length (arg 2)\"Warning message in cbind(parts$left, ellip_h, parts$right, deparse.level = 0L):\n",
      "\"number of rows of result is not a multiple of vector length (arg 2)\""
     ]
    },
    {
     "data": {
      "text/html": [
       "<table>\n",
       "<thead><tr><th scope=col>cik</th><th scope=col>cusip_raw</th><th scope=col>company_name</th><th scope=col>cusip</th><th scope=col>cusip6</th><th scope=col>permno</th><th scope=col>permco</th><th scope=col>namedt</th><th scope=col>nameenddt</th><th scope=col>cusip.y</th><th scope=col>...</th><th scope=col>ticker</th><th scope=col>issuer_name</th><th scope=col>hexcd</th><th scope=col>exchcd</th><th scope=col>siccd</th><th scope=col>shrcd</th><th scope=col>shrcls</th><th scope=col>st_date</th><th scope=col>end_date</th><th scope=col>namedum</th></tr></thead>\n",
       "<tbody>\n",
       "</tbody>\n",
       "</table>\n"
      ],
      "text/latex": [
       "\\begin{tabular}{r|lllllllllllllllllllll}\n",
       " cik & cusip\\_raw & company\\_name & cusip & cusip6 & permno & permco & namedt & nameenddt & cusip.y & ... & ticker & issuer\\_name & hexcd & exchcd & siccd & shrcd & shrcls & st\\_date & end\\_date & namedum\\\\\n",
       "\\hline\n",
       "\\end{tabular}\n"
      ],
      "text/markdown": [
       "\n",
       "cik | cusip_raw | company_name | cusip | cusip6 | permno | permco | namedt | nameenddt | cusip.y | ... | ticker | issuer_name | hexcd | exchcd | siccd | shrcd | shrcls | st_date | end_date | namedum | \n",
       "||\n",
       "\n",
       "\n"
      ],
      "text/plain": [
       "     cik cusip_raw company_name cusip cusip6 permno permco namedt nameenddt\n",
       "     cusip.y ... ticker issuer_name hexcd exchcd siccd shrcd shrcls st_date\n",
       "     end_date namedum"
      ]
     },
     "metadata": {},
     "output_type": "display_data"
    }
   ],
   "source": [
    "added_value_7s_above_10_stocknames"
   ]
  },
  {
   "cell_type": "code",
   "execution_count": 187,
   "metadata": {},
   "outputs": [
    {
     "name": "stderr",
     "output_type": "stream",
     "text": [
      "Joining, by = c(\"cik\", \"cusip\")\n",
      "Warning message in cbind(parts$left, ellip_h, parts$right, deparse.level = 0L):\n",
      "\"number of rows of result is not a multiple of vector length (arg 2)\"Warning message in cbind(parts$left, ellip_h, parts$right, deparse.level = 0L):\n",
      "\"number of rows of result is not a multiple of vector length (arg 2)\"Warning message in cbind(parts$left, ellip_h, parts$right, deparse.level = 0L):\n",
      "\"number of rows of result is not a multiple of vector length (arg 2)\"Warning message in cbind(parts$left, ellip_h, parts$right, deparse.level = 0L):\n",
      "\"number of rows of result is not a multiple of vector length (arg 2)\""
     ]
    },
    {
     "data": {
      "text/html": [
       "<table>\n",
       "<thead><tr><th scope=col>cik</th><th scope=col>cusip_raw</th><th scope=col>company_name</th><th scope=col>cusip</th><th scope=col>cusip6</th><th scope=col>permno</th><th scope=col>permco</th><th scope=col>namedt</th><th scope=col>nameenddt</th><th scope=col>cusip.y</th><th scope=col>...</th><th scope=col>ticker</th><th scope=col>issuer_name</th><th scope=col>hexcd</th><th scope=col>exchcd</th><th scope=col>siccd</th><th scope=col>shrcd</th><th scope=col>shrcls</th><th scope=col>st_date</th><th scope=col>end_date</th><th scope=col>namedum</th></tr></thead>\n",
       "<tbody>\n",
       "</tbody>\n",
       "</table>\n"
      ],
      "text/latex": [
       "\\begin{tabular}{r|lllllllllllllllllllll}\n",
       " cik & cusip\\_raw & company\\_name & cusip & cusip6 & permno & permco & namedt & nameenddt & cusip.y & ... & ticker & issuer\\_name & hexcd & exchcd & siccd & shrcd & shrcls & st\\_date & end\\_date & namedum\\\\\n",
       "\\hline\n",
       "\\end{tabular}\n"
      ],
      "text/markdown": [
       "\n",
       "cik | cusip_raw | company_name | cusip | cusip6 | permno | permco | namedt | nameenddt | cusip.y | ... | ticker | issuer_name | hexcd | exchcd | siccd | shrcd | shrcls | st_date | end_date | namedum | \n",
       "||\n",
       "\n",
       "\n"
      ],
      "text/plain": [
       "     cik cusip_raw company_name cusip cusip6 permno permco namedt nameenddt\n",
       "     cusip.y ... ticker issuer_name hexcd exchcd siccd shrcd shrcls st_date\n",
       "     end_date namedum"
      ]
     },
     "metadata": {},
     "output_type": "display_data"
    }
   ],
   "source": [
    "to_analyse <- added_value_7s_above_10_stocknames %>% anti_join(cusip_cik_exceptions %>% distinct(cik, cusip))\n",
    "to_analyse"
   ]
  },
  {
   "cell_type": "code",
   "execution_count": null,
   "metadata": {
    "collapsed": true
   },
   "outputs": [],
   "source": [
    "cols <- colnames(cusip_cik_exceptions)[colnames(cusip_cik_exceptions) %in% colnames(to_analyse)]\n",
    "cols"
   ]
  },
  {
   "cell_type": "code",
   "execution_count": null,
   "metadata": {
    "collapsed": true
   },
   "outputs": [],
   "source": [
    "row_cik <- \n",
    "row_cusip <- \n",
    "\n",
    "df <- to_analyse[to_analyse$cik == row_cik & to_analyse$cusip == row_cusip, cols]"
   ]
  },
  {
   "cell_type": "code",
   "execution_count": null,
   "metadata": {
    "collapsed": true
   },
   "outputs": [],
   "source": [
    "# See which other cusips have matched row_cik and which ones are better matches\n",
    "valid9s_above_10_w_issuers %>% filter(cik == row_cik)"
   ]
  },
  {
   "cell_type": "code",
   "execution_count": null,
   "metadata": {
    "collapsed": true
   },
   "outputs": [],
   "source": [
    "# See which other ciks have matched row_cusip and which ones are better matches\n",
    "valid9s_above_10_w_issuers %>% filter(cusip == row_cusip)"
   ]
  },
  {
   "cell_type": "code",
   "execution_count": null,
   "metadata": {
    "collapsed": true
   },
   "outputs": [],
   "source": [
    "# Search for names in edgar.filings by cik\n",
    "name_search_sql <- paste0('SELECT DISTINCT cik, company_name FROM edgar.filings WHERE cik = ', row_cik)\n",
    "tbl(pg, sql(name_search_sql))"
   ]
  },
  {
   "cell_type": "code",
   "execution_count": null,
   "metadata": {
    "collapsed": true
   },
   "outputs": [],
   "source": [
    "# Search for ciks in edgar.filings by using first few words of a company name\n",
    "company_name_str <- \"\"\n",
    "cik_search_sql <- paste0(\"SELECT DISTINCT cik, company_name FROM edgar.filings WHERE UPPER(company_name) ~ '^\", \n",
    "                         company_name_str, \"'\")\n",
    "tbl(pg, sql(cik_search_sql))"
   ]
  },
  {
   "cell_type": "code",
   "execution_count": null,
   "metadata": {
    "collapsed": true
   },
   "outputs": [],
   "source": [
    "# Try looking for cusip6's in issuers by searching by first few words of company_name\n",
    "company_name_str <- ''\n",
    "issuers %>% filter(grepl(paste0('^', company_name_str), issuer_name))"
   ]
  },
  {
   "cell_type": "code",
   "execution_count": null,
   "metadata": {
    "collapsed": true
   },
   "outputs": [],
   "source": [
    "# Try looking for cusip8's in stocknames by searching by first few words of company_name\n",
    "company_name_str <- ''\n",
    "stocknames %>% filter(grepl(paste0('^', company_name_str), comnam))"
   ]
  },
  {
   "cell_type": "code",
   "execution_count": null,
   "metadata": {
    "collapsed": true
   },
   "outputs": [],
   "source": [
    "df$valid_match <- \n",
    "df$better_cik <- \n",
    "df$better_cik_company_name <- \n",
    "df$better_cusip <- \n",
    "df$better_cusip_issuer_name <-\n",
    "df$better_cusip_issuer_adl <- \n",
    "df$better_cusip6 <- \n",
    "df$better_cusip6_issuer_name <-\n",
    "df$better_cusip6_issuer_adl <-\n",
    "df$better_cusip8 <- \n",
    "df$better_cusip8_comnam <- \n",
    "df$other_reason <- "
   ]
  },
  {
   "cell_type": "code",
   "execution_count": null,
   "metadata": {
    "collapsed": true
   },
   "outputs": [],
   "source": [
    "rs <- dbWriteTable(pg, c('edgar', 'cusip_cik_exceptions'), df, row.names = FALSE, append = TRUE,\n",
    "                   encoding = \"latin1\")"
   ]
  },
  {
   "cell_type": "code",
   "execution_count": 129,
   "metadata": {},
   "outputs": [
    {
     "data": {
      "text/html": [
       "<table>\n",
       "<thead><tr><th scope=col>cik</th><th scope=col>cusip_raw</th><th scope=col>company_name</th><th scope=col>cusip</th><th scope=col>cusip6</th></tr></thead>\n",
       "<tbody>\n",
       "\t<tr><td> 876573                       </td><td>71361E1                       </td><td>PERCON INC                    </td><td>71361E                        </td><td>71361E                        </td></tr>\n",
       "\t<tr><td> 800458                       </td><td>7601742                       </td><td>RENTRAK CORP                  </td><td>760174                        </td><td>760174                        </td></tr>\n",
       "\t<tr><td> 723125                       </td><td>5951124                       </td><td>MICRON TECHNOLOGY INC         </td><td>595112                        </td><td>595112                        </td></tr>\n",
       "\t<tr><td> 852952                       </td><td>9196303                       </td><td>WESTPOINT STEVENS INC         </td><td>919630                        </td><td>919630                        </td></tr>\n",
       "\t<tr><td>1053010                       </td><td>2144177                       </td><td>ROYAL OLYMPIC CRUISE LINES INC</td><td>214417                        </td><td>214417                        </td></tr>\n",
       "</tbody>\n",
       "</table>\n"
      ],
      "text/latex": [
       "\\begin{tabular}{r|lllll}\n",
       " cik & cusip\\_raw & company\\_name & cusip & cusip6\\\\\n",
       "\\hline\n",
       "\t  876573                        & 71361E1                        & PERCON INC                     & 71361E                         & 71361E                        \\\\\n",
       "\t  800458                        & 7601742                        & RENTRAK CORP                   & 760174                         & 760174                        \\\\\n",
       "\t  723125                        & 5951124                        & MICRON TECHNOLOGY INC          & 595112                         & 595112                        \\\\\n",
       "\t  852952                        & 9196303                        & WESTPOINT STEVENS INC          & 919630                         & 919630                        \\\\\n",
       "\t 1053010                        & 2144177                        & ROYAL OLYMPIC CRUISE LINES INC & 214417                         & 214417                        \\\\\n",
       "\\end{tabular}\n"
      ],
      "text/markdown": [
       "\n",
       "cik | cusip_raw | company_name | cusip | cusip6 | \n",
       "|---|---|---|---|---|\n",
       "|  876573                        | 71361E1                        | PERCON INC                     | 71361E                         | 71361E                         | \n",
       "|  800458                        | 7601742                        | RENTRAK CORP                   | 760174                         | 760174                         | \n",
       "|  723125                        | 5951124                        | MICRON TECHNOLOGY INC          | 595112                         | 595112                         | \n",
       "|  852952                        | 9196303                        | WESTPOINT STEVENS INC          | 919630                         | 919630                         | \n",
       "| 1053010                        | 2144177                        | ROYAL OLYMPIC CRUISE LINES INC | 214417                         | 214417                         | \n",
       "\n",
       "\n"
      ],
      "text/plain": [
       "  cik     cusip_raw company_name                   cusip  cusip6\n",
       "1  876573 71361E1   PERCON INC                     71361E 71361E\n",
       "2  800458 7601742   RENTRAK CORP                   760174 760174\n",
       "3  723125 5951124   MICRON TECHNOLOGY INC          595112 595112\n",
       "4  852952 9196303   WESTPOINT STEVENS INC          919630 919630\n",
       "5 1053010 2144177   ROYAL OLYMPIC CRUISE LINES INC 214417 214417"
      ]
     },
     "metadata": {},
     "output_type": "display_data"
    }
   ],
   "source": [
    "valid7s_above_10 %>% head(5)"
   ]
  },
  {
   "cell_type": "markdown",
   "metadata": {},
   "source": [
    "## 9. One-Padded 7-Digit Cusips\n",
    "\n",
    "Here, we analyse the case of raw 7-digit cusips padded with a single zero on the left (so a `cusip_raw` equal to '8860271' becomes the `cusip` '08860271')."
   ]
  },
  {
   "cell_type": "code",
   "execution_count": 136,
   "metadata": {},
   "outputs": [
    {
     "name": "stderr",
     "output_type": "stream",
     "text": [
      "Joining, by = \"cusip6\"\n"
     ]
    }
   ],
   "source": [
    "valid7s_above_10_1pad <- valid7s_above_10 %>% \n",
    "    mutate(cusip = paste0('0', cusip_raw)) %>% mutate(cusip6 = substr(cusip,  1, 6), ncusip = cusip)\n",
    "\n",
    "added_value_7s_above_10_1pad <- valid7s_above_10_1pad %>% anti_join(valid9s_above_10, by = c('cik', 'cusip6')) %>%\n",
    "    anti_join(valid8s_above_10, by = c('cik', 'cusip6')) %>%\n",
    "    anti_join(valid8s_above_10_padded, by = c('cik', 'cusip6')) %>%\n",
    "    anti_join(valid7s_above_10, by = c('cik', 'cusip6'))\n",
    "\n",
    "\n",
    "added_value_7s_above_10_1pad_w_issuers <- added_value_7s_above_10_1pad %>% inner_join(issuers)\n"
   ]
  },
  {
   "cell_type": "code",
   "execution_count": 188,
   "metadata": {},
   "outputs": [
    {
     "data": {
      "text/html": [
       "<table>\n",
       "<thead><tr><th scope=col>cik</th><th scope=col>cusip</th><th scope=col>company_name</th><th scope=col>issuer_name</th><th scope=col>issuer_adl</th><th scope=col>cusip_raw</th></tr></thead>\n",
       "<tbody>\n",
       "\t<tr><td>1116581                                                    </td><td>05982200                                                   </td><td>DIALOG SEMICONDUCTOR PLC                                   </td><td>BANDAI LTD                                                 </td><td>NA                                                         </td><td>5982200                                                    </td></tr>\n",
       "\t<tr><td> 809023                                                    </td><td>00129057                                                   </td><td>BRITISH AIRWAYS PLC                                        </td><td>AHI HEALTHCARE SYS INC                                     </td><td>NA                                                         </td><td>0129057                                                    </td></tr>\n",
       "\t<tr><td> 932290                                                    </td><td>08860271                                                   </td><td>THRUSTMASTER INC                                           </td><td>BFP RECEIVABLES CORP                                       </td><td>NA                                                         </td><td>8860271                                                    </td></tr>\n",
       "\t<tr><td> 932290                                                    </td><td>08860271                                                   </td><td>CENTERSPAN COMMUNICATIONS CORP                             </td><td>BFP RECEIVABLES CORP                                       </td><td>NA                                                         </td><td>8860271                                                    </td></tr>\n",
       "\t<tr><td> 875159                                                    </td><td>02283401                                                   </td><td>XL CAPITAL LTD                                             </td><td>AMALGATED TECHNOLOGIES PLC                                 </td><td>NA                                                         </td><td>2283401                                                    </td></tr>\n",
       "\t<tr><td><span style=white-space:pre-wrap>  34408</span>                       </td><td>03070017                                                              </td><td><span style=white-space:pre-wrap>FAMILY DOLLAR STORES INC      </span></td><td>AMERIFIRST BANK FED SVGS BK MIAMI FLA                                 </td><td>FORMERLY AMERIFIRST FED SVGS &amp; LN ASSN MIAMI FLA 03/01/1988       </td><td>3070017                                                               </td></tr>\n",
       "\t<tr><td><span style=white-space:pre-wrap>  34408</span>                       </td><td>03070019                                                              </td><td><span style=white-space:pre-wrap>FAMILY DOLLAR STORES INC      </span></td><td>AMERIFIRST BANK FED SVGS BK MIAMI FLA                                 </td><td>FORMERLY AMERIFIRST FED SVGS &amp; LN ASSN MIAMI FLA 03/01/1988       </td><td>3070019                                                               </td></tr>\n",
       "\t<tr><td> 723125                                                    </td><td>05951124                                                   </td><td>MICRON TECHNOLOGY INC                                      </td><td>BANC AMER COML MTG TR 2007-2                               </td><td>NA                                                         </td><td>5951124                                                    </td></tr>\n",
       "\t<tr><td>  74702                                                    </td><td>06838361                                                   </td><td>OPTICAL RADIATION CORP                                     </td><td>BARRE TR CO VT                                             </td><td>MERGED INTO MERCHANTS NATL BK BURLINGTON VT 07/1970        </td><td>6838361                                                    </td></tr>\n",
       "\t<tr><td> 924613                                                    </td><td>05902941                                                   </td><td>NOKIA CORP                                                 </td><td>BALTIMORE BANCORP                                          </td><td>NA                                                         </td><td>5902941                                                    </td></tr>\n",
       "</tbody>\n",
       "</table>\n"
      ],
      "text/latex": [
       "\\begin{tabular}{r|llllll}\n",
       " cik & cusip & company\\_name & issuer\\_name & issuer\\_adl & cusip\\_raw\\\\\n",
       "\\hline\n",
       "\t 1116581                                                     & 05982200                                                    & DIALOG SEMICONDUCTOR PLC                                    & BANDAI LTD                                                  & NA                                                          & 5982200                                                    \\\\\n",
       "\t  809023                                                     & 00129057                                                    & BRITISH AIRWAYS PLC                                         & AHI HEALTHCARE SYS INC                                      & NA                                                          & 0129057                                                    \\\\\n",
       "\t  932290                                                     & 08860271                                                    & THRUSTMASTER INC                                            & BFP RECEIVABLES CORP                                        & NA                                                          & 8860271                                                    \\\\\n",
       "\t  932290                                                     & 08860271                                                    & CENTERSPAN COMMUNICATIONS CORP                              & BFP RECEIVABLES CORP                                        & NA                                                          & 8860271                                                    \\\\\n",
       "\t  875159                                                     & 02283401                                                    & XL CAPITAL LTD                                              & AMALGATED TECHNOLOGIES PLC                                  & NA                                                          & 2283401                                                    \\\\\n",
       "\t   34408                                                       & 03070017                                                      & FAMILY DOLLAR STORES INC                                      & AMERIFIRST BANK FED SVGS BK MIAMI FLA                         & FORMERLY AMERIFIRST FED SVGS \\& LN ASSN MIAMI FLA 03/01/1988 & 3070017                                                      \\\\\n",
       "\t   34408                                                       & 03070019                                                      & FAMILY DOLLAR STORES INC                                      & AMERIFIRST BANK FED SVGS BK MIAMI FLA                         & FORMERLY AMERIFIRST FED SVGS \\& LN ASSN MIAMI FLA 03/01/1988 & 3070019                                                      \\\\\n",
       "\t  723125                                                     & 05951124                                                    & MICRON TECHNOLOGY INC                                       & BANC AMER COML MTG TR 2007-2                                & NA                                                          & 5951124                                                    \\\\\n",
       "\t   74702                                                     & 06838361                                                    & OPTICAL RADIATION CORP                                      & BARRE TR CO VT                                              & MERGED INTO MERCHANTS NATL BK BURLINGTON VT 07/1970         & 6838361                                                    \\\\\n",
       "\t  924613                                                     & 05902941                                                    & NOKIA CORP                                                  & BALTIMORE BANCORP                                           & NA                                                          & 5902941                                                    \\\\\n",
       "\\end{tabular}\n"
      ],
      "text/markdown": [
       "\n",
       "cik | cusip | company_name | issuer_name | issuer_adl | cusip_raw | \n",
       "|---|---|---|---|---|---|---|---|---|---|\n",
       "| 1116581                                                     | 05982200                                                    | DIALOG SEMICONDUCTOR PLC                                    | BANDAI LTD                                                  | NA                                                          | 5982200                                                     | \n",
       "|  809023                                                     | 00129057                                                    | BRITISH AIRWAYS PLC                                         | AHI HEALTHCARE SYS INC                                      | NA                                                          | 0129057                                                     | \n",
       "|  932290                                                     | 08860271                                                    | THRUSTMASTER INC                                            | BFP RECEIVABLES CORP                                        | NA                                                          | 8860271                                                     | \n",
       "|  932290                                                     | 08860271                                                    | CENTERSPAN COMMUNICATIONS CORP                              | BFP RECEIVABLES CORP                                        | NA                                                          | 8860271                                                     | \n",
       "|  875159                                                     | 02283401                                                    | XL CAPITAL LTD                                              | AMALGATED TECHNOLOGIES PLC                                  | NA                                                          | 2283401                                                     | \n",
       "|   34408                                                     | 03070017                                                    | FAMILY DOLLAR STORES INC                                    | AMERIFIRST BANK FED SVGS BK MIAMI FLA                       | FORMERLY AMERIFIRST FED SVGS & LN ASSN MIAMI FLA 03/01/1988 | 3070017                                                     | \n",
       "|   34408                                                     | 03070019                                                    | FAMILY DOLLAR STORES INC                                    | AMERIFIRST BANK FED SVGS BK MIAMI FLA                       | FORMERLY AMERIFIRST FED SVGS & LN ASSN MIAMI FLA 03/01/1988 | 3070019                                                     | \n",
       "|  723125                                                     | 05951124                                                    | MICRON TECHNOLOGY INC                                       | BANC AMER COML MTG TR 2007-2                                | NA                                                          | 5951124                                                     | \n",
       "|   74702                                                     | 06838361                                                    | OPTICAL RADIATION CORP                                      | BARRE TR CO VT                                              | MERGED INTO MERCHANTS NATL BK BURLINGTON VT 07/1970         | 6838361                                                     | \n",
       "|  924613                                                     | 05902941                                                    | NOKIA CORP                                                  | BALTIMORE BANCORP                                           | NA                                                          | 5902941                                                     | \n",
       "\n",
       "\n"
      ],
      "text/plain": [
       "   cik     cusip    company_name                  \n",
       "1  1116581 05982200 DIALOG SEMICONDUCTOR PLC      \n",
       "2   809023 00129057 BRITISH AIRWAYS PLC           \n",
       "3   932290 08860271 THRUSTMASTER INC              \n",
       "4   932290 08860271 CENTERSPAN COMMUNICATIONS CORP\n",
       "5   875159 02283401 XL CAPITAL LTD                \n",
       "6    34408 03070017 FAMILY DOLLAR STORES INC      \n",
       "7    34408 03070019 FAMILY DOLLAR STORES INC      \n",
       "8   723125 05951124 MICRON TECHNOLOGY INC         \n",
       "9    74702 06838361 OPTICAL RADIATION CORP        \n",
       "10  924613 05902941 NOKIA CORP                    \n",
       "   issuer_name                          \n",
       "1  BANDAI LTD                           \n",
       "2  AHI HEALTHCARE SYS INC               \n",
       "3  BFP RECEIVABLES CORP                 \n",
       "4  BFP RECEIVABLES CORP                 \n",
       "5  AMALGATED TECHNOLOGIES PLC           \n",
       "6  AMERIFIRST BANK FED SVGS BK MIAMI FLA\n",
       "7  AMERIFIRST BANK FED SVGS BK MIAMI FLA\n",
       "8  BANC AMER COML MTG TR 2007-2         \n",
       "9  BARRE TR CO VT                       \n",
       "10 BALTIMORE BANCORP                    \n",
       "   issuer_adl                                                  cusip_raw\n",
       "1  NA                                                          5982200  \n",
       "2  NA                                                          0129057  \n",
       "3  NA                                                          8860271  \n",
       "4  NA                                                          8860271  \n",
       "5  NA                                                          2283401  \n",
       "6  FORMERLY AMERIFIRST FED SVGS & LN ASSN MIAMI FLA 03/01/1988 3070017  \n",
       "7  FORMERLY AMERIFIRST FED SVGS & LN ASSN MIAMI FLA 03/01/1988 3070019  \n",
       "8  NA                                                          5951124  \n",
       "9  MERGED INTO MERCHANTS NATL BK BURLINGTON VT 07/1970         6838361  \n",
       "10 NA                                                          5902941  "
      ]
     },
     "metadata": {},
     "output_type": "display_data"
    }
   ],
   "source": [
    "added_value_7s_above_10_1pad_w_issuers %>% select(cik, cusip, company_name, issuer_name, issuer_adl, cusip_raw) %>% head(10)"
   ]
  },
  {
   "cell_type": "code",
   "execution_count": 138,
   "metadata": {},
   "outputs": [
    {
     "data": {
      "text/html": [
       "<table>\n",
       "<thead><tr><th scope=col>cik</th><th scope=col>cusip</th><th scope=col>company_name</th><th scope=col>issuer_name</th><th scope=col>issuer_adl</th><th scope=col>company_name_norm</th><th scope=col>issuer_name_norm</th><th scope=col>sim_index_norm</th><th scope=col>sim_index_max</th><th scope=col>valid_match</th><th scope=col>...</th><th scope=col>better_cusip_issuer_name</th><th scope=col>better_cusip_issuer_adl</th><th scope=col>sim_ix_better_cusip</th><th scope=col>better_cusip6</th><th scope=col>better_cusip6_issuer_name</th><th scope=col>better_cusip6_issuer_adl</th><th scope=col>better_cusip8</th><th scope=col>better_cusip8_comnam</th><th scope=col>other_reason</th><th scope=col>cusip_raw</th></tr></thead>\n",
       "<tbody>\n",
       "\t<tr><td>1116581                 </td><td>05982200                </td><td>DIALOG SEMICONDUCTOR PLC</td><td>BANDAI LTD              </td><td>NA                      </td><td>NA                      </td><td>NA                      </td><td>NA                      </td><td>NA                      </td><td>FALSE                   </td><td>...                     </td><td>NA                      </td><td>NA                      </td><td>NA                      </td><td>NA                      </td><td>NA                      </td><td>NA                      </td><td>NA                      </td><td>NA                      </td><td>NA                      </td><td>5982200                 </td></tr>\n",
       "</tbody>\n",
       "</table>\n"
      ],
      "text/latex": [
       "\\begin{tabular}{r|llllllllllllllllllllllll}\n",
       " cik & cusip & company\\_name & issuer\\_name & issuer\\_adl & company\\_name\\_norm & issuer\\_name\\_norm & sim\\_index\\_norm & sim\\_index\\_max & valid\\_match & ... & better\\_cusip\\_issuer\\_name & better\\_cusip\\_issuer\\_adl & sim\\_ix\\_better\\_cusip & better\\_cusip6 & better\\_cusip6\\_issuer\\_name & better\\_cusip6\\_issuer\\_adl & better\\_cusip8 & better\\_cusip8\\_comnam & other\\_reason & cusip\\_raw\\\\\n",
       "\\hline\n",
       "\t 1116581                  & 05982200                 & DIALOG SEMICONDUCTOR PLC & BANDAI LTD               & NA                       & NA                       & NA                       & NA                       & NA                       & FALSE                    & ...                      & NA                       & NA                       & NA                       & NA                       & NA                       & NA                       & NA                       & NA                       & NA                       & 5982200                 \\\\\n",
       "\\end{tabular}\n"
      ],
      "text/markdown": [
       "\n",
       "cik | cusip | company_name | issuer_name | issuer_adl | company_name_norm | issuer_name_norm | sim_index_norm | sim_index_max | valid_match | ... | better_cusip_issuer_name | better_cusip_issuer_adl | sim_ix_better_cusip | better_cusip6 | better_cusip6_issuer_name | better_cusip6_issuer_adl | better_cusip8 | better_cusip8_comnam | other_reason | cusip_raw | \n",
       "|---|\n",
       "| 1116581                  | 05982200                 | DIALOG SEMICONDUCTOR PLC | BANDAI LTD               | NA                       | NA                       | NA                       | NA                       | NA                       | FALSE                    | ...                      | NA                       | NA                       | NA                       | NA                       | NA                       | NA                       | NA                       | NA                       | NA                       | 5982200                  | \n",
       "\n",
       "\n"
      ],
      "text/plain": [
       "  cik     cusip    company_name             issuer_name issuer_adl\n",
       "1 1116581 05982200 DIALOG SEMICONDUCTOR PLC BANDAI LTD  NA        \n",
       "  company_name_norm issuer_name_norm sim_index_norm sim_index_max valid_match\n",
       "1 NA                NA               NA             NA            FALSE      \n",
       "  ... better_cusip_issuer_name better_cusip_issuer_adl sim_ix_better_cusip\n",
       "1 ... NA                       NA                      NA                 \n",
       "  better_cusip6 better_cusip6_issuer_name better_cusip6_issuer_adl\n",
       "1 NA            NA                        NA                      \n",
       "  better_cusip8 better_cusip8_comnam other_reason cusip_raw\n",
       "1 NA            NA                   NA           5982200  "
      ]
     },
     "metadata": {},
     "output_type": "display_data"
    }
   ],
   "source": [
    "cusip_cik_exceptions %>% filter(cik == 1116581)"
   ]
  },
  {
   "cell_type": "code",
   "execution_count": 193,
   "metadata": {},
   "outputs": [
    {
     "name": "stderr",
     "output_type": "stream",
     "text": [
      "Joining, by = c(\"cik\", \"cusip\")\n"
     ]
    },
    {
     "data": {
      "text/html": [
       "<table>\n",
       "<thead><tr><th scope=col>cik</th><th scope=col>cusip</th><th scope=col>company_name</th><th scope=col>issuer_name</th><th scope=col>issuer_adl</th><th scope=col>cusip_raw</th></tr></thead>\n",
       "<tbody>\n",
       "</tbody>\n",
       "</table>\n"
      ],
      "text/latex": [
       "\\begin{tabular}{r|llllll}\n",
       " cik & cusip & company\\_name & issuer\\_name & issuer\\_adl & cusip\\_raw\\\\\n",
       "\\hline\n",
       "\\end{tabular}\n"
      ],
      "text/markdown": [
       "\n",
       "cik | cusip | company_name | issuer_name | issuer_adl | cusip_raw | \n",
       "||\n",
       "\n",
       "\n"
      ],
      "text/plain": [
       "     cik cusip company_name issuer_name issuer_adl cusip_raw"
      ]
     },
     "metadata": {},
     "output_type": "display_data"
    }
   ],
   "source": [
    "to_analyse <- added_value_7s_above_10_1pad_w_issuers %>%\n",
    "            select(cik, cusip, company_name, issuer_name, issuer_adl, cusip_raw) %>%\n",
    "            anti_join(cusip_cik_exceptions %>% distinct(cik, cusip))\n",
    "to_analyse"
   ]
  },
  {
   "cell_type": "code",
   "execution_count": null,
   "metadata": {
    "collapsed": true
   },
   "outputs": [],
   "source": [
    "cols <- colnames(cusip_cik_exceptions)[colnames(cusip_cik_exceptions) %in% colnames(to_analyse)]\n",
    "cols"
   ]
  },
  {
   "cell_type": "code",
   "execution_count": null,
   "metadata": {
    "collapsed": true
   },
   "outputs": [],
   "source": [
    "row_cik <- \n",
    "row_cusip <- \n",
    "\n",
    "df <- to_analyse[to_analyse$cik == row_cik & to_analyse$cusip == row_cusip, cols]"
   ]
  },
  {
   "cell_type": "code",
   "execution_count": null,
   "metadata": {
    "collapsed": true
   },
   "outputs": [],
   "source": [
    "# See which other cusips have matched row_cik and which ones are better matches\n",
    "valid9s_above_10_w_issuers %>% filter(cik == row_cik)"
   ]
  },
  {
   "cell_type": "code",
   "execution_count": null,
   "metadata": {
    "collapsed": true
   },
   "outputs": [],
   "source": [
    "# See which other ciks have matched row_cusip and which ones are better matches\n",
    "valid9s_above_10_w_issuers %>% filter(cusip == row_cusip)"
   ]
  },
  {
   "cell_type": "code",
   "execution_count": null,
   "metadata": {
    "collapsed": true
   },
   "outputs": [],
   "source": [
    "# Search for names in edgar.filings by cik\n",
    "name_search_sql <- paste0('SELECT DISTINCT cik, company_name FROM edgar.filings WHERE cik = ', row_cik)\n",
    "tbl(pg, sql(name_search_sql))"
   ]
  },
  {
   "cell_type": "code",
   "execution_count": null,
   "metadata": {
    "collapsed": true
   },
   "outputs": [],
   "source": [
    "# Search for ciks in edgar.filings by using first few words of a company name\n",
    "company_name_str <- \"\"\n",
    "cik_search_sql <- paste0(\"SELECT DISTINCT cik, company_name FROM edgar.filings WHERE UPPER(company_name) ~ '^\", \n",
    "                         company_name_str, \"'\")\n",
    "tbl(pg, sql(cik_search_sql))"
   ]
  },
  {
   "cell_type": "code",
   "execution_count": null,
   "metadata": {
    "collapsed": true
   },
   "outputs": [],
   "source": [
    "# Try looking for cusip6's in issuers by searching by first few words of company_name\n",
    "company_name_str <- ''\n",
    "issuers %>% filter(grepl(paste0('^', company_name_str), issuer_name))"
   ]
  },
  {
   "cell_type": "code",
   "execution_count": null,
   "metadata": {
    "collapsed": true
   },
   "outputs": [],
   "source": [
    "# Try looking for cusip8's in stocknames by searching by first few words of company_name\n",
    "company_name_str <- ''\n",
    "stocknames %>% filter(grepl(paste0('^', company_name_str), comnam))"
   ]
  },
  {
   "cell_type": "code",
   "execution_count": null,
   "metadata": {
    "collapsed": true
   },
   "outputs": [],
   "source": [
    "df$valid_match <- \n",
    "df$better_cik <- \n",
    "df$better_cik_company_name <- \n",
    "df$better_cusip <- \n",
    "df$better_cusip_issuer_name <-\n",
    "df$better_cusip_issuer_adl <- \n",
    "df$better_cusip6 <- \n",
    "df$better_cusip6_issuer_name <-\n",
    "df$better_cusip6_issuer_adl <-\n",
    "df$better_cusip8 <- \n",
    "df$better_cusip8_comnam <- \n",
    "df$other_reason <- "
   ]
  },
  {
   "cell_type": "code",
   "execution_count": null,
   "metadata": {
    "collapsed": true
   },
   "outputs": [],
   "source": [
    "rs <- dbWriteTable(pg, c('edgar', 'cusip_cik_exceptions'), df, row.names = FALSE, append = TRUE,\n",
    "                   encoding = \"latin1\")"
   ]
  },
  {
   "cell_type": "markdown",
   "metadata": {},
   "source": [
    "## 10. One-padded 7-digit cusips which map just to `stocknames`\n",
    "\n",
    "Here analyse the one-padded 7-digit cusips which just map to `crsp.stocknames`. As normal, we define dataframes `added_value_7s_above_10_1pad_no_issuers` and `added_value_7s_above_10_1pad_stocknames` below."
   ]
  },
  {
   "cell_type": "code",
   "execution_count": 140,
   "metadata": {
    "collapsed": true
   },
   "outputs": [],
   "source": [
    "added_value_7s_above_10_1pad_no_issuers <- added_value_7s_above_10_1pad %>%\n",
    "                                anti_join(added_value_7s_above_10_1pad_w_issuers, by = c('cik', 'cusip'))\n",
    "\n",
    "\n",
    "added_value_7s_above_10_1pad_stocknames <- added_value_7s_above_10_1pad_no_issuers %>%\n",
    "                                inner_join(stocknames %>% mutate(cusip6 = substr(ncusip, 1, 6)), by = 'cusip6')"
   ]
  },
  {
   "cell_type": "code",
   "execution_count": 196,
   "metadata": {},
   "outputs": [
    {
     "name": "stderr",
     "output_type": "stream",
     "text": [
      "Warning message in cbind(parts$left, ellip_h, parts$right, deparse.level = 0L):\n",
      "\"number of rows of result is not a multiple of vector length (arg 2)\"Warning message in cbind(parts$left, ellip_h, parts$right, deparse.level = 0L):\n",
      "\"number of rows of result is not a multiple of vector length (arg 2)\"Warning message in cbind(parts$left, ellip_h, parts$right, deparse.level = 0L):\n",
      "\"number of rows of result is not a multiple of vector length (arg 2)\"Warning message in cbind(parts$left, ellip_h, parts$right, deparse.level = 0L):\n",
      "\"number of rows of result is not a multiple of vector length (arg 2)\""
     ]
    },
    {
     "data": {
      "text/html": [
       "<table>\n",
       "<thead><tr><th scope=col>cik</th><th scope=col>cusip_raw</th><th scope=col>company_name</th><th scope=col>cusip.x</th><th scope=col>cusip6</th><th scope=col>ncusip.x</th><th scope=col>permno</th><th scope=col>permco</th><th scope=col>namedt</th><th scope=col>nameenddt</th><th scope=col>...</th><th scope=col>ticker</th><th scope=col>comnam</th><th scope=col>hexcd</th><th scope=col>exchcd</th><th scope=col>siccd</th><th scope=col>shrcd</th><th scope=col>shrcls</th><th scope=col>st_date</th><th scope=col>end_date</th><th scope=col>namedum</th></tr></thead>\n",
       "<tbody>\n",
       "</tbody>\n",
       "</table>\n"
      ],
      "text/latex": [
       "\\begin{tabular}{r|llllllllllllllllllllll}\n",
       " cik & cusip\\_raw & company\\_name & cusip.x & cusip6 & ncusip.x & permno & permco & namedt & nameenddt & ... & ticker & comnam & hexcd & exchcd & siccd & shrcd & shrcls & st\\_date & end\\_date & namedum\\\\\n",
       "\\hline\n",
       "\\end{tabular}\n"
      ],
      "text/markdown": [
       "\n",
       "cik | cusip_raw | company_name | cusip.x | cusip6 | ncusip.x | permno | permco | namedt | nameenddt | ... | ticker | comnam | hexcd | exchcd | siccd | shrcd | shrcls | st_date | end_date | namedum | \n",
       "||\n",
       "\n",
       "\n"
      ],
      "text/plain": [
       "     cik cusip_raw company_name cusip.x cusip6 ncusip.x permno permco namedt\n",
       "     nameenddt ... ticker comnam hexcd exchcd siccd shrcd shrcls st_date\n",
       "     end_date namedum"
      ]
     },
     "metadata": {},
     "output_type": "display_data"
    }
   ],
   "source": [
    "added_value_7s_above_10_1pad_stocknames"
   ]
  },
  {
   "cell_type": "code",
   "execution_count": 198,
   "metadata": {},
   "outputs": [
    {
     "name": "stderr",
     "output_type": "stream",
     "text": [
      "Joining, by = c(\"cik\", \"cusip\")\n"
     ]
    },
    {
     "data": {
      "text/html": [
       "<table>\n",
       "<thead><tr><th scope=col>cik</th><th scope=col>cusip</th><th scope=col>company_name</th><th scope=col>issuer_name</th><th scope=col>cusip_raw</th></tr></thead>\n",
       "<tbody>\n",
       "</tbody>\n",
       "</table>\n"
      ],
      "text/latex": [
       "\\begin{tabular}{r|lllll}\n",
       " cik & cusip & company\\_name & issuer\\_name & cusip\\_raw\\\\\n",
       "\\hline\n",
       "\\end{tabular}\n"
      ],
      "text/markdown": [
       "\n",
       "cik | cusip | company_name | issuer_name | cusip_raw | \n",
       "||\n",
       "\n",
       "\n"
      ],
      "text/plain": [
       "     cik cusip company_name issuer_name cusip_raw"
      ]
     },
     "metadata": {},
     "output_type": "display_data"
    }
   ],
   "source": [
    "to_analyse <- added_value_7s_above_10_1pad_stocknames %>% rename(issuer_name = comnam, cusip = cusip.x) %>%\n",
    "            select(cik, cusip, company_name, issuer_name, cusip_raw) %>%\n",
    "            anti_join(cusip_cik_exceptions %>% distinct(cik, cusip))\n",
    "to_analyse"
   ]
  },
  {
   "cell_type": "code",
   "execution_count": null,
   "metadata": {
    "collapsed": true
   },
   "outputs": [],
   "source": [
    "cols <- colnames(cusip_cik_exceptions)[colnames(cusip_cik_exceptions) %in% colnames(to_analyse)]\n",
    "cols"
   ]
  },
  {
   "cell_type": "code",
   "execution_count": null,
   "metadata": {
    "collapsed": true
   },
   "outputs": [],
   "source": [
    "row_cik <- \n",
    "row_cusip <- \n",
    "\n",
    "df <- to_analyse[to_analyse$cik == row_cik & to_analyse$cusip == row_cusip, cols]"
   ]
  },
  {
   "cell_type": "code",
   "execution_count": null,
   "metadata": {
    "collapsed": true
   },
   "outputs": [],
   "source": [
    "# See which other cusips have matched row_cik and which ones are better matches\n",
    "valid9s_above_10_w_issuers %>% filter(cik == row_cik)"
   ]
  },
  {
   "cell_type": "code",
   "execution_count": null,
   "metadata": {
    "collapsed": true
   },
   "outputs": [],
   "source": [
    "# See which other ciks have matched row_cusip and which ones are better matches\n",
    "valid9s_above_10_w_issuers %>% filter(cusip == row_cusip)"
   ]
  },
  {
   "cell_type": "code",
   "execution_count": null,
   "metadata": {
    "collapsed": true
   },
   "outputs": [],
   "source": [
    "# Search for names in edgar.filings by cik\n",
    "name_search_sql <- paste0('SELECT DISTINCT cik, company_name FROM edgar.filings WHERE cik = ', row_cik)\n",
    "tbl(pg, sql(name_search_sql))"
   ]
  },
  {
   "cell_type": "code",
   "execution_count": null,
   "metadata": {
    "collapsed": true
   },
   "outputs": [],
   "source": [
    "# Search for ciks in edgar.filings by using first few words of a company name\n",
    "company_name_str <- \"\"\n",
    "cik_search_sql <- paste0(\"SELECT DISTINCT cik, company_name FROM edgar.filings WHERE UPPER(company_name) ~ '^\", \n",
    "                         company_name_str, \"'\")\n",
    "tbl(pg, sql(cik_search_sql))"
   ]
  },
  {
   "cell_type": "code",
   "execution_count": null,
   "metadata": {
    "collapsed": true
   },
   "outputs": [],
   "source": [
    "# Try looking for cusip6's in issuers by searching by first few words of company_name\n",
    "company_name_str <- ''\n",
    "issuers %>% filter(grepl(paste0('^', company_name_str), issuer_name))"
   ]
  },
  {
   "cell_type": "code",
   "execution_count": null,
   "metadata": {
    "collapsed": true
   },
   "outputs": [],
   "source": [
    "# Try looking for cusip8's in stocknames by searching by first few words of company_name\n",
    "company_name_str <- ''\n",
    "stocknames %>% filter(grepl(paste0('^', company_name_str), comnam))"
   ]
  },
  {
   "cell_type": "code",
   "execution_count": null,
   "metadata": {
    "collapsed": true
   },
   "outputs": [],
   "source": [
    "df$valid_match <- \n",
    "df$better_cik <- \n",
    "df$better_cik_company_name <- \n",
    "df$better_cusip <- \n",
    "df$better_cusip_issuer_name <-\n",
    "df$better_cusip_issuer_adl <- \n",
    "df$better_cusip6 <- \n",
    "df$better_cusip6_issuer_name <-\n",
    "df$better_cusip6_issuer_adl <-\n",
    "df$better_cusip8 <- \n",
    "df$better_cusip8_comnam <- \n",
    "df$other_reason <- "
   ]
  },
  {
   "cell_type": "code",
   "execution_count": null,
   "metadata": {
    "collapsed": true
   },
   "outputs": [],
   "source": [
    "rs <- dbWriteTable(pg, c('edgar', 'cusip_cik_exceptions'), df, row.names = FALSE, append = TRUE,\n",
    "                   encoding = \"latin1\")"
   ]
  },
  {
   "cell_type": "markdown",
   "metadata": {},
   "source": [
    "## 11. Two-padded 7-digit cusips\n",
    "\n",
    "Here, we analyse the case of two-padded 7-digit cusips, which are cusips padded with two zeros on the left (ie. if the `cusip_raw` is '2579230', we take the `cusip` to be '002579230')."
   ]
  },
  {
   "cell_type": "code",
   "execution_count": 146,
   "metadata": {},
   "outputs": [
    {
     "name": "stderr",
     "output_type": "stream",
     "text": [
      "Joining, by = \"cusip6\"\n"
     ]
    }
   ],
   "source": [
    "valid7s_above_10_2pad <- valid7s_above_10 %>%  mutate(cusip = paste0('00', cusip_raw)) %>%\n",
    "    mutate(cusip6 = substr(cusip,  1, 6), ncusip = substr(cusip, 1, 8))\n",
    "\n",
    "added_value_7s_above_10_2pad <- valid7s_above_10_2pad %>% anti_join(valid9s_above_10, by = c('cik', 'cusip6')) %>%\n",
    "    anti_join(valid8s_above_10, by = c('cik', 'cusip6')) %>%\n",
    "    anti_join(valid8s_above_10_padded, by = c('cik', 'cusip6')) %>%\n",
    "    anti_join(valid7s_above_10, by = c('cik', 'cusip6')) %>%\n",
    "    anti_join(valid7s_above_10_1pad, by = c('cik', 'cusip6'))\n",
    "\n",
    "\n",
    "added_value_7s_above_10_2pad_w_issuers <- added_value_7s_above_10_2pad %>% inner_join(issuers)\n"
   ]
  },
  {
   "cell_type": "code",
   "execution_count": 145,
   "metadata": {},
   "outputs": [
    {
     "data": {
      "text/html": [
       "<table>\n",
       "<thead><tr><th scope=col>cik</th><th scope=col>cusip</th><th scope=col>company_name</th><th scope=col>issuer_name</th><th scope=col>issuer_adl</th><th scope=col>company_name_norm</th><th scope=col>issuer_name_norm</th><th scope=col>sim_index_norm</th><th scope=col>sim_index_max</th><th scope=col>valid_match</th><th scope=col>...</th><th scope=col>better_cusip_issuer_name</th><th scope=col>better_cusip_issuer_adl</th><th scope=col>sim_ix_better_cusip</th><th scope=col>better_cusip6</th><th scope=col>better_cusip6_issuer_name</th><th scope=col>better_cusip6_issuer_adl</th><th scope=col>better_cusip8</th><th scope=col>better_cusip8_comnam</th><th scope=col>other_reason</th><th scope=col>cusip_raw</th></tr></thead>\n",
       "<tbody>\n",
       "\t<tr><td>1094005           </td><td>002579230         </td><td>SINA CORP         </td><td>ABACUS 2006-17 LTD</td><td>NA                </td><td>NA                </td><td>NA                </td><td>NA                </td><td>NA                </td><td>FALSE             </td><td>...               </td><td>NA                </td><td>NA                </td><td>NA                </td><td>NA                </td><td>NA                </td><td>NA                </td><td>NA                </td><td>NA                </td><td>NA                </td><td>2579230           </td></tr>\n",
       "</tbody>\n",
       "</table>\n"
      ],
      "text/latex": [
       "\\begin{tabular}{r|llllllllllllllllllllllll}\n",
       " cik & cusip & company\\_name & issuer\\_name & issuer\\_adl & company\\_name\\_norm & issuer\\_name\\_norm & sim\\_index\\_norm & sim\\_index\\_max & valid\\_match & ... & better\\_cusip\\_issuer\\_name & better\\_cusip\\_issuer\\_adl & sim\\_ix\\_better\\_cusip & better\\_cusip6 & better\\_cusip6\\_issuer\\_name & better\\_cusip6\\_issuer\\_adl & better\\_cusip8 & better\\_cusip8\\_comnam & other\\_reason & cusip\\_raw\\\\\n",
       "\\hline\n",
       "\t 1094005            & 002579230          & SINA CORP          & ABACUS 2006-17 LTD & NA                 & NA                 & NA                 & NA                 & NA                 & FALSE              & ...                & NA                 & NA                 & NA                 & NA                 & NA                 & NA                 & NA                 & NA                 & NA                 & 2579230           \\\\\n",
       "\\end{tabular}\n"
      ],
      "text/markdown": [
       "\n",
       "cik | cusip | company_name | issuer_name | issuer_adl | company_name_norm | issuer_name_norm | sim_index_norm | sim_index_max | valid_match | ... | better_cusip_issuer_name | better_cusip_issuer_adl | sim_ix_better_cusip | better_cusip6 | better_cusip6_issuer_name | better_cusip6_issuer_adl | better_cusip8 | better_cusip8_comnam | other_reason | cusip_raw | \n",
       "|---|\n",
       "| 1094005            | 002579230          | SINA CORP          | ABACUS 2006-17 LTD | NA                 | NA                 | NA                 | NA                 | NA                 | FALSE              | ...                | NA                 | NA                 | NA                 | NA                 | NA                 | NA                 | NA                 | NA                 | NA                 | 2579230            | \n",
       "\n",
       "\n"
      ],
      "text/plain": [
       "  cik     cusip     company_name issuer_name        issuer_adl\n",
       "1 1094005 002579230 SINA CORP    ABACUS 2006-17 LTD NA        \n",
       "  company_name_norm issuer_name_norm sim_index_norm sim_index_max valid_match\n",
       "1 NA                NA               NA             NA            FALSE      \n",
       "  ... better_cusip_issuer_name better_cusip_issuer_adl sim_ix_better_cusip\n",
       "1 ... NA                       NA                      NA                 \n",
       "  better_cusip6 better_cusip6_issuer_name better_cusip6_issuer_adl\n",
       "1 NA            NA                        NA                      \n",
       "  better_cusip8 better_cusip8_comnam other_reason cusip_raw\n",
       "1 NA            NA                   NA           2579230  "
      ]
     },
     "metadata": {},
     "output_type": "display_data"
    }
   ],
   "source": [
    "cusip_cik_exceptions %>% filter(cik == 1094005)"
   ]
  },
  {
   "cell_type": "code",
   "execution_count": 147,
   "metadata": {},
   "outputs": [
    {
     "data": {
      "text/html": [
       "<table>\n",
       "<thead><tr><th scope=col>cik</th><th scope=col>cusip</th><th scope=col>company_name</th><th scope=col>issuer_name</th><th scope=col>issuer_adl</th></tr></thead>\n",
       "<tbody>\n",
       "\t<tr><td>1094005                                                </td><td>002579230                                              </td><td>SINA CORP                                              </td><td>ABACUS 2006-17 LTD                                     </td><td>NA                                                     </td></tr>\n",
       "\t<tr><td> 876573                                                </td><td>0071361E1                                              </td><td>PERCON INC                                             </td><td>ADMIRAL CBO CAYMAN LTD / ADMIRAL CBO DEL INC           </td><td>NA                                                     </td></tr>\n",
       "\t<tr><td> 353278                                                </td><td>007077524                                              </td><td>NOVO NORDISK A S                                       </td><td>ADLER ELECTRONICS INC                                  </td><td>NA                                                     </td></tr>\n",
       "\t<tr><td>1022259                                                                                            </td><td>0074157E1                                                                                          </td><td><span style=white-space:pre-wrap>PRIME SERVICE INC             </span>                             </td><td><span style=white-space:pre-wrap>ADVANCE COSMETIC &amp; ANTI-AGING CTR INC                  </span></td><td>NA                                                                                                 </td></tr>\n",
       "\t<tr><td>1263043                                                </td><td>006397502                                              </td><td>SHINHAN FINANCIAL GROUP CO LTD                         </td><td>ADAMS STR CBO LTD                                      </td><td>NA                                                     </td></tr>\n",
       "\t<tr><td> 844843                                                </td><td>003736541                                              </td><td>GEOTEK COMMUNICATIONS INC                              </td><td>ABOUT COM INC                                          </td><td>NA                                                     </td></tr>\n",
       "\t<tr><td> 823546                                                </td><td>00088861L                                              </td><td>B4MC GOLD MINES INC                                    </td><td>ADC TELECOMMUNICATIONS LONG TERM EQUITY OPTIONS-YTL-KTL</td><td>NA                                                     </td></tr>\n",
       "\t<tr><td>1207179                                                </td><td>002367963                                              </td><td>GOLAR LNG LTD                                          </td><td>AVI HLDGS INC                                          </td><td>NA                                                     </td></tr>\n",
       "\t<tr><td> 800458                                                </td><td>007601742                                              </td><td>RENTRAK CORP                                           </td><td>AEGEAN MARINE CORP                                     </td><td>NA                                                     </td></tr>\n",
       "\t<tr><td>  77597                                                </td><td>008472201                                              </td><td>SPARTECH CORP                                          </td><td>AGILE FDS INC                                          </td><td>NA                                                     </td></tr>\n",
       "</tbody>\n",
       "</table>\n"
      ],
      "text/latex": [
       "\\begin{tabular}{r|lllll}\n",
       " cik & cusip & company\\_name & issuer\\_name & issuer\\_adl\\\\\n",
       "\\hline\n",
       "\t 1094005                                                 & 002579230                                               & SINA CORP                                               & ABACUS 2006-17 LTD                                      & NA                                                     \\\\\n",
       "\t  876573                                                 & 0071361E1                                               & PERCON INC                                              & ADMIRAL CBO CAYMAN LTD / ADMIRAL CBO DEL INC            & NA                                                     \\\\\n",
       "\t  353278                                                 & 007077524                                               & NOVO NORDISK A S                                        & ADLER ELECTRONICS INC                                   & NA                                                     \\\\\n",
       "\t 1022259                                                   & 0074157E1                                                 & PRIME SERVICE INC                                         & ADVANCE COSMETIC \\& ANTI-AGING CTR INC                   & NA                                                       \\\\\n",
       "\t 1263043                                                 & 006397502                                               & SHINHAN FINANCIAL GROUP CO LTD                          & ADAMS STR CBO LTD                                       & NA                                                     \\\\\n",
       "\t  844843                                                 & 003736541                                               & GEOTEK COMMUNICATIONS INC                               & ABOUT COM INC                                           & NA                                                     \\\\\n",
       "\t  823546                                                 & 00088861L                                               & B4MC GOLD MINES INC                                     & ADC TELECOMMUNICATIONS LONG TERM EQUITY OPTIONS-YTL-KTL & NA                                                     \\\\\n",
       "\t 1207179                                                 & 002367963                                               & GOLAR LNG LTD                                           & AVI HLDGS INC                                           & NA                                                     \\\\\n",
       "\t  800458                                                 & 007601742                                               & RENTRAK CORP                                            & AEGEAN MARINE CORP                                      & NA                                                     \\\\\n",
       "\t   77597                                                 & 008472201                                               & SPARTECH CORP                                           & AGILE FDS INC                                           & NA                                                     \\\\\n",
       "\\end{tabular}\n"
      ],
      "text/markdown": [
       "\n",
       "cik | cusip | company_name | issuer_name | issuer_adl | \n",
       "|---|---|---|---|---|---|---|---|---|---|\n",
       "| 1094005                                                 | 002579230                                               | SINA CORP                                               | ABACUS 2006-17 LTD                                      | NA                                                      | \n",
       "|  876573                                                 | 0071361E1                                               | PERCON INC                                              | ADMIRAL CBO CAYMAN LTD / ADMIRAL CBO DEL INC            | NA                                                      | \n",
       "|  353278                                                 | 007077524                                               | NOVO NORDISK A S                                        | ADLER ELECTRONICS INC                                   | NA                                                      | \n",
       "| 1022259                                                 | 0074157E1                                               | PRIME SERVICE INC                                       | ADVANCE COSMETIC & ANTI-AGING CTR INC                   | NA                                                      | \n",
       "| 1263043                                                 | 006397502                                               | SHINHAN FINANCIAL GROUP CO LTD                          | ADAMS STR CBO LTD                                       | NA                                                      | \n",
       "|  844843                                                 | 003736541                                               | GEOTEK COMMUNICATIONS INC                               | ABOUT COM INC                                           | NA                                                      | \n",
       "|  823546                                                 | 00088861L                                               | B4MC GOLD MINES INC                                     | ADC TELECOMMUNICATIONS LONG TERM EQUITY OPTIONS-YTL-KTL | NA                                                      | \n",
       "| 1207179                                                 | 002367963                                               | GOLAR LNG LTD                                           | AVI HLDGS INC                                           | NA                                                      | \n",
       "|  800458                                                 | 007601742                                               | RENTRAK CORP                                            | AEGEAN MARINE CORP                                      | NA                                                      | \n",
       "|   77597                                                 | 008472201                                               | SPARTECH CORP                                           | AGILE FDS INC                                           | NA                                                      | \n",
       "\n",
       "\n"
      ],
      "text/plain": [
       "   cik     cusip     company_name                  \n",
       "1  1094005 002579230 SINA CORP                     \n",
       "2   876573 0071361E1 PERCON INC                    \n",
       "3   353278 007077524 NOVO NORDISK A S              \n",
       "4  1022259 0074157E1 PRIME SERVICE INC             \n",
       "5  1263043 006397502 SHINHAN FINANCIAL GROUP CO LTD\n",
       "6   844843 003736541 GEOTEK COMMUNICATIONS INC     \n",
       "7   823546 00088861L B4MC GOLD MINES INC           \n",
       "8  1207179 002367963 GOLAR LNG LTD                 \n",
       "9   800458 007601742 RENTRAK CORP                  \n",
       "10   77597 008472201 SPARTECH CORP                 \n",
       "   issuer_name                                             issuer_adl\n",
       "1  ABACUS 2006-17 LTD                                      NA        \n",
       "2  ADMIRAL CBO CAYMAN LTD / ADMIRAL CBO DEL INC            NA        \n",
       "3  ADLER ELECTRONICS INC                                   NA        \n",
       "4  ADVANCE COSMETIC & ANTI-AGING CTR INC                   NA        \n",
       "5  ADAMS STR CBO LTD                                       NA        \n",
       "6  ABOUT COM INC                                           NA        \n",
       "7  ADC TELECOMMUNICATIONS LONG TERM EQUITY OPTIONS-YTL-KTL NA        \n",
       "8  AVI HLDGS INC                                           NA        \n",
       "9  AEGEAN MARINE CORP                                      NA        \n",
       "10 AGILE FDS INC                                           NA        "
      ]
     },
     "metadata": {},
     "output_type": "display_data"
    }
   ],
   "source": [
    "added_value_7s_above_10_2pad_w_issuers %>% select(cik, cusip, company_name, issuer_name, issuer_adl) %>% head(10)"
   ]
  },
  {
   "cell_type": "code",
   "execution_count": 199,
   "metadata": {},
   "outputs": [
    {
     "name": "stderr",
     "output_type": "stream",
     "text": [
      "Joining, by = c(\"cik\", \"cusip\")\n"
     ]
    },
    {
     "data": {
      "text/html": [
       "<table>\n",
       "<thead><tr><th scope=col>cik</th><th scope=col>cusip</th><th scope=col>company_name</th><th scope=col>issuer_name</th><th scope=col>issuer_adl</th><th scope=col>cusip_raw</th></tr></thead>\n",
       "<tbody>\n",
       "</tbody>\n",
       "</table>\n"
      ],
      "text/latex": [
       "\\begin{tabular}{r|llllll}\n",
       " cik & cusip & company\\_name & issuer\\_name & issuer\\_adl & cusip\\_raw\\\\\n",
       "\\hline\n",
       "\\end{tabular}\n"
      ],
      "text/markdown": [
       "\n",
       "cik | cusip | company_name | issuer_name | issuer_adl | cusip_raw | \n",
       "||\n",
       "\n",
       "\n"
      ],
      "text/plain": [
       "     cik cusip company_name issuer_name issuer_adl cusip_raw"
      ]
     },
     "metadata": {},
     "output_type": "display_data"
    }
   ],
   "source": [
    "to_analyse <- added_value_7s_above_10_2pad_w_issuers %>% \n",
    "                select(cik, cusip, company_name, issuer_name, issuer_adl, cusip_raw) %>%\n",
    "                    anti_join(cusip_cik_exceptions %>% distinct(cik, cusip))\n",
    "to_analyse"
   ]
  },
  {
   "cell_type": "code",
   "execution_count": null,
   "metadata": {
    "collapsed": true
   },
   "outputs": [],
   "source": [
    "cols <- colnames(cusip_cik_exceptions)[colnames(cusip_cik_exceptions) %in% colnames(to_analyse)]\n",
    "cols"
   ]
  },
  {
   "cell_type": "code",
   "execution_count": null,
   "metadata": {
    "collapsed": true
   },
   "outputs": [],
   "source": [
    "row_cik <- \n",
    "row_cusip <- \n",
    "\n",
    "df <- to_analyse[to_analyse$cik == row_cik & to_analyse$cusip == row_cusip, cols]"
   ]
  },
  {
   "cell_type": "code",
   "execution_count": null,
   "metadata": {
    "collapsed": true
   },
   "outputs": [],
   "source": [
    "# See which other cusips have matched row_cik and which ones are better matches\n",
    "valid9s_above_10_w_issuers %>% filter(cik == row_cik)"
   ]
  },
  {
   "cell_type": "code",
   "execution_count": null,
   "metadata": {
    "collapsed": true
   },
   "outputs": [],
   "source": [
    "# See which other ciks have matched row_cusip and which ones are better matches\n",
    "valid9s_above_10_w_issuers %>% filter(cusip == row_cusip)"
   ]
  },
  {
   "cell_type": "code",
   "execution_count": null,
   "metadata": {
    "collapsed": true
   },
   "outputs": [],
   "source": [
    "# Search for names in edgar.filings by cik\n",
    "name_search_sql <- paste0('SELECT DISTINCT cik, company_name FROM edgar.filings WHERE cik = ', row_cik)\n",
    "tbl(pg, sql(name_search_sql))"
   ]
  },
  {
   "cell_type": "code",
   "execution_count": null,
   "metadata": {
    "collapsed": true
   },
   "outputs": [],
   "source": [
    "# Search for ciks in edgar.filings by using first few words of a company name\n",
    "company_name_str <- \"\"\n",
    "cik_search_sql <- paste0(\"SELECT DISTINCT cik, company_name FROM edgar.filings WHERE UPPER(company_name) ~ '^\", \n",
    "                         company_name_str, \"'\")\n",
    "tbl(pg, sql(cik_search_sql))"
   ]
  },
  {
   "cell_type": "code",
   "execution_count": null,
   "metadata": {
    "collapsed": true
   },
   "outputs": [],
   "source": [
    "# Try looking for cusip6's in issuers by searching by first few words of company_name\n",
    "company_name_str <- ''\n",
    "issuers %>% filter(grepl(paste0('^', company_name_str), issuer_name))"
   ]
  },
  {
   "cell_type": "code",
   "execution_count": null,
   "metadata": {
    "collapsed": true
   },
   "outputs": [],
   "source": [
    "# Try looking for cusip8's in stocknames by searching by first few words of company_name\n",
    "company_name_str <- ''\n",
    "stocknames %>% filter(grepl(paste0('^', company_name_str), comnam))"
   ]
  },
  {
   "cell_type": "code",
   "execution_count": null,
   "metadata": {
    "collapsed": true
   },
   "outputs": [],
   "source": [
    "df$valid_match <- \n",
    "df$better_cik <- \n",
    "df$better_cik_company_name <- \n",
    "df$better_cusip <- \n",
    "df$better_cusip_issuer_name <-\n",
    "df$better_cusip_issuer_adl <- \n",
    "df$better_cusip6 <- \n",
    "df$better_cusip6_issuer_name <-\n",
    "df$better_cusip6_issuer_adl <-\n",
    "df$better_cusip8 <- \n",
    "df$better_cusip8_comnam <- \n",
    "df$other_reason <- "
   ]
  },
  {
   "cell_type": "code",
   "execution_count": null,
   "metadata": {
    "collapsed": true
   },
   "outputs": [],
   "source": [
    "rs <- dbWriteTable(pg, c('edgar', 'cusip_cik_exceptions'), df, row.names = FALSE, append = TRUE,\n",
    "                   encoding = \"latin1\")"
   ]
  },
  {
   "cell_type": "markdown",
   "metadata": {},
   "source": [
    "## 12. Two-padded 7-digit cusips which map solely to `stocknames`\n",
    "\n",
    "Here, we again do the cases which just map to stocknames."
   ]
  },
  {
   "cell_type": "code",
   "execution_count": 149,
   "metadata": {},
   "outputs": [
    {
     "name": "stderr",
     "output_type": "stream",
     "text": [
      "Joining, by = c(\"cik\", \"cusip_raw\", \"company_name\", \"cusip\", \"cusip6\", \"ncusip\")\n"
     ]
    }
   ],
   "source": [
    "added_value_7s_above_10_2pad_no_issuers <- added_value_7s_above_10_2pad %>%\n",
    "                                    anti_join(added_value_7s_above_10_2pad_w_issuers)\n",
    "\n",
    "added_value_7s_above_10_2pad_stocknames <- added_value_7s_above_10_2pad_no_issuers %>%\n",
    "                                        inner_join(stocknames %>% mutate(cusip6 = substr(ncusip, 1, 6)), by = 'cusip6')"
   ]
  },
  {
   "cell_type": "code",
   "execution_count": 150,
   "metadata": {},
   "outputs": [
    {
     "name": "stderr",
     "output_type": "stream",
     "text": [
      "Warning message in cbind(parts$left, ellip_h, parts$right, deparse.level = 0L):\n",
      "\"number of rows of result is not a multiple of vector length (arg 2)\"Warning message in cbind(parts$left, ellip_h, parts$right, deparse.level = 0L):\n",
      "\"number of rows of result is not a multiple of vector length (arg 2)\"Warning message in cbind(parts$left, ellip_h, parts$right, deparse.level = 0L):\n",
      "\"number of rows of result is not a multiple of vector length (arg 2)\"Warning message in cbind(parts$left, ellip_h, parts$right, deparse.level = 0L):\n",
      "\"number of rows of result is not a multiple of vector length (arg 2)\""
     ]
    },
    {
     "data": {
      "text/html": [
       "<table>\n",
       "<thead><tr><th scope=col>cik</th><th scope=col>cusip_raw</th><th scope=col>company_name</th><th scope=col>cusip.x</th><th scope=col>cusip6</th><th scope=col>ncusip.x</th><th scope=col>permno</th><th scope=col>permco</th><th scope=col>namedt</th><th scope=col>nameenddt</th><th scope=col>...</th><th scope=col>ticker</th><th scope=col>comnam</th><th scope=col>hexcd</th><th scope=col>exchcd</th><th scope=col>siccd</th><th scope=col>shrcd</th><th scope=col>shrcls</th><th scope=col>st_date</th><th scope=col>end_date</th><th scope=col>namedum</th></tr></thead>\n",
       "<tbody>\n",
       "</tbody>\n",
       "</table>\n"
      ],
      "text/latex": [
       "\\begin{tabular}{r|llllllllllllllllllllll}\n",
       " cik & cusip\\_raw & company\\_name & cusip.x & cusip6 & ncusip.x & permno & permco & namedt & nameenddt & ... & ticker & comnam & hexcd & exchcd & siccd & shrcd & shrcls & st\\_date & end\\_date & namedum\\\\\n",
       "\\hline\n",
       "\\end{tabular}\n"
      ],
      "text/markdown": [
       "\n",
       "cik | cusip_raw | company_name | cusip.x | cusip6 | ncusip.x | permno | permco | namedt | nameenddt | ... | ticker | comnam | hexcd | exchcd | siccd | shrcd | shrcls | st_date | end_date | namedum | \n",
       "||\n",
       "\n",
       "\n"
      ],
      "text/plain": [
       "     cik cusip_raw company_name cusip.x cusip6 ncusip.x permno permco namedt\n",
       "     nameenddt ... ticker comnam hexcd exchcd siccd shrcd shrcls st_date\n",
       "     end_date namedum"
      ]
     },
     "metadata": {},
     "output_type": "display_data"
    }
   ],
   "source": [
    "added_value_7s_above_10_2pad_stocknames"
   ]
  },
  {
   "cell_type": "code",
   "execution_count": 200,
   "metadata": {},
   "outputs": [
    {
     "name": "stderr",
     "output_type": "stream",
     "text": [
      "Joining, by = c(\"cik\", \"cusip\")\n"
     ]
    },
    {
     "data": {
      "text/html": [
       "<table>\n",
       "<thead><tr><th scope=col>cik</th><th scope=col>cusip</th><th scope=col>company_name</th><th scope=col>issuer_name</th><th scope=col>cusip_raw</th></tr></thead>\n",
       "<tbody>\n",
       "</tbody>\n",
       "</table>\n"
      ],
      "text/latex": [
       "\\begin{tabular}{r|lllll}\n",
       " cik & cusip & company\\_name & issuer\\_name & cusip\\_raw\\\\\n",
       "\\hline\n",
       "\\end{tabular}\n"
      ],
      "text/markdown": [
       "\n",
       "cik | cusip | company_name | issuer_name | cusip_raw | \n",
       "||\n",
       "\n",
       "\n"
      ],
      "text/plain": [
       "     cik cusip company_name issuer_name cusip_raw"
      ]
     },
     "metadata": {},
     "output_type": "display_data"
    }
   ],
   "source": [
    "to_analyse <- added_value_7s_above_10_2pad_stocknames %>% rename(issuer_name = comnam, cusip = cusip.x) %>%\n",
    "            select(cik, cusip, company_name, issuer_name, cusip_raw) %>%\n",
    "            anti_join(cusip_cik_exceptions %>% distinct(cik, cusip))\n",
    "to_analyse"
   ]
  },
  {
   "cell_type": "code",
   "execution_count": null,
   "metadata": {
    "collapsed": true
   },
   "outputs": [],
   "source": [
    "cols <- colnames(cusip_cik_exceptions)[colnames(cusip_cik_exceptions) %in% colnames(to_analyse)]\n",
    "cols"
   ]
  },
  {
   "cell_type": "code",
   "execution_count": null,
   "metadata": {
    "collapsed": true
   },
   "outputs": [],
   "source": [
    "row_cik <- \n",
    "row_cusip <- \n",
    "\n",
    "df <- to_analyse[to_analyse$cik == row_cik & to_analyse$cusip == row_cusip, cols]"
   ]
  },
  {
   "cell_type": "code",
   "execution_count": null,
   "metadata": {
    "collapsed": true
   },
   "outputs": [],
   "source": [
    "# See which other cusips have matched row_cik and which ones are better matches\n",
    "valid9s_above_10_w_issuers %>% filter(cik == row_cik)"
   ]
  },
  {
   "cell_type": "code",
   "execution_count": null,
   "metadata": {
    "collapsed": true
   },
   "outputs": [],
   "source": [
    "# See which other ciks have matched row_cusip and which ones are better matches\n",
    "valid9s_above_10_w_issuers %>% filter(cusip == row_cusip)"
   ]
  },
  {
   "cell_type": "code",
   "execution_count": null,
   "metadata": {
    "collapsed": true
   },
   "outputs": [],
   "source": [
    "# Search for names in edgar.filings by cik\n",
    "name_search_sql <- paste0('SELECT DISTINCT cik, company_name FROM edgar.filings WHERE cik = ', row_cik)\n",
    "tbl(pg, sql(name_search_sql))"
   ]
  },
  {
   "cell_type": "code",
   "execution_count": null,
   "metadata": {
    "collapsed": true
   },
   "outputs": [],
   "source": [
    "# Search for ciks in edgar.filings by using first few words of a company name\n",
    "company_name_str <- \"\"\n",
    "cik_search_sql <- paste0(\"SELECT DISTINCT cik, company_name FROM edgar.filings WHERE UPPER(company_name) ~ '^\", \n",
    "                         company_name_str, \"'\")\n",
    "tbl(pg, sql(cik_search_sql))"
   ]
  },
  {
   "cell_type": "code",
   "execution_count": null,
   "metadata": {
    "collapsed": true
   },
   "outputs": [],
   "source": [
    "# Try looking for cusip6's in issuers by searching by first few words of company_name\n",
    "company_name_str <- ''\n",
    "issuers %>% filter(grepl(paste0('^', company_name_str), issuer_name))"
   ]
  },
  {
   "cell_type": "code",
   "execution_count": null,
   "metadata": {
    "collapsed": true
   },
   "outputs": [],
   "source": [
    "# Try looking for cusip8's in stocknames by searching by first few words of company_name\n",
    "company_name_str <- ''\n",
    "stocknames %>% filter(grepl(paste0('^', company_name_str), comnam))"
   ]
  },
  {
   "cell_type": "code",
   "execution_count": null,
   "metadata": {
    "collapsed": true
   },
   "outputs": [],
   "source": [
    "df$valid_match <- \n",
    "df$better_cik <- \n",
    "df$better_cik_company_name <- \n",
    "df$better_cusip <- \n",
    "df$better_cusip_issuer_name <-\n",
    "df$better_cusip_issuer_adl <- \n",
    "df$better_cusip6 <- \n",
    "df$better_cusip6_issuer_name <-\n",
    "df$better_cusip6_issuer_adl <-\n",
    "df$better_cusip8 <- \n",
    "df$better_cusip8_comnam <- \n",
    "df$other_reason <- "
   ]
  },
  {
   "cell_type": "code",
   "execution_count": null,
   "metadata": {
    "collapsed": true
   },
   "outputs": [],
   "source": [
    "rs <- dbWriteTable(pg, c('edgar', 'cusip_cik_exceptions'), df, row.names = FALSE, append = TRUE,\n",
    "                   encoding = \"latin1\")"
   ]
  },
  {
   "cell_type": "markdown",
   "metadata": {},
   "source": [
    "## 13. 6-digit cusips\n",
    "\n",
    "Here, we analyse the cases with valid 6-digit cusips with a frequency of at least 10. We start by defining `valid6s_above_10`, `added_value_6s_above_10`, and `added_value_6s_above_10_w_issuers` below. "
   ]
  },
  {
   "cell_type": "code",
   "execution_count": 155,
   "metadata": {},
   "outputs": [
    {
     "name": "stderr",
     "output_type": "stream",
     "text": [
      "Joining, by = c(\"cik\", \"cusip\")\n",
      "Joining, by = \"cusip6\"\n"
     ]
    }
   ],
   "source": [
    "valid6s_above_10 <- cusip_cik %>% group_by(cik, cusip) %>% summarise(freq = n()) %>% ungroup() %>%\n",
    "    inner_join(cusip_cik) %>% filter(nchar(cusip) == 6 & freq >= 10) %>% collect() %>%\n",
    "    distinct(cik, cusip, company_name) \n",
    "\n",
    "valid6s_above_10 <- valid6s_above_10 %>% mutate(cusip6 = cusip)\n",
    "\n",
    "\n",
    "added_value_6s_above_10 <- valid6s_above_10 %>% anti_join(valid9s_above_10, by = c('cik', 'cusip6')) %>%\n",
    "    anti_join(valid8s_above_10, by = c('cik', 'cusip6')) %>%\n",
    "    anti_join(valid8s_above_10_padded, by = c('cik', 'cusip6')) %>%\n",
    "    anti_join(valid7s_above_10, by = c('cik', 'cusip6')) %>%\n",
    "    anti_join(valid7s_above_10_1pad, by = c('cik', 'cusip6')) %>%\n",
    "    anti_join(valid7s_above_10_2pad, by = c('cik', 'cusip6')) %>% mutate(cusip_raw = cusip)\n",
    "\n",
    "\n",
    "added_value_6s_above_10_w_issuers <- added_value_6s_above_10 %>% inner_join(issuers) \n"
   ]
  },
  {
   "cell_type": "code",
   "execution_count": 202,
   "metadata": {},
   "outputs": [
    {
     "data": {
      "text/html": [
       "<table>\n",
       "<thead><tr><th scope=col>cik</th><th scope=col>cusip</th><th scope=col>company_name</th><th scope=col>issuer_name</th><th scope=col>issuer_adl</th><th scope=col>cusip_raw</th></tr></thead>\n",
       "<tbody>\n",
       "\t<tr><td> 720875                                                          </td><td>268157                                                           </td><td>DYNATRONICS CORP                                                 </td><td>DYNATRONICS CORP                                                 </td><td>NA                                                               </td><td>268157                                                           </td></tr>\n",
       "\t<tr><td>1445625                                                          </td><td>65338J                                                           </td><td>NEXAIRA WIRELESS INC.                                            </td><td>NEXAIRA WIRELESS INC                                             </td><td>NA                                                               </td><td>65338J                                                           </td></tr>\n",
       "\t<tr><td> 811808                                                          </td><td>86606G                                                           </td><td>SUMMIT FINANCIAL GROUP INC                                       </td><td>SUMMIT FINL GROUP INC                                            </td><td>NA                                                               </td><td>86606G                                                           </td></tr>\n",
       "\t<tr><td>1024048                                                          </td><td>436938                                                           </td><td>HOMELIFE INC                                                     </td><td>HOMELIFE INC                                                     </td><td>NAME CHANGED TO MONEYLOGIX GROUP INC 01/29/2008 SEE 60935X       </td><td>436938                                                           </td></tr>\n",
       "\t<tr><td>1355242                                                          </td><td>050751                                                           </td><td>Audio Stocks, Inc.                                               </td><td>AUDIOSTOCKS INC                                                  </td><td>NAME CHANGED TO SHRINK NANOTECHNOLOGIES INC 05/14/2009 SEE 82554U</td><td>050751                                                           </td></tr>\n",
       "\t<tr><td> 101265                                                          </td><td>901637                                                           </td><td>UNITED ILLUMINATING CO                                           </td><td>TWIN GOLD MINES LTD                                              </td><td>NA                                                               </td><td>901637                                                           </td></tr>\n",
       "\t<tr><td> 914791                                                          </td><td>025164                                                           </td><td>LUCOR INC /FL/                                                   </td><td>AMERICAN COLD LITE TECHNOLOGIES INC                              </td><td>NA                                                               </td><td>025164                                                           </td></tr>\n",
       "\t<tr><td>1109141                                                          </td><td>687082                                                           </td><td>OROMIN EXPLORATIONS LTD                                          </td><td>OROMIN EXPLORATIONS LTD NEW                                      </td><td>NA                                                               </td><td>687082                                                           </td></tr>\n",
       "\t<tr><td> 736952                                                          </td><td>144105                                                           </td><td>TUXIS CORP                                                       </td><td>CAROLINA PAC PLYWOOD INC                                         </td><td>ACQUIRED BY SOUTHWEST FOREST INDS INC 10/06/1972                 </td><td>144105                                                           </td></tr>\n",
       "\t<tr><td>1099066                                                          </td><td>046352                                                           </td><td>ASTRALIS LTD                                                     </td><td>ASTRALIS LTD                                                     </td><td>FORMERLY ASTRALIS PHARMACEUTICALS LTD 12/10/2001                 </td><td>046352                                                           </td></tr>\n",
       "</tbody>\n",
       "</table>\n"
      ],
      "text/latex": [
       "\\begin{tabular}{r|llllll}\n",
       " cik & cusip & company\\_name & issuer\\_name & issuer\\_adl & cusip\\_raw\\\\\n",
       "\\hline\n",
       "\t  720875                                                           & 268157                                                            & DYNATRONICS CORP                                                  & DYNATRONICS CORP                                                  & NA                                                                & 268157                                                           \\\\\n",
       "\t 1445625                                                           & 65338J                                                            & NEXAIRA WIRELESS INC.                                             & NEXAIRA WIRELESS INC                                              & NA                                                                & 65338J                                                           \\\\\n",
       "\t  811808                                                           & 86606G                                                            & SUMMIT FINANCIAL GROUP INC                                        & SUMMIT FINL GROUP INC                                             & NA                                                                & 86606G                                                           \\\\\n",
       "\t 1024048                                                           & 436938                                                            & HOMELIFE INC                                                      & HOMELIFE INC                                                      & NAME CHANGED TO MONEYLOGIX GROUP INC 01/29/2008 SEE 60935X        & 436938                                                           \\\\\n",
       "\t 1355242                                                           & 050751                                                            & Audio Stocks, Inc.                                                & AUDIOSTOCKS INC                                                   & NAME CHANGED TO SHRINK NANOTECHNOLOGIES INC 05/14/2009 SEE 82554U & 050751                                                           \\\\\n",
       "\t  101265                                                           & 901637                                                            & UNITED ILLUMINATING CO                                            & TWIN GOLD MINES LTD                                               & NA                                                                & 901637                                                           \\\\\n",
       "\t  914791                                                           & 025164                                                            & LUCOR INC /FL/                                                    & AMERICAN COLD LITE TECHNOLOGIES INC                               & NA                                                                & 025164                                                           \\\\\n",
       "\t 1109141                                                           & 687082                                                            & OROMIN EXPLORATIONS LTD                                           & OROMIN EXPLORATIONS LTD NEW                                       & NA                                                                & 687082                                                           \\\\\n",
       "\t  736952                                                           & 144105                                                            & TUXIS CORP                                                        & CAROLINA PAC PLYWOOD INC                                          & ACQUIRED BY SOUTHWEST FOREST INDS INC 10/06/1972                  & 144105                                                           \\\\\n",
       "\t 1099066                                                           & 046352                                                            & ASTRALIS LTD                                                      & ASTRALIS LTD                                                      & FORMERLY ASTRALIS PHARMACEUTICALS LTD 12/10/2001                  & 046352                                                           \\\\\n",
       "\\end{tabular}\n"
      ],
      "text/markdown": [
       "\n",
       "cik | cusip | company_name | issuer_name | issuer_adl | cusip_raw | \n",
       "|---|---|---|---|---|---|---|---|---|---|\n",
       "|  720875                                                           | 268157                                                            | DYNATRONICS CORP                                                  | DYNATRONICS CORP                                                  | NA                                                                | 268157                                                            | \n",
       "| 1445625                                                           | 65338J                                                            | NEXAIRA WIRELESS INC.                                             | NEXAIRA WIRELESS INC                                              | NA                                                                | 65338J                                                            | \n",
       "|  811808                                                           | 86606G                                                            | SUMMIT FINANCIAL GROUP INC                                        | SUMMIT FINL GROUP INC                                             | NA                                                                | 86606G                                                            | \n",
       "| 1024048                                                           | 436938                                                            | HOMELIFE INC                                                      | HOMELIFE INC                                                      | NAME CHANGED TO MONEYLOGIX GROUP INC 01/29/2008 SEE 60935X        | 436938                                                            | \n",
       "| 1355242                                                           | 050751                                                            | Audio Stocks, Inc.                                                | AUDIOSTOCKS INC                                                   | NAME CHANGED TO SHRINK NANOTECHNOLOGIES INC 05/14/2009 SEE 82554U | 050751                                                            | \n",
       "|  101265                                                           | 901637                                                            | UNITED ILLUMINATING CO                                            | TWIN GOLD MINES LTD                                               | NA                                                                | 901637                                                            | \n",
       "|  914791                                                           | 025164                                                            | LUCOR INC /FL/                                                    | AMERICAN COLD LITE TECHNOLOGIES INC                               | NA                                                                | 025164                                                            | \n",
       "| 1109141                                                           | 687082                                                            | OROMIN EXPLORATIONS LTD                                           | OROMIN EXPLORATIONS LTD NEW                                       | NA                                                                | 687082                                                            | \n",
       "|  736952                                                           | 144105                                                            | TUXIS CORP                                                        | CAROLINA PAC PLYWOOD INC                                          | ACQUIRED BY SOUTHWEST FOREST INDS INC 10/06/1972                  | 144105                                                            | \n",
       "| 1099066                                                           | 046352                                                            | ASTRALIS LTD                                                      | ASTRALIS LTD                                                      | FORMERLY ASTRALIS PHARMACEUTICALS LTD 12/10/2001                  | 046352                                                            | \n",
       "\n",
       "\n"
      ],
      "text/plain": [
       "   cik     cusip  company_name              \n",
       "1   720875 268157 DYNATRONICS CORP          \n",
       "2  1445625 65338J NEXAIRA WIRELESS INC.     \n",
       "3   811808 86606G SUMMIT FINANCIAL GROUP INC\n",
       "4  1024048 436938 HOMELIFE INC              \n",
       "5  1355242 050751 Audio Stocks, Inc.        \n",
       "6   101265 901637 UNITED ILLUMINATING CO    \n",
       "7   914791 025164 LUCOR INC /FL/            \n",
       "8  1109141 687082 OROMIN EXPLORATIONS LTD   \n",
       "9   736952 144105 TUXIS CORP                \n",
       "10 1099066 046352 ASTRALIS LTD              \n",
       "   issuer_name                        \n",
       "1  DYNATRONICS CORP                   \n",
       "2  NEXAIRA WIRELESS INC               \n",
       "3  SUMMIT FINL GROUP INC              \n",
       "4  HOMELIFE INC                       \n",
       "5  AUDIOSTOCKS INC                    \n",
       "6  TWIN GOLD MINES LTD                \n",
       "7  AMERICAN COLD LITE TECHNOLOGIES INC\n",
       "8  OROMIN EXPLORATIONS LTD NEW        \n",
       "9  CAROLINA PAC PLYWOOD INC           \n",
       "10 ASTRALIS LTD                       \n",
       "   issuer_adl                                                        cusip_raw\n",
       "1  NA                                                                268157   \n",
       "2  NA                                                                65338J   \n",
       "3  NA                                                                86606G   \n",
       "4  NAME CHANGED TO MONEYLOGIX GROUP INC 01/29/2008 SEE 60935X        436938   \n",
       "5  NAME CHANGED TO SHRINK NANOTECHNOLOGIES INC 05/14/2009 SEE 82554U 050751   \n",
       "6  NA                                                                901637   \n",
       "7  NA                                                                025164   \n",
       "8  NA                                                                687082   \n",
       "9  ACQUIRED BY SOUTHWEST FOREST INDS INC 10/06/1972                  144105   \n",
       "10 FORMERLY ASTRALIS PHARMACEUTICALS LTD 12/10/2001                  046352   "
      ]
     },
     "metadata": {},
     "output_type": "display_data"
    }
   ],
   "source": [
    "added_value_6s_above_10_w_issuers %>% select(cik, cusip, company_name, issuer_name, issuer_adl, cusip_raw) %>% head(10)"
   ]
  },
  {
   "cell_type": "code",
   "execution_count": 201,
   "metadata": {},
   "outputs": [
    {
     "name": "stderr",
     "output_type": "stream",
     "text": [
      "Joining, by = c(\"cik\", \"cusip\")\n"
     ]
    },
    {
     "data": {
      "text/html": [
       "<table>\n",
       "<thead><tr><th scope=col>cik</th><th scope=col>cusip</th><th scope=col>company_name</th><th scope=col>issuer_name</th><th scope=col>issuer_adl</th><th scope=col>cusip_raw</th></tr></thead>\n",
       "<tbody>\n",
       "</tbody>\n",
       "</table>\n"
      ],
      "text/latex": [
       "\\begin{tabular}{r|llllll}\n",
       " cik & cusip & company\\_name & issuer\\_name & issuer\\_adl & cusip\\_raw\\\\\n",
       "\\hline\n",
       "\\end{tabular}\n"
      ],
      "text/markdown": [
       "\n",
       "cik | cusip | company_name | issuer_name | issuer_adl | cusip_raw | \n",
       "||\n",
       "\n",
       "\n"
      ],
      "text/plain": [
       "     cik cusip company_name issuer_name issuer_adl cusip_raw"
      ]
     },
     "metadata": {},
     "output_type": "display_data"
    }
   ],
   "source": [
    "to_analyse <- added_value_6s_above_10_w_issuers %>% select(cik, cusip, company_name, issuer_name, issuer_adl, cusip_raw) %>%\n",
    "                    anti_join(cusip_cik_exceptions %>% distinct(cik, cusip))\n",
    "to_analyse"
   ]
  },
  {
   "cell_type": "code",
   "execution_count": null,
   "metadata": {
    "collapsed": true
   },
   "outputs": [],
   "source": [
    "cols <- colnames(cusip_cik_exceptions)[colnames(cusip_cik_exceptions) %in% colnames(to_analyse)]\n",
    "cols"
   ]
  },
  {
   "cell_type": "code",
   "execution_count": null,
   "metadata": {
    "collapsed": true
   },
   "outputs": [],
   "source": [
    "row_cik <- \n",
    "row_cusip <- \n",
    "\n",
    "df <- to_analyse[to_analyse$cik == row_cik & to_analyse$cusip == row_cusip, cols]"
   ]
  },
  {
   "cell_type": "code",
   "execution_count": null,
   "metadata": {
    "collapsed": true
   },
   "outputs": [],
   "source": [
    "# See which other cusips have matched row_cik and which ones are better matches\n",
    "valid9s_above_10_w_issuers %>% filter(cik == row_cik)"
   ]
  },
  {
   "cell_type": "code",
   "execution_count": null,
   "metadata": {
    "collapsed": true
   },
   "outputs": [],
   "source": [
    "# See which other ciks have matched row_cusip and which ones are better matches\n",
    "valid9s_above_10_w_issuers %>% filter(cusip == row_cusip)"
   ]
  },
  {
   "cell_type": "code",
   "execution_count": null,
   "metadata": {
    "collapsed": true
   },
   "outputs": [],
   "source": [
    "# Search for names in edgar.filings by cik\n",
    "name_search_sql <- paste0('SELECT DISTINCT cik, company_name FROM edgar.filings WHERE cik = ', row_cik)\n",
    "tbl(pg, sql(name_search_sql))"
   ]
  },
  {
   "cell_type": "code",
   "execution_count": null,
   "metadata": {
    "collapsed": true
   },
   "outputs": [],
   "source": [
    "# Search for ciks in edgar.filings by using first few words of a company name\n",
    "company_name_str <- \"\"\n",
    "cik_search_sql <- paste0(\"SELECT DISTINCT cik, company_name FROM edgar.filings WHERE UPPER(company_name) ~ '^\", \n",
    "                         company_name_str, \"'\")\n",
    "tbl(pg, sql(cik_search_sql))"
   ]
  },
  {
   "cell_type": "code",
   "execution_count": null,
   "metadata": {
    "collapsed": true
   },
   "outputs": [],
   "source": [
    "# Try looking for cusip6's in issuers by searching by first few words of company_name\n",
    "company_name_str <- ''\n",
    "issuers %>% filter(grepl(paste0('^', company_name_str), issuer_name))"
   ]
  },
  {
   "cell_type": "code",
   "execution_count": null,
   "metadata": {
    "collapsed": true
   },
   "outputs": [],
   "source": [
    "# Try looking for cusip8's in stocknames by searching by first few words of company_name\n",
    "company_name_str <- ''\n",
    "stocknames %>% filter(grepl(paste0('^', company_name_str), comnam))"
   ]
  },
  {
   "cell_type": "code",
   "execution_count": null,
   "metadata": {
    "collapsed": true
   },
   "outputs": [],
   "source": [
    "df$valid_match <- \n",
    "df$better_cik <- \n",
    "df$better_cik_company_name <- \n",
    "df$better_cusip <- \n",
    "df$better_cusip_issuer_name <-\n",
    "df$better_cusip_issuer_adl <- \n",
    "df$better_cusip6 <- \n",
    "df$better_cusip6_issuer_name <-\n",
    "df$better_cusip6_issuer_adl <-\n",
    "df$better_cusip8 <- \n",
    "df$better_cusip8_comnam <- \n",
    "df$other_reason <- "
   ]
  },
  {
   "cell_type": "code",
   "execution_count": null,
   "metadata": {
    "collapsed": true
   },
   "outputs": [],
   "source": [
    "rs <- dbWriteTable(pg, c('edgar', 'cusip_cik_exceptions'), df, row.names = FALSE, append = TRUE,\n",
    "                   encoding = \"latin1\")"
   ]
  },
  {
   "cell_type": "markdown",
   "metadata": {},
   "source": [
    "## 14. 6-digit cusips which just map to `stocknames`\n",
    "\n",
    "Here, we analyse the 6-digit cases which map just to `crsp.stocknames`."
   ]
  },
  {
   "cell_type": "code",
   "execution_count": 158,
   "metadata": {},
   "outputs": [
    {
     "name": "stderr",
     "output_type": "stream",
     "text": [
      "Joining, by = c(\"cik\", \"cusip\", \"company_name\", \"cusip6\", \"cusip_raw\")\n"
     ]
    }
   ],
   "source": [
    "added_value_6s_above_10_no_issuers <- added_value_6s_above_10 %>% anti_join(added_value_6s_above_10_w_issuers)\n",
    "\n",
    "\n",
    "added_value_6s_above_10_stocknames <- added_value_6s_above_10_no_issuers %>%\n",
    "                                    inner_join(stocknames %>% mutate(cusip6 = substr(ncusip, 1, 6)), by = 'cusip6')"
   ]
  },
  {
   "cell_type": "code",
   "execution_count": 160,
   "metadata": {},
   "outputs": [
    {
     "data": {
      "text/html": [
       "<table>\n",
       "<thead><tr><th scope=col>cik</th><th scope=col>cusip.x</th><th scope=col>company_name</th><th scope=col>cusip6</th><th scope=col>cusip_raw</th><th scope=col>permno</th><th scope=col>permco</th><th scope=col>namedt</th><th scope=col>nameenddt</th><th scope=col>cusip.y</th><th scope=col>...</th><th scope=col>ticker</th><th scope=col>comnam</th><th scope=col>hexcd</th><th scope=col>exchcd</th><th scope=col>siccd</th><th scope=col>shrcd</th><th scope=col>shrcls</th><th scope=col>st_date</th><th scope=col>end_date</th><th scope=col>namedum</th></tr></thead>\n",
       "<tbody>\n",
       "\t<tr><td>1396016           </td><td>G32335            </td><td>Exceed Co Ltd.    </td><td>G32335            </td><td>G32335            </td><td>92507             </td><td>52850             </td><td>2009-10-21        </td><td>2015-04-29        </td><td>G3233510          </td><td>...               </td><td>EDS               </td><td>EXCEED COMPANY LTD</td><td>3                 </td><td>3                 </td><td>6799              </td><td>12                </td><td>NA                </td><td>2007-12-31        </td><td>2015-04-30        </td><td>2                 </td></tr>\n",
       "</tbody>\n",
       "</table>\n"
      ],
      "text/latex": [
       "\\begin{tabular}{r|lllllllllllllllllllll}\n",
       " cik & cusip.x & company\\_name & cusip6 & cusip\\_raw & permno & permco & namedt & nameenddt & cusip.y & ... & ticker & comnam & hexcd & exchcd & siccd & shrcd & shrcls & st\\_date & end\\_date & namedum\\\\\n",
       "\\hline\n",
       "\t 1396016            & G32335             & Exceed Co Ltd.     & G32335             & G32335             & 92507              & 52850              & 2009-10-21         & 2015-04-29         & G3233510           & ...                & EDS                & EXCEED COMPANY LTD & 3                  & 3                  & 6799               & 12                 & NA                 & 2007-12-31         & 2015-04-30         & 2                 \\\\\n",
       "\\end{tabular}\n"
      ],
      "text/markdown": [
       "\n",
       "cik | cusip.x | company_name | cusip6 | cusip_raw | permno | permco | namedt | nameenddt | cusip.y | ... | ticker | comnam | hexcd | exchcd | siccd | shrcd | shrcls | st_date | end_date | namedum | \n",
       "|---|\n",
       "| 1396016            | G32335             | Exceed Co Ltd.     | G32335             | G32335             | 92507              | 52850              | 2009-10-21         | 2015-04-29         | G3233510           | ...                | EDS                | EXCEED COMPANY LTD | 3                  | 3                  | 6799               | 12                 | NA                 | 2007-12-31         | 2015-04-30         | 2                  | \n",
       "\n",
       "\n"
      ],
      "text/plain": [
       "  cik     cusip.x company_name   cusip6 cusip_raw permno permco namedt    \n",
       "1 1396016 G32335  Exceed Co Ltd. G32335 G32335    92507  52850  2009-10-21\n",
       "  nameenddt  cusip.y  ... ticker comnam             hexcd exchcd siccd shrcd\n",
       "1 2015-04-29 G3233510 ... EDS    EXCEED COMPANY LTD 3     3      6799  12   \n",
       "  shrcls st_date    end_date   namedum\n",
       "1 NA     2007-12-31 2015-04-30 2      "
      ]
     },
     "metadata": {},
     "output_type": "display_data"
    }
   ],
   "source": [
    "added_value_6s_above_10_stocknames "
   ]
  },
  {
   "cell_type": "code",
   "execution_count": 161,
   "metadata": {},
   "outputs": [
    {
     "data": {
      "text/html": [
       "<table>\n",
       "<thead><tr><th scope=col>cik</th><th scope=col>cusip</th><th scope=col>company_name</th><th scope=col>issuer_name</th><th scope=col>cusip_raw</th></tr></thead>\n",
       "<tbody>\n",
       "\t<tr><td>1396016           </td><td>G32335            </td><td>Exceed Co Ltd.    </td><td>EXCEED COMPANY LTD</td><td>G32335            </td></tr>\n",
       "</tbody>\n",
       "</table>\n"
      ],
      "text/latex": [
       "\\begin{tabular}{r|lllll}\n",
       " cik & cusip & company\\_name & issuer\\_name & cusip\\_raw\\\\\n",
       "\\hline\n",
       "\t 1396016            & G32335             & Exceed Co Ltd.     & EXCEED COMPANY LTD & G32335            \\\\\n",
       "\\end{tabular}\n"
      ],
      "text/markdown": [
       "\n",
       "cik | cusip | company_name | issuer_name | cusip_raw | \n",
       "|---|\n",
       "| 1396016            | G32335             | Exceed Co Ltd.     | EXCEED COMPANY LTD | G32335             | \n",
       "\n",
       "\n"
      ],
      "text/plain": [
       "  cik     cusip  company_name   issuer_name        cusip_raw\n",
       "1 1396016 G32335 Exceed Co Ltd. EXCEED COMPANY LTD G32335   "
      ]
     },
     "metadata": {},
     "output_type": "display_data"
    }
   ],
   "source": [
    "added_value_6s_above_10_stocknames %>% select(cik, cusip.x, company_name, comnam, cusip_raw) %>% \n",
    "                                        rename(cusip = cusip.x, issuer_name = comnam)"
   ]
  },
  {
   "cell_type": "code",
   "execution_count": 204,
   "metadata": {},
   "outputs": [
    {
     "name": "stderr",
     "output_type": "stream",
     "text": [
      "Joining, by = c(\"cik\", \"cusip\")\n"
     ]
    },
    {
     "data": {
      "text/html": [
       "<table>\n",
       "<thead><tr><th scope=col>cik</th><th scope=col>cusip</th><th scope=col>company_name</th><th scope=col>issuer_name</th><th scope=col>cusip_raw</th></tr></thead>\n",
       "<tbody>\n",
       "</tbody>\n",
       "</table>\n"
      ],
      "text/latex": [
       "\\begin{tabular}{r|lllll}\n",
       " cik & cusip & company\\_name & issuer\\_name & cusip\\_raw\\\\\n",
       "\\hline\n",
       "\\end{tabular}\n"
      ],
      "text/markdown": [
       "\n",
       "cik | cusip | company_name | issuer_name | cusip_raw | \n",
       "||\n",
       "\n",
       "\n"
      ],
      "text/plain": [
       "     cik cusip company_name issuer_name cusip_raw"
      ]
     },
     "metadata": {},
     "output_type": "display_data"
    }
   ],
   "source": [
    "to_analyse <- added_value_6s_above_10_stocknames %>% select(cik, cusip.x, company_name, comnam, cusip_raw) %>% \n",
    "                rename(cusip = cusip.x, issuer_name = comnam) %>% anti_join(cusip_cik_exceptions %>% distinct(cik, cusip))\n",
    "to_analyse"
   ]
  },
  {
   "cell_type": "code",
   "execution_count": null,
   "metadata": {
    "collapsed": true
   },
   "outputs": [],
   "source": [
    "cols <- colnames(cusip_cik_exceptions)[colnames(cusip_cik_exceptions) %in% colnames(to_analyse)]\n",
    "cols"
   ]
  },
  {
   "cell_type": "code",
   "execution_count": null,
   "metadata": {
    "collapsed": true
   },
   "outputs": [],
   "source": [
    "row_cik <- \n",
    "row_cusip <- \n",
    "\n",
    "df <- to_analyse[to_analyse$cik == row_cik & to_analyse$cusip == row_cusip, cols]"
   ]
  },
  {
   "cell_type": "code",
   "execution_count": null,
   "metadata": {
    "collapsed": true
   },
   "outputs": [],
   "source": [
    "# See which other cusips have matched row_cik and which ones are better matches\n",
    "valid9s_above_10_w_issuers %>% filter(cik == row_cik)"
   ]
  },
  {
   "cell_type": "code",
   "execution_count": null,
   "metadata": {
    "collapsed": true
   },
   "outputs": [],
   "source": [
    "# See which other ciks have matched row_cusip and which ones are better matches\n",
    "valid9s_above_10_w_issuers %>% filter(cusip == row_cusip)"
   ]
  },
  {
   "cell_type": "code",
   "execution_count": null,
   "metadata": {
    "collapsed": true
   },
   "outputs": [],
   "source": [
    "# Search for names in edgar.filings by cik\n",
    "name_search_sql <- paste0('SELECT DISTINCT cik, company_name FROM edgar.filings WHERE cik = ', row_cik)\n",
    "tbl(pg, sql(name_search_sql))"
   ]
  },
  {
   "cell_type": "code",
   "execution_count": null,
   "metadata": {
    "collapsed": true
   },
   "outputs": [],
   "source": [
    "# Search for ciks in edgar.filings by using first few words of a company name\n",
    "company_name_str <- \"\"\n",
    "cik_search_sql <- paste0(\"SELECT DISTINCT cik, company_name FROM edgar.filings WHERE UPPER(company_name) ~ '^\", \n",
    "                         company_name_str, \"'\")\n",
    "tbl(pg, sql(cik_search_sql))"
   ]
  },
  {
   "cell_type": "code",
   "execution_count": null,
   "metadata": {
    "collapsed": true
   },
   "outputs": [],
   "source": [
    "# Try looking for cusip6's in issuers by searching by first few words of company_name\n",
    "company_name_str <- ''\n",
    "issuers %>% filter(grepl(paste0('^', company_name_str), issuer_name))"
   ]
  },
  {
   "cell_type": "code",
   "execution_count": null,
   "metadata": {
    "collapsed": true
   },
   "outputs": [],
   "source": [
    "# Try looking for cusip8's in stocknames by searching by first few words of company_name\n",
    "company_name_str <- ''\n",
    "stocknames %>% filter(grepl(paste0('^', company_name_str), comnam))"
   ]
  },
  {
   "cell_type": "code",
   "execution_count": null,
   "metadata": {
    "collapsed": true
   },
   "outputs": [],
   "source": [
    "df$valid_match <- \n",
    "df$better_cik <- \n",
    "df$better_cik_company_name <- \n",
    "df$better_cusip <- \n",
    "df$better_cusip_issuer_name <-\n",
    "df$better_cusip_issuer_adl <- \n",
    "df$better_cusip6 <- \n",
    "df$better_cusip6_issuer_name <-\n",
    "df$better_cusip6_issuer_adl <-\n",
    "df$better_cusip8 <- \n",
    "df$better_cusip8_comnam <- \n",
    "df$other_reason <- "
   ]
  },
  {
   "cell_type": "code",
   "execution_count": null,
   "metadata": {
    "collapsed": true
   },
   "outputs": [],
   "source": [
    "rs <- dbWriteTable(pg, c('edgar', 'cusip_cik_exceptions'), df, row.names = FALSE, append = TRUE,\n",
    "                   encoding = \"latin1\")"
   ]
  },
  {
   "cell_type": "markdown",
   "metadata": {},
   "source": [
    "## 15. One-padded 6-digit cusips\n",
    "\n",
    "Here we analyse one-padded 6-digit cusips, that is 6-digit cusips padded with a zero on the left. We take the candidate `cusip` to be the first six digits of the 7-digit padded cusip; that is, if `cusip_raw` is '00753P', we take `cusip` to be '000753'. "
   ]
  },
  {
   "cell_type": "code",
   "execution_count": 209,
   "metadata": {},
   "outputs": [
    {
     "name": "stderr",
     "output_type": "stream",
     "text": [
      "Joining, by = \"cusip6\"\n"
     ]
    }
   ],
   "source": [
    "valid6s_above_10_1pad <- valid6s_above_10 %>% rename(cusip_raw = cusip) %>%\n",
    "    mutate(cusip = substr(paste0('0', cusip_raw), 1, 6)) %>% mutate(cusip6 = substr(cusip,  1, 6))\n",
    "\n",
    "added_value_6s_above_10_1pad <- valid6s_above_10_1pad %>% anti_join(valid9s_above_10, by = c('cik', 'cusip6')) %>%\n",
    "    anti_join(valid8s_above_10, by = c('cik', 'cusip6')) %>%\n",
    "    anti_join(valid8s_above_10_padded, by = c('cik', 'cusip6')) %>%\n",
    "    anti_join(valid7s_above_10, by = c('cik', 'cusip6')) %>%\n",
    "    anti_join(valid7s_above_10_1pad, by = c('cik', 'cusip6')) %>%\n",
    "    anti_join(valid7s_above_10_2pad, by = c('cik', 'cusip6')) %>%\n",
    "    anti_join(added_value_6s_above_10, by = c('cik', 'cusip6'))\n",
    "\n",
    "\n",
    "added_value_6s_above_10_1pad_w_issuers <- added_value_6s_above_10_1pad %>% inner_join(issuers)\n"
   ]
  },
  {
   "cell_type": "code",
   "execution_count": 212,
   "metadata": {},
   "outputs": [
    {
     "data": {
      "text/html": [
       "<table>\n",
       "<thead><tr><th scope=col>cik</th><th scope=col>cusip</th><th scope=col>company_name</th><th scope=col>issuer_name</th><th scope=col>cusip_raw</th></tr></thead>\n",
       "<tbody>\n",
       "\t<tr><td> 792977                                                </td><td>000753                                                 </td><td>ADVANCED MAGNETICS INC                                 </td><td>ABD AMERN CAP MKTS FDS INC                             </td><td>00753P                                                 </td></tr>\n",
       "\t<tr><td> 852570                                                </td><td>001787                                                 </td><td>GLOBAL AXCESS CORP                                     </td><td>AMS-3 2003 LP                                          </td><td>017874                                                 </td></tr>\n",
       "\t<tr><td> 806514                                                </td><td>001640                                                 </td><td>ADVANCED MATERIALS GROUP INC                           </td><td>AMCA INTL LTD                                          </td><td>016401                                                 </td></tr>\n",
       "\t<tr><td> 806514                                                </td><td>001640                                                 </td><td>Advanced Materials Group, Inc.                         </td><td>AMCA INTL LTD                                          </td><td>016401                                                 </td></tr>\n",
       "\t<tr><td>1113423                                                </td><td>000797                                                 </td><td>Aeterna Zentaris Inc.                                  </td><td>ACE SECS CORP HOME EQUITY LN TR SER 2007- HE5          </td><td>007975                                                 </td></tr>\n",
       "\t<tr><td>1113423                                                </td><td>000797                                                 </td><td>AETERNA LABORATORIES INC                               </td><td>ACE SECS CORP HOME EQUITY LN TR SER 2007- HE5          </td><td>007975                                                 </td></tr>\n",
       "\t<tr><td>1036848                                                </td><td>000773                                                 </td><td>AEROCENTURY CORP                                       </td><td>ABKA INC                                               </td><td>007737                                                 </td></tr>\n",
       "\t<tr><td> 726958                                                </td><td>014752                                                 </td><td>CASEYS GENERAL STORES INC                              </td><td>ALEXANDERS INC                                         </td><td>147528                                                 </td></tr>\n",
       "\t<tr><td> 848865                                                </td><td>001958                                                 </td><td>ALLIED WASTE INDUSTRIES INC                            </td><td>AT/COMM INC                                            </td><td>019589                                                 </td></tr>\n",
       "\t<tr><td>  36840                                                </td><td>033614                                                 </td><td>FIRST REAL ESTATE INVESTMENT TRUST OF NEW JERSEY       </td><td>ANDERSON COMPUTERS / TIDALWAVE CORP                    </td><td>336142                                                 </td></tr>\n",
       "\t<tr><td> 943034                                                </td><td>045244                                                 </td><td>IMAGE SENSING SYSTEMS INC                              </td><td>ASPEN BELL LTD                                         </td><td>45244C                                                 </td></tr>\n",
       "\t<tr><td>1141240                                                </td><td>053634                                                 </td><td>LIQUIDMETAL TECHNOLOGIES INC                           </td><td>AVERY PT II CLO LTD                                    </td><td>53634X                                                 </td></tr>\n",
       "\t<tr><td>1141240                                                </td><td>053634                                                 </td><td>LIQUIDMETAL TECHNOLOGIES                               </td><td>AVERY PT II CLO LTD                                    </td><td>53634X                                                 </td></tr>\n",
       "\t<tr><td> 840216                                                </td><td>042550                                                 </td><td>CALIFORNIA COASTAL COMMUNITIES INC                     </td><td>ARNHEM RES INC                                         </td><td>42550H                                                 </td></tr>\n",
       "\t<tr><td>1080359                                                </td><td>001985                                                 </td><td>ALLOY ONLINE INC                                       </td><td>AMEX GOLD BUGS INDEX-HUI                               </td><td>019855                                                 </td></tr>\n",
       "\t<tr><td>1080359                                                </td><td>001985                                                 </td><td>ALLOY  INC                                             </td><td>AMEX GOLD BUGS INDEX-HUI                               </td><td>019855                                                 </td></tr>\n",
       "\t<tr><td>  22701                                                </td><td>020390                                                 </td><td>COMMUNICATIONS SYSTEMS INC                             </td><td>ALMONT SHIPPING TERMS C R INC                          </td><td>203900                                                 </td></tr>\n",
       "\t<tr><td> 808015                                                </td><td>059484                                                 </td><td>MICRO IMAGING TECHNOLOGY, INC.                         </td><td>BANC OF AMER SECS AUTO TR 2006-G1                      </td><td>59484E                                                 </td></tr>\n",
       "\t<tr><td>1649624                                                </td><td>069190                                                 </td><td>Midland Exploration Inc.                               </td><td>BARTER EXCHANGE INC                                    </td><td>691903                                                 </td></tr>\n",
       "\t<tr><td>1044119                                                </td><td>001849                                                 </td><td>ALLERGY RESEARCH GROUP INC                             </td><td>A-1 CARBIDE CORP                                       </td><td>01849R                                                 </td></tr>\n",
       "\t<tr><td> 749750                                                </td><td>037936                                                 </td><td>PINE VALLEY MINING CORP                                </td><td>AQUASOL INTL GROUP INC                                 </td><td>37936T                                                 </td></tr>\n",
       "\t<tr><td> 772372                                                </td><td>030205                                                 </td><td>EXIDE ELECTRONICS GROUP INC                            </td><td>AMERICAN TIDELANDS LIFE INS CO                         </td><td>302052                                                 </td></tr>\n",
       "\t<tr><td> 933745                                                </td><td>069329                                                 </td><td>PDT INC /DE/                                           </td><td>BARTLETT FMRS BK OHIO                                  </td><td>69329P                                                 </td></tr>\n",
       "\t<tr><td> 933745                                                </td><td>069329                                                 </td><td>MIRAVANT MEDICAL TECHNOLOGIES                          </td><td>BARTLETT FMRS BK OHIO                                  </td><td>69329P                                                 </td></tr>\n",
       "\t<tr><td>1065331                                                </td><td>019411                                                 </td><td>ATI TECHNOLOGIES INC                                   </td><td>ALLIED PRODS CORP DEL                                  </td><td>194110                                                 </td></tr>\n",
       "\t<tr><td>1445625                                                </td><td>065338                                                 </td><td>NEXAIRA WIRELESS INC.                                  </td><td>BANK TIDEWATER VIRGINIA BEACH VA                       </td><td>65338J                                                 </td></tr>\n",
       "\t<tr><td> 858043                                                </td><td>020050                                                 </td><td>COMMANDER RESOURCES LTD                                </td><td>ALLY MEDIA GROUP INC                                   </td><td>200502                                                 </td></tr>\n",
       "\t<tr><td> 913955                                                </td><td>005155                                                 </td><td>AURIZON MINES LTD                                      </td><td>AD SHARK INC                                           </td><td>05155P                                                 </td></tr>\n",
       "\t<tr><td> 891178                                                </td><td>002074                                                 </td><td>EPICOR SOFTWARE CORP                                   </td><td>ATI INC UTAH                                           </td><td>020740                                                 </td></tr>\n",
       "\t<tr><td> 832324                                                </td><td>037937                                                 </td><td>GLOBALNET FINANCIAL COM INC                            </td><td>APPLIED GRAPHICS TECHNOLOGIES INC                      </td><td>37937R                                                 </td></tr>\n",
       "\t<tr><td>1030997                                                                                 </td><td>002925                                                                                  </td><td><span style=white-space:pre-wrap>G WILLI FOOD INTERNATIONAL LTD                  </span></td><td>ABERCROMBIE &amp; FITCH CO LONG TERM EQUITY OPTIONS-ZFQ-VNF                             </td><td>029256                                                                                  </td></tr>\n",
       "\t<tr><td>1157667                                                </td><td>098583                                                 </td><td>YI WAN GROUP INC                                       </td><td>BOOKTECH COM INC                                       </td><td>98583W                                                 </td></tr>\n",
       "\t<tr><td> 947661                                                </td><td>025367                                                 </td><td>DIEDRICH COFFEE INC                                    </td><td>AMERICAN DIAMOND CORP                                  </td><td>253675                                                 </td></tr>\n",
       "\t<tr><td> 870732                                                </td><td>002860                                                 </td><td>American Natural Energy Corp                           </td><td>ABBOTT WORSTED CO                                      </td><td>02860R                                                 </td></tr>\n",
       "\t<tr><td> 870732                                                </td><td>002860                                                 </td><td>AMERICAN NATURAL ENERGY CORP                           </td><td>ABBOTT WORSTED CO                                      </td><td>02860R                                                 </td></tr>\n",
       "\t<tr><td> 873998                                                </td><td>011298                                                 </td><td>INTERLOTT TECHNOLOGIES INC                             </td><td>ALAMO FINL SVCS INC                                    </td><td>112986                                                 </td></tr>\n",
       "\t<tr><td> 839122                                                </td><td>026201                                                 </td><td>DREYFUS MUNICIPAL INCOME INC                           </td><td>AMERICAN FOOD HLDGS INC                                </td><td>26201R                                                 </td></tr>\n",
       "\t<tr><td>1018003                                                                                            </td><td>045715                                                                                             </td><td><span style=white-space:pre-wrap>INGRAM MICRO INC                                </span>           </td><td><span style=white-space:pre-wrap>ASSOCIATED MTG &amp; INVT CO                               </span></td><td>457153                                                                                             </td></tr>\n",
       "\t<tr><td>1096791                                                </td><td>013874                                                 </td><td>Oilsands Quest Inc                                     </td><td>ALCOGAS INC                                            </td><td>138748                                                 </td></tr>\n",
       "\t<tr><td>1024048                                                </td><td>043693                                                 </td><td>HOMELIFE INC                                           </td><td>ASH GROVE CEM CO                                       </td><td>436938                                                 </td></tr>\n",
       "\t<tr><td>  54502                                                </td><td>049455                                                 </td><td>KINDER MORGAN INC                                      </td><td>ATLAS V CAP LTD                                        </td><td>49455P                                                 </td></tr>\n",
       "</tbody>\n",
       "</table>\n"
      ],
      "text/latex": [
       "\\begin{tabular}{r|lllll}\n",
       " cik & cusip & company\\_name & issuer\\_name & cusip\\_raw\\\\\n",
       "\\hline\n",
       "\t  792977                                                 & 000753                                                  & ADVANCED MAGNETICS INC                                  & ABD AMERN CAP MKTS FDS INC                              & 00753P                                                 \\\\\n",
       "\t  852570                                                 & 001787                                                  & GLOBAL AXCESS CORP                                      & AMS-3 2003 LP                                           & 017874                                                 \\\\\n",
       "\t  806514                                                 & 001640                                                  & ADVANCED MATERIALS GROUP INC                            & AMCA INTL LTD                                           & 016401                                                 \\\\\n",
       "\t  806514                                                 & 001640                                                  & Advanced Materials Group, Inc.                          & AMCA INTL LTD                                           & 016401                                                 \\\\\n",
       "\t 1113423                                                 & 000797                                                  & Aeterna Zentaris Inc.                                   & ACE SECS CORP HOME EQUITY LN TR SER 2007- HE5           & 007975                                                 \\\\\n",
       "\t 1113423                                                 & 000797                                                  & AETERNA LABORATORIES INC                                & ACE SECS CORP HOME EQUITY LN TR SER 2007- HE5           & 007975                                                 \\\\\n",
       "\t 1036848                                                 & 000773                                                  & AEROCENTURY CORP                                        & ABKA INC                                                & 007737                                                 \\\\\n",
       "\t  726958                                                 & 014752                                                  & CASEYS GENERAL STORES INC                               & ALEXANDERS INC                                          & 147528                                                 \\\\\n",
       "\t  848865                                                 & 001958                                                  & ALLIED WASTE INDUSTRIES INC                             & AT/COMM INC                                             & 019589                                                 \\\\\n",
       "\t   36840                                                 & 033614                                                  & FIRST REAL ESTATE INVESTMENT TRUST OF NEW JERSEY        & ANDERSON COMPUTERS / TIDALWAVE CORP                     & 336142                                                 \\\\\n",
       "\t  943034                                                 & 045244                                                  & IMAGE SENSING SYSTEMS INC                               & ASPEN BELL LTD                                          & 45244C                                                 \\\\\n",
       "\t 1141240                                                 & 053634                                                  & LIQUIDMETAL TECHNOLOGIES INC                            & AVERY PT II CLO LTD                                     & 53634X                                                 \\\\\n",
       "\t 1141240                                                 & 053634                                                  & LIQUIDMETAL TECHNOLOGIES                                & AVERY PT II CLO LTD                                     & 53634X                                                 \\\\\n",
       "\t  840216                                                 & 042550                                                  & CALIFORNIA COASTAL COMMUNITIES INC                      & ARNHEM RES INC                                          & 42550H                                                 \\\\\n",
       "\t 1080359                                                 & 001985                                                  & ALLOY ONLINE INC                                        & AMEX GOLD BUGS INDEX-HUI                                & 019855                                                 \\\\\n",
       "\t 1080359                                                 & 001985                                                  & ALLOY  INC                                              & AMEX GOLD BUGS INDEX-HUI                                & 019855                                                 \\\\\n",
       "\t   22701                                                 & 020390                                                  & COMMUNICATIONS SYSTEMS INC                              & ALMONT SHIPPING TERMS C R INC                           & 203900                                                 \\\\\n",
       "\t  808015                                                 & 059484                                                  & MICRO IMAGING TECHNOLOGY, INC.                          & BANC OF AMER SECS AUTO TR 2006-G1                       & 59484E                                                 \\\\\n",
       "\t 1649624                                                 & 069190                                                  & Midland Exploration Inc.                                & BARTER EXCHANGE INC                                     & 691903                                                 \\\\\n",
       "\t 1044119                                                 & 001849                                                  & ALLERGY RESEARCH GROUP INC                              & A-1 CARBIDE CORP                                        & 01849R                                                 \\\\\n",
       "\t  749750                                                 & 037936                                                  & PINE VALLEY MINING CORP                                 & AQUASOL INTL GROUP INC                                  & 37936T                                                 \\\\\n",
       "\t  772372                                                 & 030205                                                  & EXIDE ELECTRONICS GROUP INC                             & AMERICAN TIDELANDS LIFE INS CO                          & 302052                                                 \\\\\n",
       "\t  933745                                                 & 069329                                                  & PDT INC /DE/                                            & BARTLETT FMRS BK OHIO                                   & 69329P                                                 \\\\\n",
       "\t  933745                                                 & 069329                                                  & MIRAVANT MEDICAL TECHNOLOGIES                           & BARTLETT FMRS BK OHIO                                   & 69329P                                                 \\\\\n",
       "\t 1065331                                                 & 019411                                                  & ATI TECHNOLOGIES INC                                    & ALLIED PRODS CORP DEL                                   & 194110                                                 \\\\\n",
       "\t 1445625                                                 & 065338                                                  & NEXAIRA WIRELESS INC.                                   & BANK TIDEWATER VIRGINIA BEACH VA                        & 65338J                                                 \\\\\n",
       "\t  858043                                                 & 020050                                                  & COMMANDER RESOURCES LTD                                 & ALLY MEDIA GROUP INC                                    & 200502                                                 \\\\\n",
       "\t  913955                                                 & 005155                                                  & AURIZON MINES LTD                                       & AD SHARK INC                                            & 05155P                                                 \\\\\n",
       "\t  891178                                                 & 002074                                                  & EPICOR SOFTWARE CORP                                    & ATI INC UTAH                                            & 020740                                                 \\\\\n",
       "\t  832324                                                 & 037937                                                  & GLOBALNET FINANCIAL COM INC                             & APPLIED GRAPHICS TECHNOLOGIES INC                       & 37937R                                                 \\\\\n",
       "\t 1030997                                                   & 002925                                                    & G WILLI FOOD INTERNATIONAL LTD                            & ABERCROMBIE \\& FITCH CO LONG TERM EQUITY OPTIONS-ZFQ-VNF & 029256                                                   \\\\\n",
       "\t 1157667                                                 & 098583                                                  & YI WAN GROUP INC                                        & BOOKTECH COM INC                                        & 98583W                                                 \\\\\n",
       "\t  947661                                                 & 025367                                                  & DIEDRICH COFFEE INC                                     & AMERICAN DIAMOND CORP                                   & 253675                                                 \\\\\n",
       "\t  870732                                                 & 002860                                                  & American Natural Energy Corp                            & ABBOTT WORSTED CO                                       & 02860R                                                 \\\\\n",
       "\t  870732                                                 & 002860                                                  & AMERICAN NATURAL ENERGY CORP                            & ABBOTT WORSTED CO                                       & 02860R                                                 \\\\\n",
       "\t  873998                                                 & 011298                                                  & INTERLOTT TECHNOLOGIES INC                              & ALAMO FINL SVCS INC                                     & 112986                                                 \\\\\n",
       "\t  839122                                                 & 026201                                                  & DREYFUS MUNICIPAL INCOME INC                            & AMERICAN FOOD HLDGS INC                                 & 26201R                                                 \\\\\n",
       "\t 1018003                                                   & 045715                                                    & INGRAM MICRO INC                                          & ASSOCIATED MTG \\& INVT CO                                & 457153                                                   \\\\\n",
       "\t 1096791                                                 & 013874                                                  & Oilsands Quest Inc                                      & ALCOGAS INC                                             & 138748                                                 \\\\\n",
       "\t 1024048                                                 & 043693                                                  & HOMELIFE INC                                            & ASH GROVE CEM CO                                        & 436938                                                 \\\\\n",
       "\t   54502                                                 & 049455                                                  & KINDER MORGAN INC                                       & ATLAS V CAP LTD                                         & 49455P                                                 \\\\\n",
       "\\end{tabular}\n"
      ],
      "text/markdown": [
       "\n",
       "cik | cusip | company_name | issuer_name | cusip_raw | \n",
       "|---|---|---|---|---|---|---|---|---|---|---|---|---|---|---|---|---|---|---|---|---|---|---|---|---|---|---|---|---|---|---|---|---|---|---|---|---|---|---|---|---|\n",
       "|  792977                                                 | 000753                                                  | ADVANCED MAGNETICS INC                                  | ABD AMERN CAP MKTS FDS INC                              | 00753P                                                  | \n",
       "|  852570                                                 | 001787                                                  | GLOBAL AXCESS CORP                                      | AMS-3 2003 LP                                           | 017874                                                  | \n",
       "|  806514                                                 | 001640                                                  | ADVANCED MATERIALS GROUP INC                            | AMCA INTL LTD                                           | 016401                                                  | \n",
       "|  806514                                                 | 001640                                                  | Advanced Materials Group, Inc.                          | AMCA INTL LTD                                           | 016401                                                  | \n",
       "| 1113423                                                 | 000797                                                  | Aeterna Zentaris Inc.                                   | ACE SECS CORP HOME EQUITY LN TR SER 2007- HE5           | 007975                                                  | \n",
       "| 1113423                                                 | 000797                                                  | AETERNA LABORATORIES INC                                | ACE SECS CORP HOME EQUITY LN TR SER 2007- HE5           | 007975                                                  | \n",
       "| 1036848                                                 | 000773                                                  | AEROCENTURY CORP                                        | ABKA INC                                                | 007737                                                  | \n",
       "|  726958                                                 | 014752                                                  | CASEYS GENERAL STORES INC                               | ALEXANDERS INC                                          | 147528                                                  | \n",
       "|  848865                                                 | 001958                                                  | ALLIED WASTE INDUSTRIES INC                             | AT/COMM INC                                             | 019589                                                  | \n",
       "|   36840                                                 | 033614                                                  | FIRST REAL ESTATE INVESTMENT TRUST OF NEW JERSEY        | ANDERSON COMPUTERS / TIDALWAVE CORP                     | 336142                                                  | \n",
       "|  943034                                                 | 045244                                                  | IMAGE SENSING SYSTEMS INC                               | ASPEN BELL LTD                                          | 45244C                                                  | \n",
       "| 1141240                                                 | 053634                                                  | LIQUIDMETAL TECHNOLOGIES INC                            | AVERY PT II CLO LTD                                     | 53634X                                                  | \n",
       "| 1141240                                                 | 053634                                                  | LIQUIDMETAL TECHNOLOGIES                                | AVERY PT II CLO LTD                                     | 53634X                                                  | \n",
       "|  840216                                                 | 042550                                                  | CALIFORNIA COASTAL COMMUNITIES INC                      | ARNHEM RES INC                                          | 42550H                                                  | \n",
       "| 1080359                                                 | 001985                                                  | ALLOY ONLINE INC                                        | AMEX GOLD BUGS INDEX-HUI                                | 019855                                                  | \n",
       "| 1080359                                                 | 001985                                                  | ALLOY  INC                                              | AMEX GOLD BUGS INDEX-HUI                                | 019855                                                  | \n",
       "|   22701                                                 | 020390                                                  | COMMUNICATIONS SYSTEMS INC                              | ALMONT SHIPPING TERMS C R INC                           | 203900                                                  | \n",
       "|  808015                                                 | 059484                                                  | MICRO IMAGING TECHNOLOGY, INC.                          | BANC OF AMER SECS AUTO TR 2006-G1                       | 59484E                                                  | \n",
       "| 1649624                                                 | 069190                                                  | Midland Exploration Inc.                                | BARTER EXCHANGE INC                                     | 691903                                                  | \n",
       "| 1044119                                                 | 001849                                                  | ALLERGY RESEARCH GROUP INC                              | A-1 CARBIDE CORP                                        | 01849R                                                  | \n",
       "|  749750                                                 | 037936                                                  | PINE VALLEY MINING CORP                                 | AQUASOL INTL GROUP INC                                  | 37936T                                                  | \n",
       "|  772372                                                 | 030205                                                  | EXIDE ELECTRONICS GROUP INC                             | AMERICAN TIDELANDS LIFE INS CO                          | 302052                                                  | \n",
       "|  933745                                                 | 069329                                                  | PDT INC /DE/                                            | BARTLETT FMRS BK OHIO                                   | 69329P                                                  | \n",
       "|  933745                                                 | 069329                                                  | MIRAVANT MEDICAL TECHNOLOGIES                           | BARTLETT FMRS BK OHIO                                   | 69329P                                                  | \n",
       "| 1065331                                                 | 019411                                                  | ATI TECHNOLOGIES INC                                    | ALLIED PRODS CORP DEL                                   | 194110                                                  | \n",
       "| 1445625                                                 | 065338                                                  | NEXAIRA WIRELESS INC.                                   | BANK TIDEWATER VIRGINIA BEACH VA                        | 65338J                                                  | \n",
       "|  858043                                                 | 020050                                                  | COMMANDER RESOURCES LTD                                 | ALLY MEDIA GROUP INC                                    | 200502                                                  | \n",
       "|  913955                                                 | 005155                                                  | AURIZON MINES LTD                                       | AD SHARK INC                                            | 05155P                                                  | \n",
       "|  891178                                                 | 002074                                                  | EPICOR SOFTWARE CORP                                    | ATI INC UTAH                                            | 020740                                                  | \n",
       "|  832324                                                 | 037937                                                  | GLOBALNET FINANCIAL COM INC                             | APPLIED GRAPHICS TECHNOLOGIES INC                       | 37937R                                                  | \n",
       "| 1030997                                                 | 002925                                                  | G WILLI FOOD INTERNATIONAL LTD                          | ABERCROMBIE & FITCH CO LONG TERM EQUITY OPTIONS-ZFQ-VNF | 029256                                                  | \n",
       "| 1157667                                                 | 098583                                                  | YI WAN GROUP INC                                        | BOOKTECH COM INC                                        | 98583W                                                  | \n",
       "|  947661                                                 | 025367                                                  | DIEDRICH COFFEE INC                                     | AMERICAN DIAMOND CORP                                   | 253675                                                  | \n",
       "|  870732                                                 | 002860                                                  | American Natural Energy Corp                            | ABBOTT WORSTED CO                                       | 02860R                                                  | \n",
       "|  870732                                                 | 002860                                                  | AMERICAN NATURAL ENERGY CORP                            | ABBOTT WORSTED CO                                       | 02860R                                                  | \n",
       "|  873998                                                 | 011298                                                  | INTERLOTT TECHNOLOGIES INC                              | ALAMO FINL SVCS INC                                     | 112986                                                  | \n",
       "|  839122                                                 | 026201                                                  | DREYFUS MUNICIPAL INCOME INC                            | AMERICAN FOOD HLDGS INC                                 | 26201R                                                  | \n",
       "| 1018003                                                 | 045715                                                  | INGRAM MICRO INC                                        | ASSOCIATED MTG & INVT CO                                | 457153                                                  | \n",
       "| 1096791                                                 | 013874                                                  | Oilsands Quest Inc                                      | ALCOGAS INC                                             | 138748                                                  | \n",
       "| 1024048                                                 | 043693                                                  | HOMELIFE INC                                            | ASH GROVE CEM CO                                        | 436938                                                  | \n",
       "|   54502                                                 | 049455                                                  | KINDER MORGAN INC                                       | ATLAS V CAP LTD                                         | 49455P                                                  | \n",
       "\n",
       "\n"
      ],
      "text/plain": [
       "   cik     cusip  company_name                                    \n",
       "1   792977 000753 ADVANCED MAGNETICS INC                          \n",
       "2   852570 001787 GLOBAL AXCESS CORP                              \n",
       "3   806514 001640 ADVANCED MATERIALS GROUP INC                    \n",
       "4   806514 001640 Advanced Materials Group, Inc.                  \n",
       "5  1113423 000797 Aeterna Zentaris Inc.                           \n",
       "6  1113423 000797 AETERNA LABORATORIES INC                        \n",
       "7  1036848 000773 AEROCENTURY CORP                                \n",
       "8   726958 014752 CASEYS GENERAL STORES INC                       \n",
       "9   848865 001958 ALLIED WASTE INDUSTRIES INC                     \n",
       "10   36840 033614 FIRST REAL ESTATE INVESTMENT TRUST OF NEW JERSEY\n",
       "11  943034 045244 IMAGE SENSING SYSTEMS INC                       \n",
       "12 1141240 053634 LIQUIDMETAL TECHNOLOGIES INC                    \n",
       "13 1141240 053634 LIQUIDMETAL TECHNOLOGIES                        \n",
       "14  840216 042550 CALIFORNIA COASTAL COMMUNITIES INC              \n",
       "15 1080359 001985 ALLOY ONLINE INC                                \n",
       "16 1080359 001985 ALLOY  INC                                      \n",
       "17   22701 020390 COMMUNICATIONS SYSTEMS INC                      \n",
       "18  808015 059484 MICRO IMAGING TECHNOLOGY, INC.                  \n",
       "19 1649624 069190 Midland Exploration Inc.                        \n",
       "20 1044119 001849 ALLERGY RESEARCH GROUP INC                      \n",
       "21  749750 037936 PINE VALLEY MINING CORP                         \n",
       "22  772372 030205 EXIDE ELECTRONICS GROUP INC                     \n",
       "23  933745 069329 PDT INC /DE/                                    \n",
       "24  933745 069329 MIRAVANT MEDICAL TECHNOLOGIES                   \n",
       "25 1065331 019411 ATI TECHNOLOGIES INC                            \n",
       "26 1445625 065338 NEXAIRA WIRELESS INC.                           \n",
       "27  858043 020050 COMMANDER RESOURCES LTD                         \n",
       "28  913955 005155 AURIZON MINES LTD                               \n",
       "29  891178 002074 EPICOR SOFTWARE CORP                            \n",
       "30  832324 037937 GLOBALNET FINANCIAL COM INC                     \n",
       "31 1030997 002925 G WILLI FOOD INTERNATIONAL LTD                  \n",
       "32 1157667 098583 YI WAN GROUP INC                                \n",
       "33  947661 025367 DIEDRICH COFFEE INC                             \n",
       "34  870732 002860 American Natural Energy Corp                    \n",
       "35  870732 002860 AMERICAN NATURAL ENERGY CORP                    \n",
       "36  873998 011298 INTERLOTT TECHNOLOGIES INC                      \n",
       "37  839122 026201 DREYFUS MUNICIPAL INCOME INC                    \n",
       "38 1018003 045715 INGRAM MICRO INC                                \n",
       "39 1096791 013874 Oilsands Quest Inc                              \n",
       "40 1024048 043693 HOMELIFE INC                                    \n",
       "41   54502 049455 KINDER MORGAN INC                               \n",
       "   issuer_name                                             cusip_raw\n",
       "1  ABD AMERN CAP MKTS FDS INC                              00753P   \n",
       "2  AMS-3 2003 LP                                           017874   \n",
       "3  AMCA INTL LTD                                           016401   \n",
       "4  AMCA INTL LTD                                           016401   \n",
       "5  ACE SECS CORP HOME EQUITY LN TR SER 2007- HE5           007975   \n",
       "6  ACE SECS CORP HOME EQUITY LN TR SER 2007- HE5           007975   \n",
       "7  ABKA INC                                                007737   \n",
       "8  ALEXANDERS INC                                          147528   \n",
       "9  AT/COMM INC                                             019589   \n",
       "10 ANDERSON COMPUTERS / TIDALWAVE CORP                     336142   \n",
       "11 ASPEN BELL LTD                                          45244C   \n",
       "12 AVERY PT II CLO LTD                                     53634X   \n",
       "13 AVERY PT II CLO LTD                                     53634X   \n",
       "14 ARNHEM RES INC                                          42550H   \n",
       "15 AMEX GOLD BUGS INDEX-HUI                                019855   \n",
       "16 AMEX GOLD BUGS INDEX-HUI                                019855   \n",
       "17 ALMONT SHIPPING TERMS C R INC                           203900   \n",
       "18 BANC OF AMER SECS AUTO TR 2006-G1                       59484E   \n",
       "19 BARTER EXCHANGE INC                                     691903   \n",
       "20 A-1 CARBIDE CORP                                        01849R   \n",
       "21 AQUASOL INTL GROUP INC                                  37936T   \n",
       "22 AMERICAN TIDELANDS LIFE INS CO                          302052   \n",
       "23 BARTLETT FMRS BK OHIO                                   69329P   \n",
       "24 BARTLETT FMRS BK OHIO                                   69329P   \n",
       "25 ALLIED PRODS CORP DEL                                   194110   \n",
       "26 BANK TIDEWATER VIRGINIA BEACH VA                        65338J   \n",
       "27 ALLY MEDIA GROUP INC                                    200502   \n",
       "28 AD SHARK INC                                            05155P   \n",
       "29 ATI INC UTAH                                            020740   \n",
       "30 APPLIED GRAPHICS TECHNOLOGIES INC                       37937R   \n",
       "31 ABERCROMBIE & FITCH CO LONG TERM EQUITY OPTIONS-ZFQ-VNF 029256   \n",
       "32 BOOKTECH COM INC                                        98583W   \n",
       "33 AMERICAN DIAMOND CORP                                   253675   \n",
       "34 ABBOTT WORSTED CO                                       02860R   \n",
       "35 ABBOTT WORSTED CO                                       02860R   \n",
       "36 ALAMO FINL SVCS INC                                     112986   \n",
       "37 AMERICAN FOOD HLDGS INC                                 26201R   \n",
       "38 ASSOCIATED MTG & INVT CO                                457153   \n",
       "39 ALCOGAS INC                                             138748   \n",
       "40 ASH GROVE CEM CO                                        436938   \n",
       "41 ATLAS V CAP LTD                                         49455P   "
      ]
     },
     "metadata": {},
     "output_type": "display_data"
    }
   ],
   "source": [
    "added_value_6s_above_10_1pad_w_issuers %>% select(cik, cusip, company_name, issuer_name, cusip_raw)"
   ]
  },
  {
   "cell_type": "code",
   "execution_count": 211,
   "metadata": {},
   "outputs": [
    {
     "name": "stderr",
     "output_type": "stream",
     "text": [
      "Joining, by = c(\"cik\", \"cusip\")\n"
     ]
    },
    {
     "data": {
      "text/html": [
       "<table>\n",
       "<thead><tr><th scope=col>cik</th><th scope=col>cusip</th><th scope=col>company_name</th><th scope=col>issuer_name</th><th scope=col>cusip_raw</th></tr></thead>\n",
       "<tbody>\n",
       "</tbody>\n",
       "</table>\n"
      ],
      "text/latex": [
       "\\begin{tabular}{r|lllll}\n",
       " cik & cusip & company\\_name & issuer\\_name & cusip\\_raw\\\\\n",
       "\\hline\n",
       "\\end{tabular}\n"
      ],
      "text/markdown": [
       "\n",
       "cik | cusip | company_name | issuer_name | cusip_raw | \n",
       "||\n",
       "\n",
       "\n"
      ],
      "text/plain": [
       "     cik cusip company_name issuer_name cusip_raw"
      ]
     },
     "metadata": {},
     "output_type": "display_data"
    }
   ],
   "source": [
    "to_analyse <- added_value_6s_above_10_1pad_w_issuers %>% select(cik, cusip, company_name, issuer_name, cusip_raw) %>% \n",
    "                anti_join(cusip_cik_exceptions %>% distinct(cik, cusip))\n",
    "to_analyse"
   ]
  },
  {
   "cell_type": "code",
   "execution_count": null,
   "metadata": {
    "collapsed": true
   },
   "outputs": [],
   "source": [
    "cols <- colnames(cusip_cik_exceptions)[colnames(cusip_cik_exceptions) %in% colnames(to_analyse)]\n",
    "cols"
   ]
  },
  {
   "cell_type": "code",
   "execution_count": null,
   "metadata": {
    "collapsed": true
   },
   "outputs": [],
   "source": [
    "row_cik <- \n",
    "row_cusip <- \n",
    "\n",
    "df <- to_analyse[to_analyse$cik == row_cik & to_analyse$cusip == row_cusip, cols]"
   ]
  },
  {
   "cell_type": "code",
   "execution_count": null,
   "metadata": {
    "collapsed": true
   },
   "outputs": [],
   "source": [
    "# See which other cusips have matched row_cik and which ones are better matches\n",
    "valid9s_above_10_w_issuers %>% filter(cik == row_cik)"
   ]
  },
  {
   "cell_type": "code",
   "execution_count": null,
   "metadata": {
    "collapsed": true
   },
   "outputs": [],
   "source": [
    "# See which other ciks have matched row_cusip and which ones are better matches\n",
    "valid9s_above_10_w_issuers %>% filter(cusip == row_cusip)"
   ]
  },
  {
   "cell_type": "code",
   "execution_count": null,
   "metadata": {
    "collapsed": true
   },
   "outputs": [],
   "source": [
    "# Search for names in edgar.filings by cik\n",
    "name_search_sql <- paste0('SELECT DISTINCT cik, company_name FROM edgar.filings WHERE cik = ', row_cik)\n",
    "tbl(pg, sql(name_search_sql))"
   ]
  },
  {
   "cell_type": "code",
   "execution_count": null,
   "metadata": {
    "collapsed": true
   },
   "outputs": [],
   "source": [
    "# Search for ciks in edgar.filings by using first few words of a company name\n",
    "company_name_str <- \"\"\n",
    "cik_search_sql <- paste0(\"SELECT DISTINCT cik, company_name FROM edgar.filings WHERE UPPER(company_name) ~ '^\", \n",
    "                         company_name_str, \"'\")\n",
    "tbl(pg, sql(cik_search_sql))"
   ]
  },
  {
   "cell_type": "code",
   "execution_count": null,
   "metadata": {
    "collapsed": true
   },
   "outputs": [],
   "source": [
    "# Try looking for cusip6's in issuers by searching by first few words of company_name\n",
    "company_name_str <- ''\n",
    "issuers %>% filter(grepl(paste0('^', company_name_str), issuer_name))"
   ]
  },
  {
   "cell_type": "code",
   "execution_count": null,
   "metadata": {
    "collapsed": true
   },
   "outputs": [],
   "source": [
    "# Try looking for cusip8's in stocknames by searching by first few words of company_name\n",
    "company_name_str <- ''\n",
    "stocknames %>% filter(grepl(paste0('^', company_name_str), comnam))"
   ]
  },
  {
   "cell_type": "code",
   "execution_count": null,
   "metadata": {
    "collapsed": true
   },
   "outputs": [],
   "source": [
    "df$valid_match <- \n",
    "df$better_cik <- \n",
    "df$better_cik_company_name <- \n",
    "df$better_cusip <- \n",
    "df$better_cusip_issuer_name <-\n",
    "df$better_cusip_issuer_adl <- \n",
    "df$better_cusip6 <- \n",
    "df$better_cusip6_issuer_name <-\n",
    "df$better_cusip6_issuer_adl <-\n",
    "df$better_cusip8 <- \n",
    "df$better_cusip8_comnam <- \n",
    "df$other_reason <- "
   ]
  },
  {
   "cell_type": "code",
   "execution_count": null,
   "metadata": {
    "collapsed": true
   },
   "outputs": [],
   "source": [
    "rs <- dbWriteTable(pg, c('edgar', 'cusip_cik_exceptions'), df, row.names = FALSE, append = TRUE,\n",
    "                   encoding = \"latin1\")"
   ]
  },
  {
   "cell_type": "markdown",
   "metadata": {},
   "source": [
    "## 16. One-padded 6-digit cusips which map only to `stocknames`\n",
    "\n",
    "Here, we again do the cases which just map to stocknames. "
   ]
  },
  {
   "cell_type": "code",
   "execution_count": 214,
   "metadata": {},
   "outputs": [
    {
     "name": "stderr",
     "output_type": "stream",
     "text": [
      "Joining, by = c(\"cik\", \"cusip_raw\", \"company_name\", \"cusip6\", \"cusip\")\n"
     ]
    }
   ],
   "source": [
    "added_value_6s_above_10_1pad_no_issuers <- added_value_6s_above_10_1pad %>%\n",
    "                                            anti_join(added_value_6s_above_10_1pad_w_issuers)\n",
    "\n",
    "\n",
    "added_value_6s_above_10_1pad_stocknames <- added_value_6s_above_10_1pad_no_issuers %>%\n",
    "    inner_join(stocknames %>% mutate(cusip6 = substr(ncusip, 1, 6)), by = 'cusip6')"
   ]
  },
  {
   "cell_type": "code",
   "execution_count": 216,
   "metadata": {},
   "outputs": [
    {
     "name": "stderr",
     "output_type": "stream",
     "text": [
      "Joining, by = c(\"cik\", \"cusip\")\n"
     ]
    },
    {
     "data": {
      "text/html": [
       "<table>\n",
       "<thead><tr><th scope=col>cik</th><th scope=col>cusip</th><th scope=col>company_name</th><th scope=col>issuer_name</th><th scope=col>cusip_raw</th></tr></thead>\n",
       "<tbody>\n",
       "</tbody>\n",
       "</table>\n"
      ],
      "text/latex": [
       "\\begin{tabular}{r|lllll}\n",
       " cik & cusip & company\\_name & issuer\\_name & cusip\\_raw\\\\\n",
       "\\hline\n",
       "\\end{tabular}\n"
      ],
      "text/markdown": [
       "\n",
       "cik | cusip | company_name | issuer_name | cusip_raw | \n",
       "||\n",
       "\n",
       "\n"
      ],
      "text/plain": [
       "     cik cusip company_name issuer_name cusip_raw"
      ]
     },
     "metadata": {},
     "output_type": "display_data"
    }
   ],
   "source": [
    "to_analyse <- added_value_6s_above_10_1pad_stocknames %>% select(cik, cusip.x, company_name, comnam, cusip_raw) %>% \n",
    "                rename(cusip = cusip.x, issuer_name = comnam) %>% anti_join(cusip_cik_exceptions %>% distinct(cik, cusip))\n",
    "to_analyse"
   ]
  },
  {
   "cell_type": "code",
   "execution_count": null,
   "metadata": {
    "collapsed": true
   },
   "outputs": [],
   "source": [
    "cols <- colnames(cusip_cik_exceptions)[colnames(cusip_cik_exceptions) %in% colnames(to_analyse)]\n",
    "cols"
   ]
  },
  {
   "cell_type": "code",
   "execution_count": null,
   "metadata": {
    "collapsed": true
   },
   "outputs": [],
   "source": [
    "row_cik <- \n",
    "row_cusip <- \n",
    "\n",
    "df <- to_analyse[to_analyse$cik == row_cik & to_analyse$cusip == row_cusip, cols]"
   ]
  },
  {
   "cell_type": "code",
   "execution_count": null,
   "metadata": {
    "collapsed": true
   },
   "outputs": [],
   "source": [
    "# See which other cusips have matched row_cik and which ones are better matches\n",
    "valid9s_above_10_w_issuers %>% filter(cik == row_cik)"
   ]
  },
  {
   "cell_type": "code",
   "execution_count": null,
   "metadata": {
    "collapsed": true
   },
   "outputs": [],
   "source": [
    "# See which other ciks have matched row_cusip and which ones are better matches\n",
    "valid9s_above_10_w_issuers %>% filter(cusip == row_cusip)"
   ]
  },
  {
   "cell_type": "code",
   "execution_count": null,
   "metadata": {
    "collapsed": true
   },
   "outputs": [],
   "source": [
    "# Search for names in edgar.filings by cik\n",
    "name_search_sql <- paste0('SELECT DISTINCT cik, company_name FROM edgar.filings WHERE cik = ', row_cik)\n",
    "tbl(pg, sql(name_search_sql))"
   ]
  },
  {
   "cell_type": "code",
   "execution_count": null,
   "metadata": {
    "collapsed": true
   },
   "outputs": [],
   "source": [
    "# Search for ciks in edgar.filings by using first few words of a company name\n",
    "company_name_str <- \"\"\n",
    "cik_search_sql <- paste0(\"SELECT DISTINCT cik, company_name FROM edgar.filings WHERE UPPER(company_name) ~ '^\", \n",
    "                         company_name_str, \"'\")\n",
    "tbl(pg, sql(cik_search_sql))"
   ]
  },
  {
   "cell_type": "code",
   "execution_count": null,
   "metadata": {
    "collapsed": true
   },
   "outputs": [],
   "source": [
    "# Try looking for cusip6's in issuers by searching by first few words of company_name\n",
    "company_name_str <- ''\n",
    "issuers %>% filter(grepl(paste0('^', company_name_str), issuer_name))"
   ]
  },
  {
   "cell_type": "code",
   "execution_count": null,
   "metadata": {
    "collapsed": true
   },
   "outputs": [],
   "source": [
    "# Try looking for cusip8's in stocknames by searching by first few words of company_name\n",
    "company_name_str <- ''\n",
    "stocknames %>% filter(grepl(paste0('^', company_name_str), comnam))"
   ]
  },
  {
   "cell_type": "code",
   "execution_count": null,
   "metadata": {
    "collapsed": true
   },
   "outputs": [],
   "source": [
    "df$valid_match <- \n",
    "df$better_cik <- \n",
    "df$better_cik_company_name <- \n",
    "df$better_cusip <- \n",
    "df$better_cusip_issuer_name <-\n",
    "df$better_cusip_issuer_adl <- \n",
    "df$better_cusip6 <- \n",
    "df$better_cusip6_issuer_name <-\n",
    "df$better_cusip6_issuer_adl <-\n",
    "df$better_cusip8 <- \n",
    "df$better_cusip8_comnam <- \n",
    "df$other_reason <- "
   ]
  },
  {
   "cell_type": "code",
   "execution_count": null,
   "metadata": {
    "collapsed": true
   },
   "outputs": [],
   "source": [
    "rs <- dbWriteTable(pg, c('edgar', 'cusip_cik_exceptions'), df, row.names = FALSE, append = TRUE,\n",
    "                   encoding = \"latin1\")"
   ]
  },
  {
   "cell_type": "markdown",
   "metadata": {},
   "source": [
    "## 17. Two-Padded 6-digit cusips\n",
    "\n",
    "Here, we analyse 6-digit cusips padded with two zeros on the left (ie. if `cusip_raw` is '436938', we take `cusip` to be '00436938'). "
   ]
  },
  {
   "cell_type": "code",
   "execution_count": 220,
   "metadata": {},
   "outputs": [
    {
     "name": "stderr",
     "output_type": "stream",
     "text": [
      "Joining, by = \"cusip6\"\n"
     ]
    }
   ],
   "source": [
    "valid6s_above_10_2pad <- valid6s_above_10 %>% rename(cusip_raw = cusip) %>%\n",
    "    mutate(cusip = paste0('00', cusip_raw)) %>% mutate(cusip6 = substr(cusip,  1, 6), ncusip = cusip)\n",
    "\n",
    "\n",
    "added_value_6s_above_10_2pad <- valid6s_above_10_2pad %>% anti_join(valid9s_above_10, by = c('cik', 'cusip6')) %>%\n",
    "    anti_join(valid8s_above_10, by = c('cik', 'cusip6')) %>%\n",
    "    anti_join(valid8s_above_10_padded, by = c('cik', 'cusip6')) %>%\n",
    "    anti_join(valid7s_above_10, by = c('cik', 'cusip6')) %>%\n",
    "    anti_join(valid7s_above_10_1pad, by = c('cik', 'cusip6')) %>%\n",
    "    anti_join(valid7s_above_10_2pad, by = c('cik', 'cusip6')) %>%\n",
    "    anti_join(added_value_6s_above_10, by = c('cik', 'cusip6')) %>%\n",
    "    anti_join(added_value_6s_above_10_1pad, by = c('cik', 'cusip6'))\n",
    "\n",
    "\n",
    "\n",
    "\n",
    "added_value_6s_above_10_2pad_w_issuers <- added_value_6s_above_10_2pad %>% inner_join(issuers)\n"
   ]
  },
  {
   "cell_type": "code",
   "execution_count": 221,
   "metadata": {},
   "outputs": [
    {
     "name": "stderr",
     "output_type": "stream",
     "text": [
      "Joining, by = c(\"cik\", \"cusip\")\n"
     ]
    },
    {
     "data": {
      "text/html": [
       "<table>\n",
       "<thead><tr><th scope=col>cik</th><th scope=col>cusip</th><th scope=col>company_name</th><th scope=col>issuer_name</th><th scope=col>cusip_raw</th></tr></thead>\n",
       "<tbody>\n",
       "</tbody>\n",
       "</table>\n"
      ],
      "text/latex": [
       "\\begin{tabular}{r|lllll}\n",
       " cik & cusip & company\\_name & issuer\\_name & cusip\\_raw\\\\\n",
       "\\hline\n",
       "\\end{tabular}\n"
      ],
      "text/markdown": [
       "\n",
       "cik | cusip | company_name | issuer_name | cusip_raw | \n",
       "||\n",
       "\n",
       "\n"
      ],
      "text/plain": [
       "     cik cusip company_name issuer_name cusip_raw"
      ]
     },
     "metadata": {},
     "output_type": "display_data"
    }
   ],
   "source": [
    "to_analyse <- added_value_6s_above_10_2pad_w_issuers %>% select(cik, cusip, company_name, issuer_name, cusip_raw) %>% \n",
    "                anti_join(cusip_cik_exceptions %>% distinct(cik, cusip))\n",
    "to_analyse"
   ]
  },
  {
   "cell_type": "code",
   "execution_count": null,
   "metadata": {
    "collapsed": true
   },
   "outputs": [],
   "source": [
    "cols <- colnames(cusip_cik_exceptions)[colnames(cusip_cik_exceptions) %in% colnames(to_analyse)]\n",
    "cols"
   ]
  },
  {
   "cell_type": "code",
   "execution_count": null,
   "metadata": {
    "collapsed": true
   },
   "outputs": [],
   "source": [
    "row_cik <- \n",
    "row_cusip <- \n",
    "\n",
    "df <- to_analyse[to_analyse$cik == row_cik & to_analyse$cusip == row_cusip, cols]"
   ]
  },
  {
   "cell_type": "code",
   "execution_count": null,
   "metadata": {
    "collapsed": true
   },
   "outputs": [],
   "source": [
    "# See which other cusips have matched row_cik and which ones are better matches\n",
    "valid9s_above_10_w_issuers %>% filter(cik == row_cik)"
   ]
  },
  {
   "cell_type": "code",
   "execution_count": null,
   "metadata": {
    "collapsed": true
   },
   "outputs": [],
   "source": [
    "# See which other ciks have matched row_cusip and which ones are better matches\n",
    "valid9s_above_10_w_issuers %>% filter(cusip == row_cusip)"
   ]
  },
  {
   "cell_type": "code",
   "execution_count": null,
   "metadata": {
    "collapsed": true
   },
   "outputs": [],
   "source": [
    "# Search for names in edgar.filings by cik\n",
    "name_search_sql <- paste0('SELECT DISTINCT cik, company_name FROM edgar.filings WHERE cik = ', row_cik)\n",
    "tbl(pg, sql(name_search_sql))"
   ]
  },
  {
   "cell_type": "code",
   "execution_count": null,
   "metadata": {
    "collapsed": true
   },
   "outputs": [],
   "source": [
    "# Search for ciks in edgar.filings by using first few words of a company name\n",
    "company_name_str <- \"\"\n",
    "cik_search_sql <- paste0(\"SELECT DISTINCT cik, company_name FROM edgar.filings WHERE UPPER(company_name) ~ '^\", \n",
    "                         company_name_str, \"'\")\n",
    "tbl(pg, sql(cik_search_sql))"
   ]
  },
  {
   "cell_type": "code",
   "execution_count": null,
   "metadata": {
    "collapsed": true
   },
   "outputs": [],
   "source": [
    "# Try looking for cusip6's in issuers by searching by first few words of company_name\n",
    "company_name_str <- ''\n",
    "issuers %>% filter(grepl(paste0('^', company_name_str), issuer_name))"
   ]
  },
  {
   "cell_type": "code",
   "execution_count": null,
   "metadata": {
    "collapsed": true
   },
   "outputs": [],
   "source": [
    "# Try looking for cusip8's in stocknames by searching by first few words of company_name\n",
    "company_name_str <- ''\n",
    "stocknames %>% filter(grepl(paste0('^', company_name_str), comnam))"
   ]
  },
  {
   "cell_type": "code",
   "execution_count": null,
   "metadata": {
    "collapsed": true
   },
   "outputs": [],
   "source": [
    "df$valid_match <- \n",
    "df$better_cik <- \n",
    "df$better_cik_company_name <- \n",
    "df$better_cusip <- \n",
    "df$better_cusip_issuer_name <-\n",
    "df$better_cusip_issuer_adl <- \n",
    "df$better_cusip6 <- \n",
    "df$better_cusip6_issuer_name <-\n",
    "df$better_cusip6_issuer_adl <-\n",
    "df$better_cusip8 <- \n",
    "df$better_cusip8_comnam <- \n",
    "df$other_reason <- "
   ]
  },
  {
   "cell_type": "code",
   "execution_count": null,
   "metadata": {
    "collapsed": true
   },
   "outputs": [],
   "source": [
    "rs <- dbWriteTable(pg, c('edgar', 'cusip_cik_exceptions'), df, row.names = FALSE, append = TRUE,\n",
    "                   encoding = \"latin1\")"
   ]
  },
  {
   "cell_type": "markdown",
   "metadata": {},
   "source": [
    "## 18. Two-padded cusips which map just to `stocknames`"
   ]
  },
  {
   "cell_type": "code",
   "execution_count": 223,
   "metadata": {},
   "outputs": [
    {
     "name": "stderr",
     "output_type": "stream",
     "text": [
      "Joining, by = c(\"cik\", \"cusip_raw\", \"company_name\", \"cusip6\", \"cusip\", \"ncusip\")\n"
     ]
    }
   ],
   "source": [
    "added_value_6s_above_10_2pad_no_issuers <- added_value_6s_above_10_2pad %>%\n",
    "    anti_join(added_value_6s_above_10_2pad_w_issuers)\n",
    "\n",
    "\n",
    "added_value_6s_above_10_2pad_stocknames <- added_value_6s_above_10_2pad_no_issuers %>%\n",
    "    inner_join(stocknames %>% mutate(cusip6 = substr(ncusip, 1, 6)), by = 'cusip6')"
   ]
  },
  {
   "cell_type": "code",
   "execution_count": 224,
   "metadata": {},
   "outputs": [
    {
     "name": "stderr",
     "output_type": "stream",
     "text": [
      "Warning message in cbind(parts$left, ellip_h, parts$right, deparse.level = 0L):\n",
      "\"number of rows of result is not a multiple of vector length (arg 2)\"Warning message in cbind(parts$left, ellip_h, parts$right, deparse.level = 0L):\n",
      "\"number of rows of result is not a multiple of vector length (arg 2)\"Warning message in cbind(parts$left, ellip_h, parts$right, deparse.level = 0L):\n",
      "\"number of rows of result is not a multiple of vector length (arg 2)\"Warning message in cbind(parts$left, ellip_h, parts$right, deparse.level = 0L):\n",
      "\"number of rows of result is not a multiple of vector length (arg 2)\""
     ]
    },
    {
     "data": {
      "text/html": [
       "<table>\n",
       "<thead><tr><th scope=col>cik</th><th scope=col>cusip_raw</th><th scope=col>company_name</th><th scope=col>cusip6</th><th scope=col>cusip.x</th><th scope=col>ncusip.x</th><th scope=col>permno</th><th scope=col>permco</th><th scope=col>namedt</th><th scope=col>nameenddt</th><th scope=col>...</th><th scope=col>ticker</th><th scope=col>comnam</th><th scope=col>hexcd</th><th scope=col>exchcd</th><th scope=col>siccd</th><th scope=col>shrcd</th><th scope=col>shrcls</th><th scope=col>st_date</th><th scope=col>end_date</th><th scope=col>namedum</th></tr></thead>\n",
       "<tbody>\n",
       "</tbody>\n",
       "</table>\n"
      ],
      "text/latex": [
       "\\begin{tabular}{r|llllllllllllllllllllll}\n",
       " cik & cusip\\_raw & company\\_name & cusip6 & cusip.x & ncusip.x & permno & permco & namedt & nameenddt & ... & ticker & comnam & hexcd & exchcd & siccd & shrcd & shrcls & st\\_date & end\\_date & namedum\\\\\n",
       "\\hline\n",
       "\\end{tabular}\n"
      ],
      "text/markdown": [
       "\n",
       "cik | cusip_raw | company_name | cusip6 | cusip.x | ncusip.x | permno | permco | namedt | nameenddt | ... | ticker | comnam | hexcd | exchcd | siccd | shrcd | shrcls | st_date | end_date | namedum | \n",
       "||\n",
       "\n",
       "\n"
      ],
      "text/plain": [
       "     cik cusip_raw company_name cusip6 cusip.x ncusip.x permno permco namedt\n",
       "     nameenddt ... ticker comnam hexcd exchcd siccd shrcd shrcls st_date\n",
       "     end_date namedum"
      ]
     },
     "metadata": {},
     "output_type": "display_data"
    }
   ],
   "source": [
    "added_value_6s_above_10_2pad_stocknames %>% head(5)"
   ]
  },
  {
   "cell_type": "code",
   "execution_count": 225,
   "metadata": {},
   "outputs": [
    {
     "name": "stderr",
     "output_type": "stream",
     "text": [
      "Joining, by = c(\"cik\", \"cusip\")\n"
     ]
    },
    {
     "data": {
      "text/html": [
       "<table>\n",
       "<thead><tr><th scope=col>cik</th><th scope=col>cusip</th><th scope=col>company_name</th><th scope=col>issuer_name</th><th scope=col>cusip_raw</th></tr></thead>\n",
       "<tbody>\n",
       "</tbody>\n",
       "</table>\n"
      ],
      "text/latex": [
       "\\begin{tabular}{r|lllll}\n",
       " cik & cusip & company\\_name & issuer\\_name & cusip\\_raw\\\\\n",
       "\\hline\n",
       "\\end{tabular}\n"
      ],
      "text/markdown": [
       "\n",
       "cik | cusip | company_name | issuer_name | cusip_raw | \n",
       "||\n",
       "\n",
       "\n"
      ],
      "text/plain": [
       "     cik cusip company_name issuer_name cusip_raw"
      ]
     },
     "metadata": {},
     "output_type": "display_data"
    }
   ],
   "source": [
    "to_analyse <- added_value_6s_above_10_2pad_stocknames %>% select(cik, cusip.x, company_name, comnam, cusip_raw) %>% \n",
    "                rename(cusip = cusip.x, issuer_name = comnam) %>% anti_join(cusip_cik_exceptions %>% distinct(cik, cusip))\n",
    "to_analyse"
   ]
  },
  {
   "cell_type": "code",
   "execution_count": null,
   "metadata": {
    "collapsed": true
   },
   "outputs": [],
   "source": [
    "cols <- colnames(cusip_cik_exceptions)[colnames(cusip_cik_exceptions) %in% colnames(to_analyse)]\n",
    "cols"
   ]
  },
  {
   "cell_type": "code",
   "execution_count": null,
   "metadata": {
    "collapsed": true
   },
   "outputs": [],
   "source": [
    "row_cik <- \n",
    "row_cusip <- \n",
    "\n",
    "df <- to_analyse[to_analyse$cik == row_cik & to_analyse$cusip == row_cusip, cols]"
   ]
  },
  {
   "cell_type": "code",
   "execution_count": null,
   "metadata": {
    "collapsed": true
   },
   "outputs": [],
   "source": [
    "# See which other cusips have matched row_cik and which ones are better matches\n",
    "valid9s_above_10_w_issuers %>% filter(cik == row_cik)"
   ]
  },
  {
   "cell_type": "code",
   "execution_count": null,
   "metadata": {
    "collapsed": true
   },
   "outputs": [],
   "source": [
    "# See which other ciks have matched row_cusip and which ones are better matches\n",
    "valid9s_above_10_w_issuers %>% filter(cusip == row_cusip)"
   ]
  },
  {
   "cell_type": "code",
   "execution_count": null,
   "metadata": {
    "collapsed": true
   },
   "outputs": [],
   "source": [
    "# Search for names in edgar.filings by cik\n",
    "name_search_sql <- paste0('SELECT DISTINCT cik, company_name FROM edgar.filings WHERE cik = ', row_cik)\n",
    "tbl(pg, sql(name_search_sql))"
   ]
  },
  {
   "cell_type": "code",
   "execution_count": null,
   "metadata": {
    "collapsed": true
   },
   "outputs": [],
   "source": [
    "# Search for ciks in edgar.filings by using first few words of a company name\n",
    "company_name_str <- \"\"\n",
    "cik_search_sql <- paste0(\"SELECT DISTINCT cik, company_name FROM edgar.filings WHERE UPPER(company_name) ~ '^\", \n",
    "                         company_name_str, \"'\")\n",
    "tbl(pg, sql(cik_search_sql))"
   ]
  },
  {
   "cell_type": "code",
   "execution_count": null,
   "metadata": {
    "collapsed": true
   },
   "outputs": [],
   "source": [
    "# Try looking for cusip6's in issuers by searching by first few words of company_name\n",
    "company_name_str <- ''\n",
    "issuers %>% filter(grepl(paste0('^', company_name_str), issuer_name))"
   ]
  },
  {
   "cell_type": "code",
   "execution_count": null,
   "metadata": {
    "collapsed": true
   },
   "outputs": [],
   "source": [
    "# Try looking for cusip8's in stocknames by searching by first few words of company_name\n",
    "company_name_str <- ''\n",
    "stocknames %>% filter(grepl(paste0('^', company_name_str), comnam))"
   ]
  },
  {
   "cell_type": "code",
   "execution_count": null,
   "metadata": {
    "collapsed": true
   },
   "outputs": [],
   "source": [
    "df$valid_match <- \n",
    "df$better_cik <- \n",
    "df$better_cik_company_name <- \n",
    "df$better_cusip <- \n",
    "df$better_cusip_issuer_name <-\n",
    "df$better_cusip_issuer_adl <- \n",
    "df$better_cusip6 <- \n",
    "df$better_cusip6_issuer_name <-\n",
    "df$better_cusip6_issuer_adl <-\n",
    "df$better_cusip8 <- \n",
    "df$better_cusip8_comnam <- \n",
    "df$other_reason <- "
   ]
  },
  {
   "cell_type": "code",
   "execution_count": null,
   "metadata": {
    "collapsed": true
   },
   "outputs": [],
   "source": [
    "rs <- dbWriteTable(pg, c('edgar', 'cusip_cik_exceptions'), df, row.names = FALSE, append = TRUE,\n",
    "                   encoding = \"latin1\")"
   ]
  },
  {
   "cell_type": "markdown",
   "metadata": {},
   "source": [
    "## 19. Three-padded 6-digit cusips\n",
    "\n",
    "In this section, we analyse three-padded 6-digit cusips, that is 6-digit cusips padded with three zeros on the left (ie. if `cusip_raw` is '436938', we take `cusip` to be '000436938'). "
   ]
  },
  {
   "cell_type": "code",
   "execution_count": 226,
   "metadata": {},
   "outputs": [
    {
     "name": "stderr",
     "output_type": "stream",
     "text": [
      "Joining, by = \"cusip6\"\n"
     ]
    }
   ],
   "source": [
    "valid6s_above_10_3pad <- valid6s_above_10 %>% rename(cusip_raw = cusip) %>%\n",
    "    mutate(cusip = paste0('000', cusip_raw)) %>% mutate(cusip6 = substr(cusip,  1, 6), ncusip = substr(cusip, 1, 8))\n",
    "\n",
    "\n",
    "added_value_6s_above_10_3pad <- valid6s_above_10_3pad %>% anti_join(valid9s_above_10, by = c('cik', 'cusip')) %>%\n",
    "    anti_join(valid8s_above_10, by = c('cik', 'cusip6')) %>%\n",
    "    anti_join(valid8s_above_10_padded, by = c('cik', 'cusip6')) %>%\n",
    "    anti_join(valid7s_above_10, by = c('cik', 'cusip6')) %>%\n",
    "    anti_join(valid7s_above_10_1pad, by = c('cik', 'cusip6')) %>%\n",
    "    anti_join(valid7s_above_10_2pad, by = c('cik', 'cusip6')) %>%\n",
    "    anti_join(added_value_6s_above_10, by = c('cik', 'cusip6')) %>%\n",
    "    anti_join(added_value_6s_above_10_1pad, by = c('cik', 'cusip6')) %>%\n",
    "    anti_join(added_value_6s_above_10_2pad, by = c('cik', 'cusip6'))\n",
    "\n",
    "\n",
    "added_value_6s_above_10_3pad_w_issuers <- added_value_6s_above_10_3pad %>% inner_join(issuers)\n"
   ]
  },
  {
   "cell_type": "code",
   "execution_count": 227,
   "metadata": {},
   "outputs": [
    {
     "name": "stderr",
     "output_type": "stream",
     "text": [
      "Joining, by = c(\"cik\", \"cusip\")\n"
     ]
    },
    {
     "data": {
      "text/html": [
       "<table>\n",
       "<thead><tr><th scope=col>cik</th><th scope=col>cusip</th><th scope=col>company_name</th><th scope=col>issuer_name</th><th scope=col>cusip_raw</th></tr></thead>\n",
       "<tbody>\n",
       "</tbody>\n",
       "</table>\n"
      ],
      "text/latex": [
       "\\begin{tabular}{r|lllll}\n",
       " cik & cusip & company\\_name & issuer\\_name & cusip\\_raw\\\\\n",
       "\\hline\n",
       "\\end{tabular}\n"
      ],
      "text/markdown": [
       "\n",
       "cik | cusip | company_name | issuer_name | cusip_raw | \n",
       "||\n",
       "\n",
       "\n"
      ],
      "text/plain": [
       "     cik cusip company_name issuer_name cusip_raw"
      ]
     },
     "metadata": {},
     "output_type": "display_data"
    }
   ],
   "source": [
    "to_analyse <- added_value_6s_above_10_3pad_w_issuers %>% select(cik, cusip, company_name, issuer_name, cusip_raw) %>% \n",
    "                anti_join(cusip_cik_exceptions %>% distinct(cik, cusip))\n",
    "to_analyse"
   ]
  },
  {
   "cell_type": "code",
   "execution_count": null,
   "metadata": {
    "collapsed": true
   },
   "outputs": [],
   "source": [
    "cols <- colnames(cusip_cik_exceptions)[colnames(cusip_cik_exceptions) %in% colnames(to_analyse)]\n",
    "cols"
   ]
  },
  {
   "cell_type": "code",
   "execution_count": null,
   "metadata": {
    "collapsed": true
   },
   "outputs": [],
   "source": [
    "row_cik <- \n",
    "row_cusip <- \n",
    "\n",
    "df <- to_analyse[to_analyse$cik == row_cik & to_analyse$cusip == row_cusip, cols]"
   ]
  },
  {
   "cell_type": "code",
   "execution_count": null,
   "metadata": {
    "collapsed": true
   },
   "outputs": [],
   "source": [
    "# See which other cusips have matched row_cik and which ones are better matches\n",
    "valid9s_above_10_w_issuers %>% filter(cik == row_cik)"
   ]
  },
  {
   "cell_type": "code",
   "execution_count": null,
   "metadata": {
    "collapsed": true
   },
   "outputs": [],
   "source": [
    "# See which other ciks have matched row_cusip and which ones are better matches\n",
    "valid9s_above_10_w_issuers %>% filter(cusip == row_cusip)"
   ]
  },
  {
   "cell_type": "code",
   "execution_count": null,
   "metadata": {
    "collapsed": true
   },
   "outputs": [],
   "source": [
    "# Search for names in edgar.filings by cik\n",
    "name_search_sql <- paste0('SELECT DISTINCT cik, company_name FROM edgar.filings WHERE cik = ', row_cik)\n",
    "tbl(pg, sql(name_search_sql))"
   ]
  },
  {
   "cell_type": "code",
   "execution_count": null,
   "metadata": {
    "collapsed": true
   },
   "outputs": [],
   "source": [
    "# Search for ciks in edgar.filings by using first few words of a company name\n",
    "company_name_str <- \"\"\n",
    "cik_search_sql <- paste0(\"SELECT DISTINCT cik, company_name FROM edgar.filings WHERE UPPER(company_name) ~ '^\", \n",
    "                         company_name_str, \"'\")\n",
    "tbl(pg, sql(cik_search_sql))"
   ]
  },
  {
   "cell_type": "code",
   "execution_count": null,
   "metadata": {
    "collapsed": true
   },
   "outputs": [],
   "source": [
    "# Try looking for cusip6's in issuers by searching by first few words of company_name\n",
    "company_name_str <- ''\n",
    "issuers %>% filter(grepl(paste0('^', company_name_str), issuer_name))"
   ]
  },
  {
   "cell_type": "code",
   "execution_count": null,
   "metadata": {
    "collapsed": true
   },
   "outputs": [],
   "source": [
    "# Try looking for cusip8's in stocknames by searching by first few words of company_name\n",
    "company_name_str <- ''\n",
    "stocknames %>% filter(grepl(paste0('^', company_name_str), comnam))"
   ]
  },
  {
   "cell_type": "code",
   "execution_count": null,
   "metadata": {
    "collapsed": true
   },
   "outputs": [],
   "source": [
    "df$valid_match <- \n",
    "df$better_cik <- \n",
    "df$better_cik_company_name <- \n",
    "df$better_cusip <- \n",
    "df$better_cusip_issuer_name <-\n",
    "df$better_cusip_issuer_adl <- \n",
    "df$better_cusip6 <- \n",
    "df$better_cusip6_issuer_name <-\n",
    "df$better_cusip6_issuer_adl <-\n",
    "df$better_cusip8 <- \n",
    "df$better_cusip8_comnam <- \n",
    "df$other_reason <- "
   ]
  },
  {
   "cell_type": "code",
   "execution_count": null,
   "metadata": {
    "collapsed": true
   },
   "outputs": [],
   "source": [
    "rs <- dbWriteTable(pg, c('edgar', 'cusip_cik_exceptions'), df, row.names = FALSE, append = TRUE,\n",
    "                   encoding = \"latin1\")"
   ]
  },
  {
   "cell_type": "markdown",
   "metadata": {},
   "source": [
    "## 20. Three-padded 6-digit cusips which map solely to `crsp.stocknames`\n",
    "\n",
    "Finally, we analyse the three-padded cases which map soley to `stocknames`"
   ]
  },
  {
   "cell_type": "code",
   "execution_count": 228,
   "metadata": {},
   "outputs": [
    {
     "name": "stderr",
     "output_type": "stream",
     "text": [
      "Joining, by = c(\"cik\", \"cusip_raw\", \"company_name\", \"cusip6\", \"cusip\", \"ncusip\")\n"
     ]
    }
   ],
   "source": [
    "added_value_6s_above_10_3pad_no_issuers <- added_value_6s_above_10_3pad %>%\n",
    "    anti_join(added_value_6s_above_10_3pad_w_issuers)\n",
    "\n",
    "\n",
    "added_value_6s_above_10_3pad_stocknames <- added_value_6s_above_10_3pad_no_issuers %>%\n",
    "    inner_join(stocknames %>% mutate(cusip6 = substr(ncusip, 1, 6)), by = 'cusip6')"
   ]
  },
  {
   "cell_type": "code",
   "execution_count": 230,
   "metadata": {},
   "outputs": [
    {
     "name": "stderr",
     "output_type": "stream",
     "text": [
      "Joining, by = c(\"cik\", \"cusip\")\n"
     ]
    },
    {
     "data": {
      "text/html": [
       "<table>\n",
       "<thead><tr><th scope=col>cik</th><th scope=col>cusip</th><th scope=col>company_name</th><th scope=col>issuer_name</th><th scope=col>cusip_raw</th></tr></thead>\n",
       "<tbody>\n",
       "</tbody>\n",
       "</table>\n"
      ],
      "text/latex": [
       "\\begin{tabular}{r|lllll}\n",
       " cik & cusip & company\\_name & issuer\\_name & cusip\\_raw\\\\\n",
       "\\hline\n",
       "\\end{tabular}\n"
      ],
      "text/markdown": [
       "\n",
       "cik | cusip | company_name | issuer_name | cusip_raw | \n",
       "||\n",
       "\n",
       "\n"
      ],
      "text/plain": [
       "     cik cusip company_name issuer_name cusip_raw"
      ]
     },
     "metadata": {},
     "output_type": "display_data"
    }
   ],
   "source": [
    "to_analyse <- added_value_6s_above_10_pad_stocknames %>% select(cik, cusip.x, company_name, comnam, cusip_raw) %>% \n",
    "                rename(cusip = cusip.x, issuer_name = comnam) %>% anti_join(cusip_cik_exceptions %>% distinct(cik, cusip))\n",
    "to_analyse"
   ]
  },
  {
   "cell_type": "code",
   "execution_count": null,
   "metadata": {
    "collapsed": true
   },
   "outputs": [],
   "source": [
    "cols <- colnames(cusip_cik_exceptions)[colnames(cusip_cik_exceptions) %in% colnames(to_analyse)]\n",
    "cols"
   ]
  },
  {
   "cell_type": "code",
   "execution_count": null,
   "metadata": {
    "collapsed": true
   },
   "outputs": [],
   "source": [
    "row_cik <- \n",
    "row_cusip <- \n",
    "\n",
    "df <- to_analyse[to_analyse$cik == row_cik & to_analyse$cusip == row_cusip, cols]"
   ]
  },
  {
   "cell_type": "code",
   "execution_count": null,
   "metadata": {
    "collapsed": true
   },
   "outputs": [],
   "source": [
    "# See which other cusips have matched row_cik and which ones are better matches\n",
    "valid9s_above_10_w_issuers %>% filter(cik == row_cik)"
   ]
  },
  {
   "cell_type": "code",
   "execution_count": null,
   "metadata": {
    "collapsed": true
   },
   "outputs": [],
   "source": [
    "# See which other ciks have matched row_cusip and which ones are better matches\n",
    "valid9s_above_10_w_issuers %>% filter(cusip == row_cusip)"
   ]
  },
  {
   "cell_type": "code",
   "execution_count": null,
   "metadata": {
    "collapsed": true
   },
   "outputs": [],
   "source": [
    "# Search for names in edgar.filings by cik\n",
    "name_search_sql <- paste0('SELECT DISTINCT cik, company_name FROM edgar.filings WHERE cik = ', row_cik)\n",
    "tbl(pg, sql(name_search_sql))"
   ]
  },
  {
   "cell_type": "code",
   "execution_count": null,
   "metadata": {
    "collapsed": true
   },
   "outputs": [],
   "source": [
    "# Search for ciks in edgar.filings by using first few words of a company name\n",
    "company_name_str <- \"\"\n",
    "cik_search_sql <- paste0(\"SELECT DISTINCT cik, company_name FROM edgar.filings WHERE UPPER(company_name) ~ '^\", \n",
    "                         company_name_str, \"'\")\n",
    "tbl(pg, sql(cik_search_sql))"
   ]
  },
  {
   "cell_type": "code",
   "execution_count": null,
   "metadata": {
    "collapsed": true
   },
   "outputs": [],
   "source": [
    "# Try looking for cusip6's in issuers by searching by first few words of company_name\n",
    "company_name_str <- ''\n",
    "issuers %>% filter(grepl(paste0('^', company_name_str), issuer_name))"
   ]
  },
  {
   "cell_type": "code",
   "execution_count": null,
   "metadata": {
    "collapsed": true
   },
   "outputs": [],
   "source": [
    "# Try looking for cusip8's in stocknames by searching by first few words of company_name\n",
    "company_name_str <- ''\n",
    "stocknames %>% filter(grepl(paste0('^', company_name_str), comnam))"
   ]
  },
  {
   "cell_type": "code",
   "execution_count": null,
   "metadata": {
    "collapsed": true
   },
   "outputs": [],
   "source": [
    "df$valid_match <- \n",
    "df$better_cik <- \n",
    "df$better_cik_company_name <- \n",
    "df$better_cusip <- \n",
    "df$better_cusip_issuer_name <-\n",
    "df$better_cusip_issuer_adl <- \n",
    "df$better_cusip6 <- \n",
    "df$better_cusip6_issuer_name <-\n",
    "df$better_cusip6_issuer_adl <-\n",
    "df$better_cusip8 <- \n",
    "df$better_cusip8_comnam <- \n",
    "df$other_reason <- "
   ]
  },
  {
   "cell_type": "code",
   "execution_count": null,
   "metadata": {
    "collapsed": true
   },
   "outputs": [],
   "source": [
    "rs <- dbWriteTable(pg, c('edgar', 'cusip_cik_exceptions'), df, row.names = FALSE, append = TRUE,\n",
    "                   encoding = \"latin1\")"
   ]
  }
 ],
 "metadata": {
  "kernelspec": {
   "display_name": "R",
   "language": "R",
   "name": "ir"
  },
  "language_info": {
   "codemirror_mode": "r",
   "file_extension": ".r",
   "mimetype": "text/x-r-source",
   "name": "R",
   "pygments_lexer": "r",
   "version": "3.4.3"
  }
 },
 "nbformat": 4,
 "nbformat_minor": 2
}
